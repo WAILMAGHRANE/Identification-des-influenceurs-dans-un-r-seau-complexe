{
 "cells": [
  {
   "cell_type": "code",
   "execution_count": 1,
   "metadata": {
    "colab": {
     "base_uri": "https://localhost:8080/"
    },
    "id": "IuZ0H8LMk8Ec",
    "outputId": "6e9e7e2c-893e-4084-edce-94bcf5126a15"
   },
   "outputs": [
    {
     "name": "stdout",
     "output_type": "stream",
     "text": [
      "^C\n",
      "Note: you may need to restart the kernel to use updated packages.\n"
     ]
    }
   ],
   "source": [
    "pip install  import_ipynb"
   ]
  },
  {
   "cell_type": "code",
   "execution_count": null,
   "metadata": {
    "colab": {
     "base_uri": "https://localhost:8080/"
    },
    "id": "YYDW3ehBD4oC",
    "outputId": "327d3b5c-b2d9-4892-fed3-f75f5ff52e13"
   },
   "outputs": [],
   "source": [
    "pip install ndlib"
   ]
  },
  {
   "cell_type": "code",
   "execution_count": null,
   "metadata": {
    "colab": {
     "base_uri": "https://localhost:8080/"
    },
    "id": "sSTGCN70mQen",
    "outputId": "a7c2ba83-f160-4878-c477-283d72f1653c"
   },
   "outputs": [],
   "source": [
    "import pandas as pd\n",
    "import numpy as np\n",
    "from collections import defaultdict\n",
    "import networkx as nx\n",
    "import matplotlib.pyplot as plt\n",
    "from matplotlib import colors\n",
    "from matplotlib import cm\n",
    "from math import *\n",
    "import pandas as pd\n",
    "import import_ipynb \n",
    "import ndlib.models.ModelConfig as mc\n",
    "import ndlib.models.epidemics as ep\n",
    "\n",
    "from TOPSIS import Topsis"
   ]
  },
  {
   "cell_type": "code",
   "execution_count": null,
   "metadata": {
    "colab": {
     "base_uri": "https://localhost:8080/",
     "height": 761
    },
    "id": "CqlOWY6emTmP",
    "outputId": "d313c633-c74e-4912-be4e-e3be586dc415"
   },
   "outputs": [],
   "source": [
    "# Read facebook dataset\n",
    "plt.figure(figsize=(30,20))\n",
    "G=nx.read_edgelist('Data/karaty.txt',create_using=nx.Graph(),nodetype=int)\n",
    "sp=nx.spring_layout(G)\n",
    "print(nx.info(G))\n",
    "nx.draw_networkx(G,pos=sp,with_labels=False,node_size=35)\n",
    "plt.title('figure 1')\n",
    "\n",
    "plt.axis('off')\n",
    "\n",
    "plt.show()"
   ]
  },
  {
   "cell_type": "code",
   "execution_count": null,
   "metadata": {
    "id": "RUZQdDpQmWL4"
   },
   "outputs": [],
   "source": [
    "# Centrality measures\n",
    "deg_centrality = nx.degree_centrality(G)\n",
    "close_centrality = nx.closeness_centrality(G)\n",
    "bet_centrality = nx.betweenness_centrality(G)\n",
    "eig_centrality=nx.eigenvector_centrality(G)"
   ]
  },
  {
   "cell_type": "code",
   "execution_count": null,
   "metadata": {
    "colab": {
     "base_uri": "https://localhost:8080/"
    },
    "id": "aWVUi_dXmYe-",
    "outputId": "e2339438-0101-4410-bd6b-32f36d1fb421"
   },
   "outputs": [],
   "source": [
    "Matrix=pd.DataFrame()#create dataframe\n",
    "for noued in G:\n",
    "    #add the name of each node with its measures centrality\n",
    "    Matrix=Matrix.append({'Node':str(noued),'w_Node':str(noued), 'DC':deg_centrality[noued], 'BC':bet_centrality[noued],\n",
    "                        'CC':close_centrality[noued], 'EC':eig_centrality[noued]},ignore_index=True)\n",
    "print(Matrix)\n",
    "Matrix.to_csv(\"Data/Matrix.csv\" ,index=False)"
   ]
  },
  {
   "cell_type": "code",
   "execution_count": null,
   "metadata": {
    "id": "7WmOUYLIXTfQ"
   },
   "outputs": [],
   "source": [
    "Matrix = pd.read_csv(\"Data/Matrix.csv\")"
   ]
  },
  {
   "cell_type": "code",
   "execution_count": null,
   "metadata": {
    "colab": {
     "base_uri": "https://localhost:8080/"
    },
    "id": "5hwV4rBw7Bor",
    "outputId": "455ece53-92ac-443a-804e-5c68a7450940"
   },
   "outputs": [],
   "source": [
    "Matrix_arr= Matrix[['DC','BC','CC','EC']].to_numpy()\n",
    "\n",
    "Matrix_arr"
   ]
  },
  {
   "cell_type": "code",
   "execution_count": null,
   "metadata": {
    "colab": {
     "base_uri": "https://localhost:8080/"
    },
    "id": "QMvHCWv5blE-",
    "outputId": "b7af11ad-0cd5-41e8-af56-2bf14fead6ac"
   },
   "outputs": [],
   "source": [
    "#ev_matrix_np \n",
    "m = 34\n",
    "ev_matrix_np = Matrix_arr\n",
    "sum = np.zeros(4)\n",
    "\n",
    "for i in range(m):\n",
    "  for j in range(4):\n",
    "    sum[j] += ev_matrix_np[i][j]\n",
    "\n",
    "p = np.copy(ev_matrix_np)\n",
    "\n",
    "for i in range(m):\n",
    "  for j in range(4):\n",
    "    p[i][j] = ev_matrix_np[i][j]/sum[j]\n",
    "\n",
    "\n",
    "p"
   ]
  },
  {
   "cell_type": "code",
   "execution_count": null,
   "metadata": {
    "colab": {
     "base_uri": "https://localhost:8080/"
    },
    "id": "9HkA0ZAuxeFy",
    "outputId": "d8b42306-9bd6-4a29-e66e-3d5563f28631"
   },
   "outputs": [],
   "source": [
    "k = 1/log(m)\n",
    "E = []\n",
    "plnp = []\n",
    "\n",
    "\n",
    "for j in range(4):\n",
    "  temp_sum = 0\n",
    "  for i in range(m):\n",
    "    try:\n",
    "       pij = p[i][j]\n",
    "       temp_sum += pij*log(pij)\n",
    "    except:\n",
    "      pij = 1\n",
    "      temp_sum += pij*log(pij)\n",
    "  E.append(-k*temp_sum)\n",
    "\n",
    "E"
   ]
  },
  {
   "cell_type": "code",
   "execution_count": null,
   "metadata": {
    "colab": {
     "base_uri": "https://localhost:8080/"
    },
    "id": "OqRWeUqtxhPf",
    "outputId": "6757f6a8-45c0-40a1-9ff4-b6a7c3ff4b7a"
   },
   "outputs": [],
   "source": [
    "D = []\n",
    "for i in range(4):\n",
    "  D.append(1-E[i])\n",
    "D"
   ]
  },
  {
   "cell_type": "code",
   "execution_count": null,
   "metadata": {
    "colab": {
     "base_uri": "https://localhost:8080/"
    },
    "id": "z_ObUWHmxjT7",
    "outputId": "dcb57fe8-ad63-4d40-d4f0-adef6553d5f4"
   },
   "outputs": [],
   "source": [
    "sm = np.sum(D)\n",
    "weights = [D[i]/sm for i in range(4)]\n",
    "weights"
   ]
  },
  {
   "cell_type": "code",
   "execution_count": null,
   "metadata": {
    "colab": {
     "base_uri": "https://localhost:8080/"
    },
    "id": "CEGWZuOpmaGq",
    "outputId": "ee996d58-8c2a-416b-da01-d239db596935"
   },
   "outputs": [],
   "source": [
    "# Decision Matrix for w_topsis\n",
    "Evaluation_matrix = Matrix_arr\n",
    "criteria = np.array([True,True,True,True])\n",
    "\n",
    "w_T = Topsis(Evaluation_matrix,weights,criteria)\n",
    "w_T.calc()"
   ]
  },
  {
   "cell_type": "code",
   "execution_count": null,
   "metadata": {
    "colab": {
     "base_uri": "https://localhost:8080/"
    },
    "id": "EHB5yTD7YWJd",
    "outputId": "cf6e6ab8-dbbf-4d16-f832-7ee18a0e8664"
   },
   "outputs": [],
   "source": [
    "Evaluation_matrix = Matrix_arr\n",
    "criteria = np.array([True,True,True,True])\n",
    "weights = [0.1,0.1,0.4,0.4]\n",
    "\n",
    "T = Topsis(Evaluation_matrix,weights,criteria)\n",
    "T.calc()"
   ]
  },
  {
   "cell_type": "code",
   "execution_count": null,
   "metadata": {
    "colab": {
     "base_uri": "https://localhost:8080/"
    },
    "id": "7k2IGlcB5fgm",
    "outputId": "6c1a0997-299a-4bc1-9543-b199f7beb8c4"
   },
   "outputs": [],
   "source": [
    "# S+ and S-\n",
    "print(\"best_distance\\t\", T.best_distance)\n",
    "print(\"worst_distance\\t\", T.worst_distance)"
   ]
  },
  {
   "cell_type": "code",
   "execution_count": null,
   "metadata": {
    "colab": {
     "base_uri": "https://localhost:8080/"
    },
    "id": "Zx_rC_2MYwrn",
    "outputId": "ab68241d-a7be-4e80-888f-d286eac0cecc"
   },
   "outputs": [],
   "source": [
    "# S+ and S-\n",
    "print(\"best_distance\\t\", w_T.best_distance)\n",
    "print(\"worst_distance\\t\", w_T.worst_distance)"
   ]
  },
  {
   "cell_type": "code",
   "execution_count": null,
   "metadata": {
    "colab": {
     "base_uri": "https://localhost:8080/"
    },
    "id": "jHtH9Hfy52-A",
    "outputId": "c5440058-817b-45d4-febe-36a7f5aced27"
   },
   "outputs": [],
   "source": [
    "print(\"worst_similarity\\t\", T.worst_similarity)\n",
    "print(\"rank_to_worst_similarity\\t\", T.rank_to_worst_similarity())"
   ]
  },
  {
   "cell_type": "code",
   "execution_count": null,
   "metadata": {
    "colab": {
     "base_uri": "https://localhost:8080/"
    },
    "id": "4mCxKEW1Y2V6",
    "outputId": "a1d68811-1cf1-4f9b-f27c-d5036318d4ff"
   },
   "outputs": [],
   "source": [
    "print(\"worst_similarity\\t\", w_T.worst_similarity)\n",
    "print(\"rank_to_worst_similarity\\t\", w_T.rank_to_worst_similarity())"
   ]
  },
  {
   "cell_type": "code",
   "execution_count": null,
   "metadata": {
    "colab": {
     "base_uri": "https://localhost:8080/"
    },
    "id": "9EvVT27m56Kd",
    "outputId": "0e4ef4c2-d6cf-428e-c851-3506933e4054"
   },
   "outputs": [],
   "source": [
    "print(\"best_similarity\\t\", T.best_similarity)\n",
    "print(\"rank_to_best_similarity\\t\", T.rank_to_best_similarity())"
   ]
  },
  {
   "cell_type": "code",
   "execution_count": null,
   "metadata": {
    "colab": {
     "base_uri": "https://localhost:8080/"
    },
    "id": "z3lKK02IY8dz",
    "outputId": "9da04e8b-a148-4b3b-9dda-360d177fe068"
   },
   "outputs": [],
   "source": [
    "print(\"best_similarity\\t\", w_T.best_similarity)\n",
    "print(\"rank_to_best_similarity\\t\", w_T.rank_to_best_similarity())"
   ]
  },
  {
   "cell_type": "code",
   "execution_count": null,
   "metadata": {
    "id": "N2y2yl3a7bJ2"
   },
   "outputs": [],
   "source": [
    "#Convert S+ and S- to array numpy\n",
    "Best_Dist = np.array(T.best_distance)\n",
    "Worst_Dist = np.array(T.worst_distance)"
   ]
  },
  {
   "cell_type": "code",
   "execution_count": null,
   "metadata": {
    "id": "V_qmU1EIZHVs"
   },
   "outputs": [],
   "source": [
    "#Convert S+ and S- to array numpy\n",
    "w_Best_Dist = np.array(w_T.best_distance)\n",
    "w_Worst_Dist = np.array(w_T.worst_distance)"
   ]
  },
  {
   "cell_type": "markdown",
   "metadata": {
    "id": "foXMXDty5_qi"
   },
   "source": [
    "Calculate Closness\n"
   ]
  },
  {
   "cell_type": "code",
   "execution_count": null,
   "metadata": {
    "id": "xfjUELP-5-8q"
   },
   "outputs": [],
   "source": [
    "Closnness = []\n",
    "Closnness = Worst_Dist / (Worst_Dist + Best_Dist)"
   ]
  },
  {
   "cell_type": "code",
   "execution_count": null,
   "metadata": {
    "id": "XxvQhiOzZYF6"
   },
   "outputs": [],
   "source": [
    "w_Closnness = []\n",
    "w_Closnness = w_Worst_Dist / (w_Worst_Dist + w_Best_Dist)"
   ]
  },
  {
   "cell_type": "code",
   "execution_count": null,
   "metadata": {
    "colab": {
     "base_uri": "https://localhost:8080/",
     "height": 423
    },
    "id": "uPuQBaVH6PQp",
    "outputId": "d8d7e0f0-5aff-4226-c69e-69810f26aecc"
   },
   "outputs": [],
   "source": [
    "#Convert S+, S- and Closnness to DataFrame \n",
    "Worst_Distance = pd.DataFrame(Worst_Dist,columns=['S-'])\n",
    "Best_Distance = pd.DataFrame(Best_Dist,columns=['S+'])\n",
    "Clos = pd.DataFrame(Closnness,columns=['C'])\n",
    "# Concatenate results\n",
    "Out = pd.concat([Best_Distance, Worst_Distance, Clos], axis=1)\n",
    "Out"
   ]
  },
  {
   "cell_type": "code",
   "execution_count": null,
   "metadata": {
    "colab": {
     "base_uri": "https://localhost:8080/",
     "height": 423
    },
    "id": "b7UaPfhKZhvs",
    "outputId": "f0e9820b-0292-4637-88df-17c065366d9f"
   },
   "outputs": [],
   "source": [
    "#Convert S+, S- and Closnness to DataFrame \n",
    "w_Worst_Distance = pd.DataFrame(w_Worst_Dist,columns=['S-'])\n",
    "w_Best_Distance = pd.DataFrame(w_Best_Dist,columns=['S+'])\n",
    "w_Clos = pd.DataFrame(w_Closnness,columns=['C'])\n",
    "# Concatenate results\n",
    "w_Out = pd.concat([w_Best_Distance, w_Worst_Distance, w_Clos], axis=1)\n",
    "w_Out"
   ]
  },
  {
   "cell_type": "code",
   "execution_count": null,
   "metadata": {
    "id": "TLIignLU6UOd"
   },
   "outputs": [],
   "source": [
    "#sort DataFrame by Closnness Column (Descending)\n",
    "Out = Out.sort_values(by=\"C\",ascending=False)\n",
    "Out\n",
    "\n",
    "# Save it into a csv file (out.csv)\n",
    "Out.to_csv(\"Data/Out.csv\",index=False)"
   ]
  },
  {
   "cell_type": "code",
   "execution_count": null,
   "metadata": {
    "id": "BDyPsYnJZ6QS"
   },
   "outputs": [],
   "source": [
    "#sort DataFrame by Closnness Column (Descending)\n",
    "w_Out = w_Out.sort_values(by=\"C\",ascending=False)\n",
    "w_Out\n",
    "\n",
    "# Save it into a csv file (out.csv)\n",
    "w_Out.to_csv(\"Data/w_Out.csv\",index=False)"
   ]
  },
  {
   "cell_type": "code",
   "execution_count": null,
   "metadata": {
    "colab": {
     "base_uri": "https://localhost:8080/"
    },
    "id": "genUs0PmAOKl",
    "outputId": "c8817dbb-a490-400a-cdc1-d45eabda0581"
   },
   "outputs": [],
   "source": [
    "#Call the function Ranking_closness\n",
    "#Function return the index of the grather value(Closness vector) based on a descending order\n",
    "def ranking_closness(data):\n",
    "    return [i for i in data.argsort()[-len(data):][::-1]]\n",
    "#Call the function Ranking_closness\n",
    "C = ranking_closness(Closnness)\n",
    "C\n",
    "\n"
   ]
  },
  {
   "cell_type": "code",
   "execution_count": null,
   "metadata": {
    "colab": {
     "base_uri": "https://localhost:8080/"
    },
    "id": "h_T1YM2LaIIH",
    "outputId": "0c5ee832-177b-4fd6-a778-036e450886ec"
   },
   "outputs": [],
   "source": [
    "#Call the function Ranking_closness\n",
    "#Function return the index of the grather value(Closness vector) based on a descending order\n",
    "def ranking_closness(data):\n",
    "    return [i for i in data.argsort()[-len(data):][::-1]]\n",
    "#Call the function Ranking_closness\n",
    "w_C = ranking_closness(w_Closnness)\n",
    "w_C\n",
    "\n"
   ]
  },
  {
   "cell_type": "code",
   "execution_count": null,
   "metadata": {
    "colab": {
     "base_uri": "https://localhost:8080/"
    },
    "id": "N3qr9qeUdrR6",
    "outputId": "7cd7509e-52f9-4161-c73e-bcac6479ab61"
   },
   "outputs": [],
   "source": [
    "\n",
    "#retrieve the nodes that correspond to the indices returned by the function above\n",
    "Tab = []\n",
    "for i in range(len(C)):\n",
    "       Tab.append(Matrix['Node'].loc[C[i]])\n",
    "        \n",
    "Tab"
   ]
  },
  {
   "cell_type": "code",
   "execution_count": null,
   "metadata": {
    "colab": {
     "base_uri": "https://localhost:8080/"
    },
    "id": "peeC-loMagMi",
    "outputId": "5ea66263-a4fd-46ef-bda5-30ffcefd5d3d"
   },
   "outputs": [],
   "source": [
    "\n",
    "#retrieve the nodes that correspond to the indices returned by the function above\n",
    "w_Tab = []\n",
    "for i in range(len(w_C)):\n",
    "       w_Tab.append(Matrix['w_Node'].loc[w_C[i]])\n",
    "        \n",
    "w_Tab"
   ]
  },
  {
   "cell_type": "code",
   "execution_count": null,
   "metadata": {
    "id": "VFKvGKNVAw3a"
   },
   "outputs": [],
   "source": [
    "#Convert Tab above to DataFrame \n",
    "Tab_Data=pd.DataFrame(Tab,columns=[\"Node\"])\n",
    "\n",
    "Tab_Data[\"Node\"].to_csv(\"Data/Topsis.csv\",index=False)"
   ]
  },
  {
   "cell_type": "code",
   "execution_count": null,
   "metadata": {
    "id": "JH5XKc_JduhE"
   },
   "outputs": [],
   "source": [
    "#Convert Tab above to DataFrame \n",
    "w_Tab_Data=pd.DataFrame(w_Tab,columns=[\"w_Node\"])\n",
    "\n",
    "w_Tab_Data[\"w_Node\"].to_csv(\"Data/w_Topsis.csv\",index=False)"
   ]
  },
  {
   "cell_type": "code",
   "execution_count": null,
   "metadata": {
    "colab": {
     "base_uri": "https://localhost:8080/",
     "height": 363
    },
    "id": "WjdT7IBiApR0",
    "outputId": "e114bfb6-8c3d-40fd-f1f2-c15717b9d9f4"
   },
   "outputs": [],
   "source": [
    "Final_Tab = pd.concat([pd.read_csv(\"Data/Out.csv\"),Tab_Data],axis=1)\n",
    "\n",
    "Final_Tab.head(10)"
   ]
  },
  {
   "cell_type": "code",
   "execution_count": null,
   "metadata": {
    "colab": {
     "base_uri": "https://localhost:8080/",
     "height": 363
    },
    "id": "hd3Zg1NjeH1p",
    "outputId": "54c44590-ecac-4810-a546-164595788e5c"
   },
   "outputs": [],
   "source": [
    "w_Final_Tab = pd.concat([pd.read_csv(\"Data/w_Out.csv\"),w_Tab_Data],axis=1)\n",
    "\n",
    "w_Final_Tab.head(10)"
   ]
  },
  {
   "cell_type": "code",
   "execution_count": null,
   "metadata": {
    "colab": {
     "base_uri": "https://localhost:8080/"
    },
    "id": "uJC9wYiSBLRJ",
    "outputId": "42e0d5af-b1e4-4198-da28-9570e2ba851a"
   },
   "outputs": [],
   "source": [
    "K = 10\n",
    "\n",
    "for i in range(K):\n",
    "    print(\"The\",i+1,\"top influential node is \",Final_Tab[\"Node\"][i])"
   ]
  },
  {
   "cell_type": "code",
   "execution_count": null,
   "metadata": {
    "colab": {
     "base_uri": "https://localhost:8080/"
    },
    "id": "cjfcEhhkeRr8",
    "outputId": "aac72c4f-b6d9-49dd-ab01-7175e8d51337"
   },
   "outputs": [],
   "source": [
    "K = 10\n",
    "\n",
    "for i in range(K):\n",
    "    print(\"The\",i+1,\"top influential node is \",w_Final_Tab[\"w_Node\"][i])"
   ]
  },
  {
   "cell_type": "code",
   "execution_count": null,
   "metadata": {
    "id": "FEmVeYgkBWv4"
   },
   "outputs": [],
   "source": [
    "Out1 = pd.concat([Matrix, Clos], axis=1)\n",
    "Out1\n",
    "Out1 = Out1.sort_values(by=\"C\",ascending=False)\n",
    "Out1\n",
    "\n",
    "# Save it into a csv file (out.csv)\n",
    "Out1.to_csv(\"Data/Out1.csv\",index=False)"
   ]
  },
  {
   "cell_type": "code",
   "execution_count": null,
   "metadata": {
    "id": "6FUeWlKUefQB"
   },
   "outputs": [],
   "source": [
    "w_Out1 = pd.concat([Matrix, w_Clos], axis=1)\n",
    "w_Out1\n",
    "w_Out1 = w_Out1.sort_values(by=\"C\",ascending=False)\n",
    "w_Out1\n",
    "\n",
    "# Save it into a csv file (out.csv)\n",
    "w_Out1.to_csv(\"Data/w_Out1.csv\",index=False)"
   ]
  },
  {
   "cell_type": "markdown",
   "metadata": {
    "id": "u_X_HuUsB9nv"
   },
   "source": [
    "**The top-10 ranked nodes by Topsis and Centrality measures**"
   ]
  },
  {
   "cell_type": "code",
   "execution_count": null,
   "metadata": {
    "id": "W2vnEMxbBq21"
   },
   "outputs": [],
   "source": [
    "#The top-10 ranked nodes by degree centrality (DC)\n",
    "DCR = Out1[[\"Node\", \"DC\"]]\n",
    "DCR = DCR.sort_values(by='DC', ascending=False)\n",
    "DCR.rename(columns = {'Node':'DCN'}, inplace=True)\n",
    "\n",
    "DCR[\"DCN\"].to_csv(\"Data/DCR.csv\",index=False)"
   ]
  },
  {
   "cell_type": "code",
   "execution_count": null,
   "metadata": {
    "id": "eO3aPFeie395"
   },
   "outputs": [],
   "source": [
    "#The top-10 ranked nodes by degree centrality (DC)\n",
    "w_DCR = w_Out1[[\"w_Node\", \"DC\"]]\n",
    "w_DCR = w_DCR.sort_values(by='DC', ascending=False)\n",
    "w_DCR.rename(columns = {'w_Node':'w_DCN'}, inplace=True)\n",
    "\n",
    "w_DCR[\"w_DCN\"].to_csv(\"Data/w_DCR.csv\",index=False)"
   ]
  },
  {
   "cell_type": "code",
   "execution_count": null,
   "metadata": {
    "id": "Ot2QtwlqCFCx"
   },
   "outputs": [],
   "source": [
    "#The top-10 ranked nodes by betweenness centrality (BC)\n",
    "BCR = Out1[[\"Node\", \"BC\"]]\n",
    "BCR = BCR.sort_values(by='BC', ascending=False)\n",
    "BCR.rename(columns = {'Node':'BCN'}, inplace=True)\n",
    "\n",
    "BCR[\"BCN\"].to_csv(\"Data/BCR.csv\",index=False)"
   ]
  },
  {
   "cell_type": "code",
   "execution_count": null,
   "metadata": {
    "id": "z_ILwNlffiRL"
   },
   "outputs": [],
   "source": [
    "#The top-10 ranked nodes by betweenness centrality (BC)\n",
    "w_BCR = w_Out1[[\"w_Node\", \"BC\"]]\n",
    "w_BCR = w_BCR.sort_values(by='BC', ascending=False)\n",
    "w_BCR.rename(columns = {'w_Node':'w_BCN'}, inplace=True)\n",
    "\n",
    "w_BCR[\"w_BCN\"].to_csv(\"Data/w_BCR.csv\",index=False)"
   ]
  },
  {
   "cell_type": "code",
   "execution_count": null,
   "metadata": {
    "id": "7VbkTOSLCLe5"
   },
   "outputs": [],
   "source": [
    "#The top-10 ranked nodes by closeness centrality (CC)\n",
    "CCR = Out1[[\"Node\", \"CC\"]]\n",
    "CCR = CCR.sort_values(by='CC', ascending=False)\n",
    "CCR.rename(columns = {'Node':'CCN'}, inplace=True)\n",
    "\n",
    "CCR[\"CCN\"].to_csv(\"Data/CCR.csv\",index=False)"
   ]
  },
  {
   "cell_type": "code",
   "execution_count": null,
   "metadata": {
    "id": "577cblBSf2DN"
   },
   "outputs": [],
   "source": [
    "#The top-10 ranked nodes by closeness centrality (CC)\n",
    "w_CCR = w_Out1[[\"w_Node\", \"CC\"]]\n",
    "w_CCR = w_CCR.sort_values(by='CC', ascending=False)\n",
    "w_CCR.rename(columns = {'w_Node':'w_CCN'}, inplace=True)\n",
    "\n",
    "w_CCR[\"w_CCN\"].to_csv(\"Data/w_CCR.csv\",index=False)"
   ]
  },
  {
   "cell_type": "code",
   "execution_count": null,
   "metadata": {
    "id": "94csVS-agTi4"
   },
   "outputs": [],
   "source": [
    "#The top-10 ranked nodes by eigenvector centrality (EC)\n",
    "ECR = Out1[[\"Node\", \"EC\"]]\n",
    "ECR = ECR.sort_values(by='EC', ascending=False)\n",
    "ECR.rename(columns = {'Node':'ECN'}, inplace=True)\n",
    "\n",
    "ECR[\"ECN\"].to_csv(\"Data/ECR.csv\",index=False)"
   ]
  },
  {
   "cell_type": "code",
   "execution_count": null,
   "metadata": {
    "id": "uQpgKiq9CRb2"
   },
   "outputs": [],
   "source": [
    "#The top-10 ranked nodes by eigenvector centrality (EC)\n",
    "w_ECR = Out1[[\"w_Node\", \"EC\"]]\n",
    "w_ECR = w_ECR.sort_values(by='EC', ascending=False)\n",
    "w_ECR.rename(columns = {'w_Node':'w_ECN'}, inplace=True)\n",
    "\n",
    "w_ECR[\"w_ECN\"].to_csv(\"Data/w_ECR.csv\",index=False)"
   ]
  },
  {
   "cell_type": "code",
   "execution_count": null,
   "metadata": {
    "id": "BDL1B9nWCc_2"
   },
   "outputs": [],
   "source": [
    "fac = pd.concat([pd.read_csv(\"Data/DCR.csv\"),pd.read_csv(\"Data/BCR.csv\"), pd.read_csv(\"Data/CCR.csv\"), pd.read_csv(\"Data/ECR.csv\")],axis=1)\n"
   ]
  },
  {
   "cell_type": "code",
   "execution_count": null,
   "metadata": {
    "id": "AcvX42-rgYF3"
   },
   "outputs": [],
   "source": [
    "w_fac = pd.concat([pd.read_csv(\"Data/w_DCR.csv\"),pd.read_csv(\"Data/w_BCR.csv\"), pd.read_csv(\"Data/w_CCR.csv\"), pd.read_csv(\"Data/w_ECR.csv\")],axis=1)\n"
   ]
  },
  {
   "cell_type": "code",
   "execution_count": null,
   "metadata": {
    "colab": {
     "base_uri": "https://localhost:8080/",
     "height": 363
    },
    "id": "B4hCbugJCkXn",
    "outputId": "7380af26-da37-44eb-8404-d24c54af8ef6"
   },
   "outputs": [],
   "source": [
    "#Concate the results\n",
    "facebook = pd.concat([fac,pd.read_csv(\"Data/Topsis.csv\")],axis=1)\n",
    "\n",
    "facebook = facebook.head(10)\n",
    "facebook"
   ]
  },
  {
   "cell_type": "code",
   "execution_count": null,
   "metadata": {
    "colab": {
     "base_uri": "https://localhost:8080/",
     "height": 363
    },
    "id": "FImJuPvpgzeu",
    "outputId": "c84c3e2a-e137-4bf2-aa83-c205b141665e"
   },
   "outputs": [],
   "source": [
    "#Concate the results\n",
    "w_facebook = pd.concat([w_fac,pd.read_csv(\"Data/w_Topsis.csv\")],axis=1)\n",
    "\n",
    "w_facebook = w_facebook.head(10)\n",
    "w_facebook"
   ]
  },
  {
   "cell_type": "markdown",
   "metadata": {
    "id": "hqnNSkOyCvpZ"
   },
   "source": [
    "**Application SI Model**"
   ]
  },
  {
   "cell_type": "code",
   "execution_count": null,
   "metadata": {
    "id": "ZaeQqDpUCr0k"
   },
   "outputs": [],
   "source": [
    "def SI(node):\n",
    "    n = 34\n",
    "    model = ep.SIModel(G)\n",
    "    cfg = mc.Configuration()\n",
    "    cfg.add_model_parameter('beta', 1)\n",
    "    cfg.add_model_initial_configuration('Infected', node)\n",
    "    model.set_initial_status(cfg)\n",
    "    res = pd.DataFrame(columns=['iteration', 'nb_Susceptible', 'Nb_infected'])\n",
    "    for i in range(n):\n",
    "        iteration = model.iteration()\n",
    "        res.loc[len(res.index)] = [iteration['iteration'],iteration['node_count'][0], iteration['node_count'][1] ]\n",
    "        if iteration['node_count'][1] == n:\n",
    "            break \n",
    "    return res"
   ]
  },
  {
   "cell_type": "code",
   "execution_count": null,
   "metadata": {
    "id": "AN3WQ5iNDCvv"
   },
   "outputs": [],
   "source": [
    "Rank_DC = SI(set(facebook['DCN']))\n",
    "Rank_BC = SI(set(facebook['BCN']))\n",
    "Rank_CC = SI(set(facebook['CCN']))\n",
    "Rank_EC = SI(set(facebook['ECN']))\n",
    "Rank_Topsis = SI(set(facebook['Node']))"
   ]
  },
  {
   "cell_type": "code",
   "execution_count": null,
   "metadata": {
    "id": "JHF1ab6bhbEw"
   },
   "outputs": [],
   "source": [
    "w_Rank_DC = SI(set(w_facebook['w_DCN']))\n",
    "w_Rank_BC = SI(set(w_facebook['w_BCN']))\n",
    "w_Rank_CC = SI(set(w_facebook['w_CCN']))\n",
    "w_Rank_EC = SI(set(w_facebook['w_ECN']))\n",
    "w_Rank_Topsis = SI(set(w_facebook['w_Node']))"
   ]
  },
  {
   "cell_type": "code",
   "execution_count": null,
   "metadata": {
    "colab": {
     "base_uri": "https://localhost:8080/",
     "height": 206
    },
    "id": "KrV-xdX6EPwo",
    "outputId": "7f2ab74a-15c3-4769-81b1-bfa99ee4b5dc"
   },
   "outputs": [],
   "source": [
    "Rank_Topsis"
   ]
  },
  {
   "cell_type": "code",
   "execution_count": null,
   "metadata": {
    "colab": {
     "base_uri": "https://localhost:8080/",
     "height": 175
    },
    "id": "HoATXiYhhrYq",
    "outputId": "f6f9b84a-0366-4c28-fd4c-62b8eb516fd3"
   },
   "outputs": [],
   "source": [
    "w_Rank_Topsis"
   ]
  },
  {
   "cell_type": "code",
   "execution_count": null,
   "metadata": {
    "colab": {
     "base_uri": "https://localhost:8080/",
     "height": 567
    },
    "id": "tgdJ2TiJEtQi",
    "outputId": "1d2cd555-8fbb-4f74-a60d-45eb421b6906"
   },
   "outputs": [],
   "source": [
    "fig, axs = plt.subplots(2, 2, figsize=(15, 9))\n",
    "axs[0, 0].plot(Rank_DC['iteration'], Rank_DC['Nb_infected'], label=\"DC\")\n",
    "axs[0, 0].plot(Rank_Topsis['iteration'], Rank_Topsis['Nb_infected'], label=\"Topsis\")\n",
    "axs[0, 0].plot(w_Rank_Topsis['iteration'], w_Rank_Topsis['Nb_infected'], label=\"w_Topsis\")\n",
    "axs[0, 0].set_title(\"DC vs Topsis vs w_Topsis\")\n",
    "axs[0, 0].legend()\n",
    "\n",
    "axs[0, 1].plot(Rank_BC['iteration'], Rank_BC['Nb_infected'], label=\"BC\")\n",
    "axs[0, 1].plot(Rank_Topsis['iteration'], Rank_Topsis['Nb_infected'], label=\"Topsis\")\n",
    "axs[0, 1].plot(w_Rank_Topsis['iteration'], w_Rank_Topsis['Nb_infected'], label=\"w_Topsis\")\n",
    "axs[0, 1].set_title(\"BC vs Topsis vs w_Topsis\")\n",
    "axs[0, 1].legend()\n",
    "\n",
    "axs[1, 0].plot(Rank_CC['iteration'], Rank_CC['Nb_infected'], label=\"CC\")\n",
    "axs[1, 0].plot(Rank_Topsis['iteration'], Rank_Topsis['Nb_infected'], label=\"Topsis\")\n",
    "axs[1, 0].plot(w_Rank_Topsis['iteration'], w_Rank_Topsis['Nb_infected'], label=\"w_Topsis\")\n",
    "axs[1, 0].set_title(\"CC vs Topsis vs w_Topsiss\")\n",
    "axs[1, 0].legend()\n",
    "\n",
    "axs[1, 1].plot(Rank_EC['iteration'], Rank_EC['Nb_infected'], label=\"EC\")\n",
    "axs[1, 1].plot(Rank_Topsis['iteration'], Rank_Topsis['Nb_infected'], label=\"Topsis\")\n",
    "axs[1, 1].plot(w_Rank_Topsis['iteration'], w_Rank_Topsis['Nb_infected'], label=\"w_Topsis\")\n",
    "axs[1, 1].set_title(\"EC vs Topsis vs w_Topsis\")\n",
    "axs[1, 1].legend()\n",
    "\n",
    "for ax in axs.flat:\n",
    "    ax.set(xlabel='t', ylabel='F(t)')"
   ]
  }
 ],
 "metadata": {
  "colab": {
   "provenance": []
  },
  "kernelspec": {
   "display_name": "Python 3 (ipykernel)",
   "language": "python",
   "name": "python3"
  },
  "language_info": {
   "codemirror_mode": {
    "name": "ipython",
    "version": 3
   },
   "file_extension": ".py",
   "mimetype": "text/x-python",
   "name": "python",
   "nbconvert_exporter": "python",
   "pygments_lexer": "ipython3",
   "version": "3.9.13"
  }
 },
 "nbformat": 4,
 "nbformat_minor": 1
}
