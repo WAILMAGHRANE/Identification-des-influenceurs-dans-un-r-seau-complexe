{
 "cells": [
  {
   "cell_type": "code",
   "execution_count": 1,
   "metadata": {
    "colab": {
     "base_uri": "https://localhost:8080/"
    },
    "id": "IuZ0H8LMk8Ec",
    "outputId": "6e9e7e2c-893e-4084-edce-94bcf5126a15"
   },
   "outputs": [
    {
     "name": "stdout",
     "output_type": "stream",
     "text": [
      "Requirement already satisfied: import_ipynb in c:\\users\\wail_maghrane\\anaconda3\\lib\\site-packages (0.1.4)\n",
      "Requirement already satisfied: IPython in c:\\users\\wail_maghrane\\anaconda3\\lib\\site-packages (from import_ipynb) (7.31.1)\n",
      "Requirement already satisfied: nbformat in c:\\users\\wail_maghrane\\anaconda3\\lib\\site-packages (from import_ipynb) (5.5.0)\n",
      "Requirement already satisfied: decorator in c:\\users\\wail_maghrane\\anaconda3\\lib\\site-packages (from IPython->import_ipynb) (5.1.1)\n",
      "Requirement already satisfied: setuptools>=18.5 in c:\\users\\wail_maghrane\\anaconda3\\lib\\site-packages (from IPython->import_ipynb) (63.4.1)\n",
      "Requirement already satisfied: backcall in c:\\users\\wail_maghrane\\anaconda3\\lib\\site-packages (from IPython->import_ipynb) (0.2.0)\n",
      "Requirement already satisfied: pickleshare in c:\\users\\wail_maghrane\\anaconda3\\lib\\site-packages (from IPython->import_ipynb) (0.7.5)\n",
      "Requirement already satisfied: matplotlib-inline in c:\\users\\wail_maghrane\\anaconda3\\lib\\site-packages (from IPython->import_ipynb) (0.1.6)\n",
      "Requirement already satisfied: colorama in c:\\users\\wail_maghrane\\anaconda3\\lib\\site-packages (from IPython->import_ipynb) (0.4.5)\n",
      "Requirement already satisfied: pygments in c:\\users\\wail_maghrane\\anaconda3\\lib\\site-packages (from IPython->import_ipynb) (2.11.2)\n",
      "Requirement already satisfied: prompt-toolkit!=3.0.0,!=3.0.1,<3.1.0,>=2.0.0 in c:\\users\\wail_maghrane\\anaconda3\\lib\\site-packages (from IPython->import_ipynb) (3.0.20)\n",
      "Requirement already satisfied: jedi>=0.16 in c:\\users\\wail_maghrane\\anaconda3\\lib\\site-packages (from IPython->import_ipynb) (0.18.1)\n",
      "Requirement already satisfied: traitlets>=4.2 in c:\\users\\wail_maghrane\\anaconda3\\lib\\site-packages (from IPython->import_ipynb) (5.1.1)\n",
      "Requirement already satisfied: fastjsonschema in c:\\users\\wail_maghrane\\anaconda3\\lib\\site-packages (from nbformat->import_ipynb) (2.16.2)\n",
      "Requirement already satisfied: jupyter_core in c:\\users\\wail_maghrane\\anaconda3\\lib\\site-packages (from nbformat->import_ipynb) (4.11.1)\n",
      "Requirement already satisfied: jsonschema>=2.6 in c:\\users\\wail_maghrane\\anaconda3\\lib\\site-packages (from nbformat->import_ipynb) (4.16.0)\n",
      "Requirement already satisfied: parso<0.9.0,>=0.8.0 in c:\\users\\wail_maghrane\\anaconda3\\lib\\site-packages (from jedi>=0.16->IPython->import_ipynb) (0.8.3)\n",
      "Requirement already satisfied: attrs>=17.4.0 in c:\\users\\wail_maghrane\\anaconda3\\lib\\site-packages (from jsonschema>=2.6->nbformat->import_ipynb) (21.4.0)\n",
      "Requirement already satisfied: pyrsistent!=0.17.0,!=0.17.1,!=0.17.2,>=0.14.0 in c:\\users\\wail_maghrane\\anaconda3\\lib\\site-packages (from jsonschema>=2.6->nbformat->import_ipynb) (0.18.0)\n",
      "Requirement already satisfied: wcwidth in c:\\users\\wail_maghrane\\anaconda3\\lib\\site-packages (from prompt-toolkit!=3.0.0,!=3.0.1,<3.1.0,>=2.0.0->IPython->import_ipynb) (0.2.5)\n",
      "Requirement already satisfied: pywin32>=1.0 in c:\\users\\wail_maghrane\\anaconda3\\lib\\site-packages (from jupyter_core->nbformat->import_ipynb) (302)\n",
      "Note: you may need to restart the kernel to use updated packages.\n"
     ]
    }
   ],
   "source": [
    "pip install  import_ipynb"
   ]
  },
  {
   "cell_type": "code",
   "execution_count": 2,
   "metadata": {
    "colab": {
     "base_uri": "https://localhost:8080/"
    },
    "id": "YYDW3ehBD4oC",
    "outputId": "327d3b5c-b2d9-4892-fed3-f75f5ff52e13"
   },
   "outputs": [
    {
     "name": "stdout",
     "output_type": "stream",
     "text": [
      "Requirement already satisfied: ndlib in c:\\users\\wail_maghrane\\anaconda3\\lib\\site-packages (5.1.1)\n",
      "Requirement already satisfied: networkx in c:\\users\\wail_maghrane\\anaconda3\\lib\\site-packages (from ndlib) (2.8.4)\n",
      "Requirement already satisfied: netdispatch in c:\\users\\wail_maghrane\\anaconda3\\lib\\site-packages (from ndlib) (0.1.0)\n",
      "Requirement already satisfied: bokeh in c:\\users\\wail_maghrane\\anaconda3\\lib\\site-packages (from ndlib) (2.4.3)\n",
      "Requirement already satisfied: future in c:\\users\\wail_maghrane\\anaconda3\\lib\\site-packages (from ndlib) (0.18.2)\n",
      "Requirement already satisfied: python-igraph in c:\\users\\wail_maghrane\\anaconda3\\lib\\site-packages (from ndlib) (0.10.2)\n",
      "Requirement already satisfied: scipy in c:\\users\\wail_maghrane\\anaconda3\\lib\\site-packages (from ndlib) (1.9.1)\n",
      "Requirement already satisfied: numpy in c:\\users\\wail_maghrane\\anaconda3\\lib\\site-packages (from ndlib) (1.21.5)\n",
      "Requirement already satisfied: dynetx in c:\\users\\wail_maghrane\\anaconda3\\lib\\site-packages (from ndlib) (0.3.1)\n",
      "Requirement already satisfied: PyYAML>=3.10 in c:\\users\\wail_maghrane\\anaconda3\\lib\\site-packages (from bokeh->ndlib) (6.0)\n",
      "Requirement already satisfied: Jinja2>=2.9 in c:\\users\\wail_maghrane\\anaconda3\\lib\\site-packages (from bokeh->ndlib) (2.11.3)\n",
      "Requirement already satisfied: tornado>=5.1 in c:\\users\\wail_maghrane\\anaconda3\\lib\\site-packages (from bokeh->ndlib) (6.1)\n",
      "Requirement already satisfied: packaging>=16.8 in c:\\users\\wail_maghrane\\anaconda3\\lib\\site-packages (from bokeh->ndlib) (21.3)\n",
      "Requirement already satisfied: typing-extensions>=3.10.0 in c:\\users\\wail_maghrane\\anaconda3\\lib\\site-packages (from bokeh->ndlib) (4.3.0)\n",
      "Requirement already satisfied: pillow>=7.1.0 in c:\\users\\wail_maghrane\\anaconda3\\lib\\site-packages (from bokeh->ndlib) (9.2.0)\n",
      "Requirement already satisfied: tqdm in c:\\users\\wail_maghrane\\anaconda3\\lib\\site-packages (from dynetx->ndlib) (4.64.1)\n",
      "Requirement already satisfied: decorator in c:\\users\\wail_maghrane\\anaconda3\\lib\\site-packages (from dynetx->ndlib) (5.1.1)\n",
      "Requirement already satisfied: igraph==0.10.2 in c:\\users\\wail_maghrane\\anaconda3\\lib\\site-packages (from python-igraph->ndlib) (0.10.2)\n",
      "Requirement already satisfied: texttable>=1.6.2 in c:\\users\\wail_maghrane\\anaconda3\\lib\\site-packages (from igraph==0.10.2->python-igraph->ndlib) (1.6.7)\n",
      "Requirement already satisfied: MarkupSafe>=0.23 in c:\\users\\wail_maghrane\\anaconda3\\lib\\site-packages (from Jinja2>=2.9->bokeh->ndlib) (2.0.1)\n",
      "Requirement already satisfied: pyparsing!=3.0.5,>=2.0.2 in c:\\users\\wail_maghrane\\anaconda3\\lib\\site-packages (from packaging>=16.8->bokeh->ndlib) (3.0.9)\n",
      "Requirement already satisfied: colorama in c:\\users\\wail_maghrane\\anaconda3\\lib\\site-packages (from tqdm->dynetx->ndlib) (0.4.5)\n",
      "Note: you may need to restart the kernel to use updated packages.\n"
     ]
    }
   ],
   "source": [
    "pip install ndlib"
   ]
  },
  {
   "cell_type": "code",
   "execution_count": 3,
   "metadata": {
    "colab": {
     "base_uri": "https://localhost:8080/"
    },
    "id": "sSTGCN70mQen",
    "outputId": "a7c2ba83-f160-4878-c477-283d72f1653c"
   },
   "outputs": [
    {
     "name": "stdout",
     "output_type": "stream",
     "text": [
      "importing Jupyter notebook from TOPSIS.ipynb\n"
     ]
    }
   ],
   "source": [
    "import pandas as pd\n",
    "import numpy as np\n",
    "from collections import defaultdict\n",
    "import networkx as nx\n",
    "import matplotlib.pyplot as plt\n",
    "from matplotlib import colors\n",
    "from matplotlib import cm\n",
    "from math import *\n",
    "import pandas as pd\n",
    "import import_ipynb \n",
    "import ndlib.models.ModelConfig as mc\n",
    "import ndlib.models.epidemics as ep\n",
    "\n",
    "from TOPSIS import Topsis"
   ]
  },
  {
   "cell_type": "code",
   "execution_count": 4,
   "metadata": {
    "colab": {
     "base_uri": "https://localhost:8080/",
     "height": 761
    },
    "id": "CqlOWY6emTmP",
    "outputId": "d313c633-c74e-4912-be4e-e3be586dc415"
   },
   "outputs": [
    {
     "name": "stdout",
     "output_type": "stream",
     "text": [
      "Graph with 34 nodes and 78 edges\n"
     ]
    },
    {
     "name": "stderr",
     "output_type": "stream",
     "text": [
      "C:\\Users\\wail_maghrane\\AppData\\Local\\Temp\\ipykernel_14684\\1110000465.py:5: DeprecationWarning: info is deprecated and will be removed in version 3.0.\n",
      "\n",
      "  print(nx.info(G))\n"
     ]
    },
    {
     "data": {
      "image/png": "[encoded data removed]",
      "text/plain": [
       "<Figure size 3000x2000 with 1 Axes>"
      ]
     },
     "metadata": {},
     "output_type": "display_data"
    }
   ],
   "source": [
    "# Read facebook dataset\n",
    "plt.figure(figsize=(30,20))\n",
    "G=nx.read_edgelist('Data/karate.txt',create_using=nx.Graph(),nodetype=int)\n",
    "sp=nx.spring_layout(G)\n",
    "print(nx.info(G))\n",
    "nx.draw_networkx(G,pos=sp,with_labels=False,node_size=35)\n",
    "plt.title('figure 1')\n",
    "\n",
    "plt.axis('off')\n",
    "\n",
    "plt.show()"
   ]
  },
  {
   "cell_type": "code",
   "execution_count": 5,
   "metadata": {
    "id": "RUZQdDpQmWL4"
   },
   "outputs": [],
   "source": [
    "# Centrality measures\n",
    "deg_centrality = nx.degree_centrality(G)\n",
    "close_centrality = nx.closeness_centrality(G)\n",
    "bet_centrality = nx.betweenness_centrality(G)\n",
    "eig_centrality=nx.eigenvector_centrality(G)"
   ]
  },
  {
   "cell_type": "code",
   "execution_count": 6,
   "metadata": {
    "colab": {
     "base_uri": "https://localhost:8080/"
    },
    "id": "aWVUi_dXmYe-",
    "outputId": "e2339438-0101-4410-bd6b-32f36d1fb421"
   },
   "outputs": [
    {
     "name": "stdout",
     "output_type": "stream",
     "text": [
      "   Node w_Node        DC        BC        CC        EC\n",
      "0     1      1  0.484848  0.437635  0.568966  0.355483\n",
      "1     2      2  0.272727  0.053937  0.485294  0.265954\n",
      "2     3      3  0.303030  0.143657  0.559322  0.317189\n",
      "3     4      4  0.181818  0.011909  0.464789  0.211174\n",
      "4     5      5  0.090909  0.000631  0.379310  0.075966\n",
      "5     6      6  0.121212  0.029987  0.383721  0.079481\n",
      "6     7      7  0.121212  0.029987  0.383721  0.079481\n",
      "7     8      8  0.121212  0.000000  0.440000  0.170955\n",
      "8     9      9  0.151515  0.055927  0.515625  0.227405\n",
      "9    11     11  0.090909  0.000631  0.379310  0.075966\n",
      "10   12     12  0.030303  0.000000  0.366667  0.052854\n",
      "11   13     13  0.060606  0.000000  0.370787  0.084252\n",
      "12   14     14  0.151515  0.045863  0.515625  0.226470\n",
      "13   20     20  0.090909  0.032475  0.500000  0.147911\n",
      "14   22     22  0.060606  0.000000  0.375000  0.092397\n",
      "15   32     32  0.181818  0.138276  0.540984  0.191036\n",
      "16   10     10  0.060606  0.000848  0.434211  0.102675\n",
      "17   17     17  0.060606  0.000000  0.284483  0.023635\n",
      "18   18     18  0.060606  0.000000  0.375000  0.092397\n",
      "19   24     24  0.151515  0.017614  0.392857  0.150123\n",
      "20   26     26  0.090909  0.003840  0.375000  0.059208\n",
      "21   25     25  0.090909  0.002210  0.375000  0.057054\n",
      "22   28     28  0.121212  0.022333  0.458333  0.133479\n",
      "23   29     29  0.090909  0.001795  0.452055  0.131079\n",
      "24   30     30  0.121212  0.002922  0.383721  0.134965\n",
      "25   27     27  0.060606  0.000000  0.362637  0.075582\n",
      "26   31     31  0.121212  0.014412  0.458333  0.174760\n",
      "27   33     33  0.363636  0.145247  0.515625  0.308651\n",
      "28   15     15  0.060606  0.000000  0.370787  0.101406\n",
      "29   16     16  0.060606  0.000000  0.370787  0.101406\n",
      "30   19     19  0.060606  0.000000  0.370787  0.101406\n",
      "31   21     21  0.060606  0.000000  0.370787  0.101406\n",
      "32   23     23  0.060606  0.000000  0.370787  0.101406\n",
      "33   34     34  0.515152  0.304075  0.550000  0.373371\n"
     ]
    },
    {
     "name": "stderr",
     "output_type": "stream",
     "text": [
      "C:\\Users\\wail_maghrane\\AppData\\Local\\Temp\\ipykernel_14684\\3912402994.py:4: FutureWarning: The frame.append method is deprecated and will be removed from pandas in a future version. Use pandas.concat instead.\n",
      "  Matrix=Matrix.append({'Node':str(noued),'w_Node':str(noued), 'DC':deg_centrality[noued], 'BC':bet_centrality[noued],\n",
      "C:\\Users\\wail_maghrane\\AppData\\Local\\Temp\\ipykernel_14684\\3912402994.py:4: FutureWarning: The frame.append method is deprecated and will be removed from pandas in a future version. Use pandas.concat instead.\n",
      "  Matrix=Matrix.append({'Node':str(noued),'w_Node':str(noued), 'DC':deg_centrality[noued], 'BC':bet_centrality[noued],\n",
      "C:\\Users\\wail_maghrane\\AppData\\Local\\Temp\\ipykernel_14684\\3912402994.py:4: FutureWarning: The frame.append method is deprecated and will be removed from pandas in a future version. Use pandas.concat instead.\n",
      "  Matrix=Matrix.append({'Node':str(noued),'w_Node':str(noued), 'DC':deg_centrality[noued], 'BC':bet_centrality[noued],\n",
      "C:\\Users\\wail_maghrane\\AppData\\Local\\Temp\\ipykernel_14684\\3912402994.py:4: FutureWarning: The frame.append method is deprecated and will be removed from pandas in a future version. Use pandas.concat instead.\n",
      "  Matrix=Matrix.append({'Node':str(noued),'w_Node':str(noued), 'DC':deg_centrality[noued], 'BC':bet_centrality[noued],\n",
      "C:\\Users\\wail_maghrane\\AppData\\Local\\Temp\\ipykernel_14684\\3912402994.py:4: FutureWarning: The frame.append method is deprecated and will be removed from pandas in a future version. Use pandas.concat instead.\n",
      "  Matrix=Matrix.append({'Node':str(noued),'w_Node':str(noued), 'DC':deg_centrality[noued], 'BC':bet_centrality[noued],\n",
      "C:\\Users\\wail_maghrane\\AppData\\Local\\Temp\\ipykernel_14684\\3912402994.py:4: FutureWarning: The frame.append method is deprecated and will be removed from pandas in a future version. Use pandas.concat instead.\n",
      "  Matrix=Matrix.append({'Node':str(noued),'w_Node':str(noued), 'DC':deg_centrality[noued], 'BC':bet_centrality[noued],\n",
      "C:\\Users\\wail_maghrane\\AppData\\Local\\Temp\\ipykernel_14684\\3912402994.py:4: FutureWarning: The frame.append method is deprecated and will be removed from pandas in a future version. Use pandas.concat instead.\n",
      "  Matrix=Matrix.append({'Node':str(noued),'w_Node':str(noued), 'DC':deg_centrality[noued], 'BC':bet_centrality[noued],\n",
      "C:\\Users\\wail_maghrane\\AppData\\Local\\Temp\\ipykernel_14684\\3912402994.py:4: FutureWarning: The frame.append method is deprecated and will be removed from pandas in a future version. Use pandas.concat instead.\n",
      "  Matrix=Matrix.append({'Node':str(noued),'w_Node':str(noued), 'DC':deg_centrality[noued], 'BC':bet_centrality[noued],\n",
      "C:\\Users\\wail_maghrane\\AppData\\Local\\Temp\\ipykernel_14684\\3912402994.py:4: FutureWarning: The frame.append method is deprecated and will be removed from pandas in a future version. Use pandas.concat instead.\n",
      "  Matrix=Matrix.append({'Node':str(noued),'w_Node':str(noued), 'DC':deg_centrality[noued], 'BC':bet_centrality[noued],\n",
      "C:\\Users\\wail_maghrane\\AppData\\Local\\Temp\\ipykernel_14684\\3912402994.py:4: FutureWarning: The frame.append method is deprecated and will be removed from pandas in a future version. Use pandas.concat instead.\n",
      "  Matrix=Matrix.append({'Node':str(noued),'w_Node':str(noued), 'DC':deg_centrality[noued], 'BC':bet_centrality[noued],\n",
      "C:\\Users\\wail_maghrane\\AppData\\Local\\Temp\\ipykernel_14684\\3912402994.py:4: FutureWarning: The frame.append method is deprecated and will be removed from pandas in a future version. Use pandas.concat instead.\n",
      "  Matrix=Matrix.append({'Node':str(noued),'w_Node':str(noued), 'DC':deg_centrality[noued], 'BC':bet_centrality[noued],\n",
      "C:\\Users\\wail_maghrane\\AppData\\Local\\Temp\\ipykernel_14684\\3912402994.py:4: FutureWarning: The frame.append method is deprecated and will be removed from pandas in a future version. Use pandas.concat instead.\n",
      "  Matrix=Matrix.append({'Node':str(noued),'w_Node':str(noued), 'DC':deg_centrality[noued], 'BC':bet_centrality[noued],\n",
      "C:\\Users\\wail_maghrane\\AppData\\Local\\Temp\\ipykernel_14684\\3912402994.py:4: FutureWarning: The frame.append method is deprecated and will be removed from pandas in a future version. Use pandas.concat instead.\n",
      "  Matrix=Matrix.append({'Node':str(noued),'w_Node':str(noued), 'DC':deg_centrality[noued], 'BC':bet_centrality[noued],\n",
      "C:\\Users\\wail_maghrane\\AppData\\Local\\Temp\\ipykernel_14684\\3912402994.py:4: FutureWarning: The frame.append method is deprecated and will be removed from pandas in a future version. Use pandas.concat instead.\n",
      "  Matrix=Matrix.append({'Node':str(noued),'w_Node':str(noued), 'DC':deg_centrality[noued], 'BC':bet_centrality[noued],\n",
      "C:\\Users\\wail_maghrane\\AppData\\Local\\Temp\\ipykernel_14684\\3912402994.py:4: FutureWarning: The frame.append method is deprecated and will be removed from pandas in a future version. Use pandas.concat instead.\n",
      "  Matrix=Matrix.append({'Node':str(noued),'w_Node':str(noued), 'DC':deg_centrality[noued], 'BC':bet_centrality[noued],\n",
      "C:\\Users\\wail_maghrane\\AppData\\Local\\Temp\\ipykernel_14684\\3912402994.py:4: FutureWarning: The frame.append method is deprecated and will be removed from pandas in a future version. Use pandas.concat instead.\n",
      "  Matrix=Matrix.append({'Node':str(noued),'w_Node':str(noued), 'DC':deg_centrality[noued], 'BC':bet_centrality[noued],\n",
      "C:\\Users\\wail_maghrane\\AppData\\Local\\Temp\\ipykernel_14684\\3912402994.py:4: FutureWarning: The frame.append method is deprecated and will be removed from pandas in a future version. Use pandas.concat instead.\n",
      "  Matrix=Matrix.append({'Node':str(noued),'w_Node':str(noued), 'DC':deg_centrality[noued], 'BC':bet_centrality[noued],\n",
      "C:\\Users\\wail_maghrane\\AppData\\Local\\Temp\\ipykernel_14684\\3912402994.py:4: FutureWarning: The frame.append method is deprecated and will be removed from pandas in a future version. Use pandas.concat instead.\n",
      "  Matrix=Matrix.append({'Node':str(noued),'w_Node':str(noued), 'DC':deg_centrality[noued], 'BC':bet_centrality[noued],\n",
      "C:\\Users\\wail_maghrane\\AppData\\Local\\Temp\\ipykernel_14684\\3912402994.py:4: FutureWarning: The frame.append method is deprecated and will be removed from pandas in a future version. Use pandas.concat instead.\n",
      "  Matrix=Matrix.append({'Node':str(noued),'w_Node':str(noued), 'DC':deg_centrality[noued], 'BC':bet_centrality[noued],\n",
      "C:\\Users\\wail_maghrane\\AppData\\Local\\Temp\\ipykernel_14684\\3912402994.py:4: FutureWarning: The frame.append method is deprecated and will be removed from pandas in a future version. Use pandas.concat instead.\n",
      "  Matrix=Matrix.append({'Node':str(noued),'w_Node':str(noued), 'DC':deg_centrality[noued], 'BC':bet_centrality[noued],\n",
      "C:\\Users\\wail_maghrane\\AppData\\Local\\Temp\\ipykernel_14684\\3912402994.py:4: FutureWarning: The frame.append method is deprecated and will be removed from pandas in a future version. Use pandas.concat instead.\n",
      "  Matrix=Matrix.append({'Node':str(noued),'w_Node':str(noued), 'DC':deg_centrality[noued], 'BC':bet_centrality[noued],\n",
      "C:\\Users\\wail_maghrane\\AppData\\Local\\Temp\\ipykernel_14684\\3912402994.py:4: FutureWarning: The frame.append method is deprecated and will be removed from pandas in a future version. Use pandas.concat instead.\n",
      "  Matrix=Matrix.append({'Node':str(noued),'w_Node':str(noued), 'DC':deg_centrality[noued], 'BC':bet_centrality[noued],\n",
      "C:\\Users\\wail_maghrane\\AppData\\Local\\Temp\\ipykernel_14684\\3912402994.py:4: FutureWarning: The frame.append method is deprecated and will be removed from pandas in a future version. Use pandas.concat instead.\n",
      "  Matrix=Matrix.append({'Node':str(noued),'w_Node':str(noued), 'DC':deg_centrality[noued], 'BC':bet_centrality[noued],\n",
      "C:\\Users\\wail_maghrane\\AppData\\Local\\Temp\\ipykernel_14684\\3912402994.py:4: FutureWarning: The frame.append method is deprecated and will be removed from pandas in a future version. Use pandas.concat instead.\n",
      "  Matrix=Matrix.append({'Node':str(noued),'w_Node':str(noued), 'DC':deg_centrality[noued], 'BC':bet_centrality[noued],\n",
      "C:\\Users\\wail_maghrane\\AppData\\Local\\Temp\\ipykernel_14684\\3912402994.py:4: FutureWarning: The frame.append method is deprecated and will be removed from pandas in a future version. Use pandas.concat instead.\n",
      "  Matrix=Matrix.append({'Node':str(noued),'w_Node':str(noued), 'DC':deg_centrality[noued], 'BC':bet_centrality[noued],\n",
      "C:\\Users\\wail_maghrane\\AppData\\Local\\Temp\\ipykernel_14684\\3912402994.py:4: FutureWarning: The frame.append method is deprecated and will be removed from pandas in a future version. Use pandas.concat instead.\n",
      "  Matrix=Matrix.append({'Node':str(noued),'w_Node':str(noued), 'DC':deg_centrality[noued], 'BC':bet_centrality[noued],\n",
      "C:\\Users\\wail_maghrane\\AppData\\Local\\Temp\\ipykernel_14684\\3912402994.py:4: FutureWarning: The frame.append method is deprecated and will be removed from pandas in a future version. Use pandas.concat instead.\n",
      "  Matrix=Matrix.append({'Node':str(noued),'w_Node':str(noued), 'DC':deg_centrality[noued], 'BC':bet_centrality[noued],\n",
      "C:\\Users\\wail_maghrane\\AppData\\Local\\Temp\\ipykernel_14684\\3912402994.py:4: FutureWarning: The frame.append method is deprecated and will be removed from pandas in a future version. Use pandas.concat instead.\n",
      "  Matrix=Matrix.append({'Node':str(noued),'w_Node':str(noued), 'DC':deg_centrality[noued], 'BC':bet_centrality[noued],\n",
      "C:\\Users\\wail_maghrane\\AppData\\Local\\Temp\\ipykernel_14684\\3912402994.py:4: FutureWarning: The frame.append method is deprecated and will be removed from pandas in a future version. Use pandas.concat instead.\n",
      "  Matrix=Matrix.append({'Node':str(noued),'w_Node':str(noued), 'DC':deg_centrality[noued], 'BC':bet_centrality[noued],\n",
      "C:\\Users\\wail_maghrane\\AppData\\Local\\Temp\\ipykernel_14684\\3912402994.py:4: FutureWarning: The frame.append method is deprecated and will be removed from pandas in a future version. Use pandas.concat instead.\n",
      "  Matrix=Matrix.append({'Node':str(noued),'w_Node':str(noued), 'DC':deg_centrality[noued], 'BC':bet_centrality[noued],\n",
      "C:\\Users\\wail_maghrane\\AppData\\Local\\Temp\\ipykernel_14684\\3912402994.py:4: FutureWarning: The frame.append method is deprecated and will be removed from pandas in a future version. Use pandas.concat instead.\n",
      "  Matrix=Matrix.append({'Node':str(noued),'w_Node':str(noued), 'DC':deg_centrality[noued], 'BC':bet_centrality[noued],\n",
      "C:\\Users\\wail_maghrane\\AppData\\Local\\Temp\\ipykernel_14684\\3912402994.py:4: FutureWarning: The frame.append method is deprecated and will be removed from pandas in a future version. Use pandas.concat instead.\n",
      "  Matrix=Matrix.append({'Node':str(noued),'w_Node':str(noued), 'DC':deg_centrality[noued], 'BC':bet_centrality[noued],\n",
      "C:\\Users\\wail_maghrane\\AppData\\Local\\Temp\\ipykernel_14684\\3912402994.py:4: FutureWarning: The frame.append method is deprecated and will be removed from pandas in a future version. Use pandas.concat instead.\n",
      "  Matrix=Matrix.append({'Node':str(noued),'w_Node':str(noued), 'DC':deg_centrality[noued], 'BC':bet_centrality[noued],\n",
      "C:\\Users\\wail_maghrane\\AppData\\Local\\Temp\\ipykernel_14684\\3912402994.py:4: FutureWarning: The frame.append method is deprecated and will be removed from pandas in a future version. Use pandas.concat instead.\n",
      "  Matrix=Matrix.append({'Node':str(noued),'w_Node':str(noued), 'DC':deg_centrality[noued], 'BC':bet_centrality[noued],\n"
     ]
    }
   ],
   "source": [
    "Matrix=pd.DataFrame()#create dataframe\n",
    "for noued in G:\n",
    "    #add the name of each node with its measures centrality\n",
    "    Matrix=Matrix.append({'Node':str(noued),'w_Node':str(noued), 'DC':deg_centrality[noued], 'BC':bet_centrality[noued],\n",
    "                        'CC':close_centrality[noued], 'EC':eig_centrality[noued]},ignore_index=True)\n",
    "print(Matrix)\n",
    "Matrix.to_csv(\"Data/Matrix.csv\" ,index=False)"
   ]
  },
  {
   "cell_type": "code",
   "execution_count": 7,
   "metadata": {
    "id": "7WmOUYLIXTfQ"
   },
   "outputs": [],
   "source": [
    "Matrix = pd.read_csv(\"Data/Matrix.csv\")"
   ]
  },
  {
   "cell_type": "code",
   "execution_count": 8,
   "metadata": {
    "colab": {
     "base_uri": "https://localhost:8080/"
    },
    "id": "5hwV4rBw7Bor",
    "outputId": "455ece53-92ac-443a-804e-5c68a7450940"
   },
   "outputs": [
    {
     "data": {
      "text/plain": [
       "array([[0.48484848, 0.43763528, 0.56896552, 0.35548349],\n",
       "       [0.27272727, 0.05393669, 0.48529412, 0.26595387],\n",
       "       [0.3030303 , 0.14365681, 0.55932203, 0.31718939],\n",
       "       [0.18181818, 0.01190927, 0.46478873, 0.21117408],\n",
       "       [0.09090909, 0.00063131, 0.37931034, 0.07596646],\n",
       "       [0.12121212, 0.02998737, 0.38372093, 0.07948058],\n",
       "       [0.12121212, 0.02998737, 0.38372093, 0.07948058],\n",
       "       [0.12121212, 0.        , 0.44      , 0.17095511],\n",
       "       [0.15151515, 0.05592683, 0.515625  , 0.22740509],\n",
       "       [0.09090909, 0.00063131, 0.37931034, 0.07596646],\n",
       "       [0.03030303, 0.        , 0.36666667, 0.05285417],\n",
       "       [0.06060606, 0.        , 0.37078652, 0.08425192],\n",
       "       [0.15151515, 0.0458634 , 0.515625  , 0.2264697 ],\n",
       "       [0.09090909, 0.03247505, 0.5       , 0.14791134],\n",
       "       [0.06060606, 0.        , 0.375     , 0.09239676],\n",
       "       [0.18181818, 0.13827561, 0.54098361, 0.19103627],\n",
       "       [0.06060606, 0.00084776, 0.43421053, 0.10267519],\n",
       "       [0.06060606, 0.        , 0.28448276, 0.02363479],\n",
       "       [0.06060606, 0.        , 0.375     , 0.09239676],\n",
       "       [0.15151515, 0.01761364, 0.39285714, 0.15012329],\n",
       "       [0.09090909, 0.00384049, 0.375     , 0.0592082 ],\n",
       "       [0.09090909, 0.0022096 , 0.375     , 0.05705374],\n",
       "       [0.12121212, 0.02233345, 0.45833333, 0.13347933],\n",
       "       [0.09090909, 0.00179473, 0.45205479, 0.13107926],\n",
       "       [0.12121212, 0.00292208, 0.38372093, 0.13496529],\n",
       "       [0.06060606, 0.        , 0.36263736, 0.07558192],\n",
       "       [0.12121212, 0.01441198, 0.45833333, 0.17476028],\n",
       "       [0.36363636, 0.14524711, 0.515625  , 0.30865105],\n",
       "       [0.06060606, 0.        , 0.37078652, 0.10140628],\n",
       "       [0.06060606, 0.        , 0.37078652, 0.10140628],\n",
       "       [0.06060606, 0.        , 0.37078652, 0.10140628],\n",
       "       [0.06060606, 0.        , 0.37078652, 0.10140628],\n",
       "       [0.06060606, 0.        , 0.37078652, 0.10140628],\n",
       "       [0.51515152, 0.30407498, 0.55      , 0.37337121]])"
      ]
     },
     "execution_count": 8,
     "metadata": {},
     "output_type": "execute_result"
    }
   ],
   "source": [
    "Matrix_arr= Matrix[['DC','BC','CC','EC']].to_numpy()\n",
    "\n",
    "Matrix_arr"
   ]
  },
  {
   "cell_type": "code",
   "execution_count": 9,
   "metadata": {
    "colab": {
     "base_uri": "https://localhost:8080/"
    },
    "id": "QMvHCWv5blE-",
    "outputId": "b7af11ad-0cd5-41e8-af56-2bf14fead6ac"
   },
   "outputs": [
    {
     "data": {
      "text/plain": [
       "array([[0.1025641 , 0.29249548, 0.03923817, 0.07141109],\n",
       "       [0.05769231, 0.03604882, 0.03346785, 0.05342599],\n",
       "       [0.06410256, 0.09601366, 0.03857312, 0.06371841],\n",
       "       [0.03846154, 0.00795961, 0.03205372, 0.04242158],\n",
       "       [0.01923077, 0.00042194, 0.02615878, 0.01526048],\n",
       "       [0.02564103, 0.02004219, 0.02646295, 0.01596641],\n",
       "       [0.02564103, 0.02004219, 0.02646295, 0.01596641],\n",
       "       [0.02564103, 0.        , 0.03034418, 0.03434222],\n",
       "       [0.03205128, 0.03737894, 0.03555959, 0.04568214],\n",
       "       [0.01923077, 0.00042194, 0.02615878, 0.01526048],\n",
       "       [0.00641026, 0.        , 0.02528682, 0.01061758],\n",
       "       [0.01282051, 0.        , 0.02557094, 0.0169249 ],\n",
       "       [0.03205128, 0.030653  , 0.03555959, 0.04549423],\n",
       "       [0.01923077, 0.02170484, 0.03448203, 0.02971308],\n",
       "       [0.01282051, 0.        , 0.02586152, 0.01856107],\n",
       "       [0.03846154, 0.09241712, 0.03730842, 0.03837621],\n",
       "       [0.01282051, 0.00056661, 0.02994492, 0.02062585],\n",
       "       [0.01282051, 0.        , 0.01961908, 0.00474786],\n",
       "       [0.01282051, 0.        , 0.02586152, 0.01856107],\n",
       "       [0.03205128, 0.01177215, 0.02709302, 0.03015743],\n",
       "       [0.01923077, 0.00256681, 0.02586152, 0.01189401],\n",
       "       [0.01923077, 0.00147679, 0.02586152, 0.01146121],\n",
       "       [0.02564103, 0.01492666, 0.03160853, 0.02681392],\n",
       "       [0.01923077, 0.00119952, 0.03117553, 0.02633178],\n",
       "       [0.02564103, 0.00195298, 0.02646295, 0.02711242],\n",
       "       [0.01282051, 0.        , 0.02500894, 0.01518323],\n",
       "       [0.02564103, 0.00963231, 0.03160853, 0.03510662],\n",
       "       [0.07692308, 0.09707655, 0.03555959, 0.06200319],\n",
       "       [0.01282051, 0.        , 0.02557094, 0.02037094],\n",
       "       [0.01282051, 0.        , 0.02557094, 0.02037094],\n",
       "       [0.01282051, 0.        , 0.02557094, 0.02037094],\n",
       "       [0.01282051, 0.        , 0.02557094, 0.02037094],\n",
       "       [0.01282051, 0.        , 0.02557094, 0.02037094],\n",
       "       [0.10897436, 0.20322986, 0.03793023, 0.07500446]])"
      ]
     },
     "execution_count": 9,
     "metadata": {},
     "output_type": "execute_result"
    }
   ],
   "source": [
    "#ev_matrix_np \n",
    "m = 34\n",
    "ev_matrix_np = Matrix_arr\n",
    "sum = np.zeros(4)\n",
    "\n",
    "for i in range(m):\n",
    "  for j in range(4):\n",
    "    sum[j] += ev_matrix_np[i][j]\n",
    "\n",
    "p = np.copy(ev_matrix_np)\n",
    "\n",
    "for i in range(m):\n",
    "  for j in range(4):\n",
    "    p[i][j] = ev_matrix_np[i][j]/sum[j]\n",
    "\n",
    "\n",
    "p"
   ]
  },
  {
   "cell_type": "code",
   "execution_count": 10,
   "metadata": {
    "colab": {
     "base_uri": "https://localhost:8080/"
    },
    "id": "9HkA0ZAuxeFy",
    "outputId": "d8b42306-9bd6-4a29-e66e-3d5563f28631"
   },
   "outputs": [
    {
     "data": {
      "text/plain": [
       "[0.9247089847494877, 0.6234261720089411, 0.996138378879709, 0.951830430891116]"
      ]
     },
     "execution_count": 10,
     "metadata": {},
     "output_type": "execute_result"
    }
   ],
   "source": [
    "k = 1/log(m)\n",
    "E = []\n",
    "plnp = []\n",
    "\n",
    "\n",
    "for j in range(4):\n",
    "  temp_sum = 0\n",
    "  for i in range(m):\n",
    "    try:\n",
    "       pij = p[i][j]\n",
    "       temp_sum += pij*log(pij)\n",
    "    except:\n",
    "      pij = 1\n",
    "      temp_sum += pij*log(pij)\n",
    "  E.append(-k*temp_sum)\n",
    "\n",
    "E"
   ]
  },
  {
   "cell_type": "code",
   "execution_count": 11,
   "metadata": {
    "colab": {
     "base_uri": "https://localhost:8080/"
    },
    "id": "OqRWeUqtxhPf",
    "outputId": "6757f6a8-45c0-40a1-9ff4-b6a7c3ff4b7a"
   },
   "outputs": [
    {
     "data": {
      "text/plain": [
       "[0.0752910152505123,\n",
       " 0.3765738279910589,\n",
       " 0.003861621120290981,\n",
       " 0.048169569108884036]"
      ]
     },
     "execution_count": 11,
     "metadata": {},
     "output_type": "execute_result"
    }
   ],
   "source": [
    "D = []\n",
    "for i in range(4):\n",
    "  D.append(1-E[i])\n",
    "D"
   ]
  },
  {
   "cell_type": "code",
   "execution_count": 12,
   "metadata": {
    "colab": {
     "base_uri": "https://localhost:8080/"
    },
    "id": "z_ObUWHmxjT7",
    "outputId": "dcb57fe8-ad63-4d40-d4f0-adef6553d5f4"
   },
   "outputs": [
    {
     "data": {
      "text/plain": [
       "[0.14941775733363324,\n",
       " 0.7473244538110081,\n",
       " 0.007663527521129353,\n",
       " 0.09559426133422924]"
      ]
     },
     "execution_count": 12,
     "metadata": {},
     "output_type": "execute_result"
    }
   ],
   "source": [
    "sm = np.sum(D)\n",
    "weights = [D[i]/sm for i in range(4)]\n",
    "weights"
   ]
  },
  {
   "cell_type": "code",
   "execution_count": 13,
   "metadata": {
    "colab": {
     "base_uri": "https://localhost:8080/"
    },
    "id": "CEGWZuOpmaGq",
    "outputId": "ee996d58-8c2a-416b-da01-d239db596935"
   },
   "outputs": [
    {
     "name": "stdout",
     "output_type": "stream",
     "text": [
      "Step 1\n",
      " [[0.48484848 0.43763528 0.56896552 0.35548349]\n",
      " [0.27272727 0.05393669 0.48529412 0.26595387]\n",
      " [0.3030303  0.14365681 0.55932203 0.31718939]\n",
      " [0.18181818 0.01190927 0.46478873 0.21117408]\n",
      " [0.09090909 0.00063131 0.37931034 0.07596646]\n",
      " [0.12121212 0.02998737 0.38372093 0.07948058]\n",
      " [0.12121212 0.02998737 0.38372093 0.07948058]\n",
      " [0.12121212 0.         0.44       0.17095511]\n",
      " [0.15151515 0.05592683 0.515625   0.22740509]\n",
      " [0.09090909 0.00063131 0.37931034 0.07596646]\n",
      " [0.03030303 0.         0.36666667 0.05285417]\n",
      " [0.06060606 0.         0.37078652 0.08425192]\n",
      " [0.15151515 0.0458634  0.515625   0.2264697 ]\n",
      " [0.09090909 0.03247505 0.5        0.14791134]\n",
      " [0.06060606 0.         0.375      0.09239676]\n",
      " [0.18181818 0.13827561 0.54098361 0.19103627]\n",
      " [0.06060606 0.00084776 0.43421053 0.10267519]\n",
      " [0.06060606 0.         0.28448276 0.02363479]\n",
      " [0.06060606 0.         0.375      0.09239676]\n",
      " [0.15151515 0.01761364 0.39285714 0.15012329]\n",
      " [0.09090909 0.00384049 0.375      0.0592082 ]\n",
      " [0.09090909 0.0022096  0.375      0.05705374]\n",
      " [0.12121212 0.02233345 0.45833333 0.13347933]\n",
      " [0.09090909 0.00179473 0.45205479 0.13107926]\n",
      " [0.12121212 0.00292208 0.38372093 0.13496529]\n",
      " [0.06060606 0.         0.36263736 0.07558192]\n",
      " [0.12121212 0.01441198 0.45833333 0.17476028]\n",
      " [0.36363636 0.14524711 0.515625   0.30865105]\n",
      " [0.06060606 0.         0.37078652 0.10140628]\n",
      " [0.06060606 0.         0.37078652 0.10140628]\n",
      " [0.06060606 0.         0.37078652 0.10140628]\n",
      " [0.06060606 0.         0.37078652 0.10140628]\n",
      " [0.06060606 0.         0.37078652 0.10140628]\n",
      " [0.51515152 0.30407498 0.55       0.37337121]]\n",
      "\n",
      "Step 2\n",
      " [[0.45958799 0.73242436 0.22568767 0.35548349]\n",
      " [0.25851825 0.09026819 0.19249831 0.26595387]\n",
      " [0.28724249 0.24042336 0.22186246 0.31718939]\n",
      " [0.1723455  0.0199313  0.18436458 0.21117408]\n",
      " [0.08617275 0.00105656 0.15045845 0.07596646]\n",
      " [0.114897   0.05018673 0.15220797 0.07948058]\n",
      " [0.114897   0.05018673 0.15220797 0.07948058]\n",
      " [0.114897   0.         0.1745318  0.17095511]\n",
      " [0.14362125 0.09359888 0.20452945 0.22740509]\n",
      " [0.08617275 0.00105656 0.15045845 0.07596646]\n",
      " [0.02872425 0.         0.14544317 0.05285417]\n",
      " [0.0574485  0.         0.14707736 0.08425192]\n",
      " [0.14362125 0.07675676 0.20452945 0.2264697 ]\n",
      " [0.08617275 0.05435009 0.19833159 0.14791134]\n",
      " [0.0574485  0.         0.14874869 0.09239676]\n",
      " [0.1723455  0.23141742 0.21458828 0.19103627]\n",
      " [0.0574485  0.00141881 0.17223533 0.10267519]\n",
      " [0.0574485  0.         0.11284384 0.02363479]\n",
      " [0.0574485  0.         0.14874869 0.09239676]\n",
      " [0.14362125 0.0294781  0.15583196 0.15012329]\n",
      " [0.08617275 0.00642742 0.14874869 0.0592082 ]\n",
      " [0.08617275 0.00369797 0.14874869 0.05705374]\n",
      " [0.114897   0.03737716 0.18180396 0.13347933]\n",
      " [0.08617275 0.00300366 0.17931349 0.13107926]\n",
      " [0.114897   0.00489038 0.15220797 0.13496529]\n",
      " [0.0574485  0.         0.14384489 0.07558192]\n",
      " [0.114897   0.02411982 0.18180396 0.17476028]\n",
      " [0.34469099 0.24308489 0.20452945 0.30865105]\n",
      " [0.0574485  0.         0.14707736 0.10140628]\n",
      " [0.0574485  0.         0.14707736 0.10140628]\n",
      " [0.0574485  0.         0.14707736 0.10140628]\n",
      " [0.0574485  0.         0.14707736 0.10140628]\n",
      " [0.0574485  0.         0.14707736 0.10140628]\n",
      " [0.48831224 0.50889846 0.21816475 0.37337121]]\n",
      "\n",
      "Step 3\n",
      " [[0.06867061 0.54735863 0.00172956 0.03398218]\n",
      " [0.03862722 0.06745962 0.00147522 0.02542366]\n",
      " [0.04291913 0.17967425 0.00170025 0.03032149]\n",
      " [0.02575148 0.01489515 0.00141288 0.02018703]\n",
      " [0.01287574 0.0007896  0.00115304 0.00726196]\n",
      " [0.01716765 0.03750577 0.00116645 0.00759789]\n",
      " [0.01716765 0.03750577 0.00116645 0.00759789]\n",
      " [0.01716765 0.         0.00133753 0.01634233]\n",
      " [0.02145956 0.06994873 0.00156742 0.02173862]\n",
      " [0.01287574 0.0007896  0.00115304 0.00726196]\n",
      " [0.00429191 0.         0.00111461 0.00505256]\n",
      " [0.00858383 0.         0.00112713 0.008054  ]\n",
      " [0.02145956 0.05736221 0.00156742 0.0216492 ]\n",
      " [0.01287574 0.04061715 0.00151992 0.01413948]\n",
      " [0.00858383 0.         0.00113994 0.0088326 ]\n",
      " [0.02575148 0.1729439  0.0016445  0.01826197]\n",
      " [0.00858383 0.00106031 0.00131993 0.00981516]\n",
      " [0.00858383 0.         0.00086478 0.00225935]\n",
      " [0.00858383 0.         0.00113994 0.0088326 ]\n",
      " [0.02145956 0.0220297  0.00119422 0.01435092]\n",
      " [0.01287574 0.00480337 0.00113994 0.00565996]\n",
      " [0.01287574 0.00276358 0.00113994 0.00545401]\n",
      " [0.01716765 0.02793287 0.00139326 0.01275986]\n",
      " [0.01287574 0.00224471 0.00137417 0.01253042]\n",
      " [0.01716765 0.0036547  0.00116645 0.01290191]\n",
      " [0.00858383 0.         0.00110236 0.0072252 ]\n",
      " [0.01716765 0.01802533 0.00139326 0.01670608]\n",
      " [0.05150296 0.18166328 0.00156742 0.02950527]\n",
      " [0.00858383 0.         0.00112713 0.00969386]\n",
      " [0.00858383 0.         0.00112713 0.00969386]\n",
      " [0.00858383 0.         0.00112713 0.00969386]\n",
      " [0.00858383 0.         0.00112713 0.00969386]\n",
      " [0.00858383 0.         0.00112713 0.00969386]\n",
      " [0.07296252 0.38031226 0.00167191 0.03569215]]\n",
      "\n",
      "Step 4\n",
      " [0.00429191 0.         0.00086478 0.00225935] [0.07296252 0.54735863 0.00172956 0.03569215]\n",
      "\n",
      "Step 5\n",
      " [0.55204454 0.07916231 0.18591149 0.03168723 0.00997069 0.04001323\n",
      " 0.04001323 0.01908765 0.07461561 0.00997069 0.00280435 0.00721577\n",
      " 0.06294133 0.04318566 0.00785518 0.17500513 0.00876597 0.00429191\n",
      " 0.00785518 0.03043601 0.01041126 0.00957084 0.03250492 0.01358217\n",
      " 0.01710253 0.00656785 0.02645155 0.18966619 0.00858844 0.00858844\n",
      " 0.00858844 0.00858844 0.00858844 0.38790652] [0.00462001 0.48123537 0.36894885 0.53477729 0.55059671 0.51366586\n",
      " 0.51366586 0.55053529 0.48038266 0.55059671 0.55250003 0.55182454\n",
      " 0.49289581 0.51074643 0.55178607 0.37778181 0.55068708 0.55214544\n",
      " 0.55178607 0.52827907 0.54669819 0.54873389 0.52291701 0.54890455\n",
      " 0.5470345  0.5518667  0.53260435 0.36637673 0.55174483 0.55174483\n",
      " 0.55174483 0.55174483 0.55174483 0.16704638]\n",
      "\n",
      "Step 6\n",
      " [0.99170055 0.14126096 0.33505997 0.05593859 0.01778678 0.0722679\n",
      " 0.0722679  0.03350927 0.13444296 0.01778678 0.00505012 0.01290742\n",
      " 0.113237   0.07796202 0.0140361  0.31658695 0.01566882 0.0077132\n",
      " 0.0140361  0.05447501 0.018688   0.01714268 0.05852293 0.02414664\n",
      " 0.03031627 0.01176117 0.04731468 0.34109991 0.01532737 0.01532737\n",
      " 0.01532737 0.01532737 0.01532737 0.69898999] [0.00829945 0.85873904 0.66494003 0.94406141 0.98221322 0.9277321\n",
      " 0.9277321  0.96649073 0.86555704 0.98221322 0.99494988 0.98709258\n",
      " 0.886763   0.92203798 0.9859639  0.68341305 0.98433118 0.9922868\n",
      " 0.9859639  0.94552499 0.981312   0.98285732 0.94147707 0.97585336\n",
      " 0.96968373 0.98823883 0.95268532 0.65890009 0.98467263 0.98467263\n",
      " 0.98467263 0.98467263 0.98467263 0.30101001]\n",
      "\n"
     ]
    }
   ],
   "source": [
    "# Decision Matrix for w_topsis\n",
    "Evaluation_matrix = Matrix_arr\n",
    "criteria = np.array([True,True,True,True])\n",
    "\n",
    "w_T = Topsis(Evaluation_matrix,weights,criteria)\n",
    "w_T.calc()"
   ]
  },
  {
   "cell_type": "code",
   "execution_count": 14,
   "metadata": {
    "colab": {
     "base_uri": "https://localhost:8080/"
    },
    "id": "EHB5yTD7YWJd",
    "outputId": "cf6e6ab8-dbbf-4d16-f832-7ee18a0e8664"
   },
   "outputs": [
    {
     "name": "stdout",
     "output_type": "stream",
     "text": [
      "Step 1\n",
      " [[0.48484848 0.43763528 0.56896552 0.35548349]\n",
      " [0.27272727 0.05393669 0.48529412 0.26595387]\n",
      " [0.3030303  0.14365681 0.55932203 0.31718939]\n",
      " [0.18181818 0.01190927 0.46478873 0.21117408]\n",
      " [0.09090909 0.00063131 0.37931034 0.07596646]\n",
      " [0.12121212 0.02998737 0.38372093 0.07948058]\n",
      " [0.12121212 0.02998737 0.38372093 0.07948058]\n",
      " [0.12121212 0.         0.44       0.17095511]\n",
      " [0.15151515 0.05592683 0.515625   0.22740509]\n",
      " [0.09090909 0.00063131 0.37931034 0.07596646]\n",
      " [0.03030303 0.         0.36666667 0.05285417]\n",
      " [0.06060606 0.         0.37078652 0.08425192]\n",
      " [0.15151515 0.0458634  0.515625   0.2264697 ]\n",
      " [0.09090909 0.03247505 0.5        0.14791134]\n",
      " [0.06060606 0.         0.375      0.09239676]\n",
      " [0.18181818 0.13827561 0.54098361 0.19103627]\n",
      " [0.06060606 0.00084776 0.43421053 0.10267519]\n",
      " [0.06060606 0.         0.28448276 0.02363479]\n",
      " [0.06060606 0.         0.375      0.09239676]\n",
      " [0.15151515 0.01761364 0.39285714 0.15012329]\n",
      " [0.09090909 0.00384049 0.375      0.0592082 ]\n",
      " [0.09090909 0.0022096  0.375      0.05705374]\n",
      " [0.12121212 0.02233345 0.45833333 0.13347933]\n",
      " [0.09090909 0.00179473 0.45205479 0.13107926]\n",
      " [0.12121212 0.00292208 0.38372093 0.13496529]\n",
      " [0.06060606 0.         0.36263736 0.07558192]\n",
      " [0.12121212 0.01441198 0.45833333 0.17476028]\n",
      " [0.36363636 0.14524711 0.515625   0.30865105]\n",
      " [0.06060606 0.         0.37078652 0.10140628]\n",
      " [0.06060606 0.         0.37078652 0.10140628]\n",
      " [0.06060606 0.         0.37078652 0.10140628]\n",
      " [0.06060606 0.         0.37078652 0.10140628]\n",
      " [0.06060606 0.         0.37078652 0.10140628]\n",
      " [0.51515152 0.30407498 0.55       0.37337121]]\n",
      "\n",
      "Step 2\n",
      " [[0.45958799 0.73242436 0.22568767 0.35548349]\n",
      " [0.25851825 0.09026819 0.19249831 0.26595387]\n",
      " [0.28724249 0.24042336 0.22186246 0.31718939]\n",
      " [0.1723455  0.0199313  0.18436458 0.21117408]\n",
      " [0.08617275 0.00105656 0.15045845 0.07596646]\n",
      " [0.114897   0.05018673 0.15220797 0.07948058]\n",
      " [0.114897   0.05018673 0.15220797 0.07948058]\n",
      " [0.114897   0.         0.1745318  0.17095511]\n",
      " [0.14362125 0.09359888 0.20452945 0.22740509]\n",
      " [0.08617275 0.00105656 0.15045845 0.07596646]\n",
      " [0.02872425 0.         0.14544317 0.05285417]\n",
      " [0.0574485  0.         0.14707736 0.08425192]\n",
      " [0.14362125 0.07675676 0.20452945 0.2264697 ]\n",
      " [0.08617275 0.05435009 0.19833159 0.14791134]\n",
      " [0.0574485  0.         0.14874869 0.09239676]\n",
      " [0.1723455  0.23141742 0.21458828 0.19103627]\n",
      " [0.0574485  0.00141881 0.17223533 0.10267519]\n",
      " [0.0574485  0.         0.11284384 0.02363479]\n",
      " [0.0574485  0.         0.14874869 0.09239676]\n",
      " [0.14362125 0.0294781  0.15583196 0.15012329]\n",
      " [0.08617275 0.00642742 0.14874869 0.0592082 ]\n",
      " [0.08617275 0.00369797 0.14874869 0.05705374]\n",
      " [0.114897   0.03737716 0.18180396 0.13347933]\n",
      " [0.08617275 0.00300366 0.17931349 0.13107926]\n",
      " [0.114897   0.00489038 0.15220797 0.13496529]\n",
      " [0.0574485  0.         0.14384489 0.07558192]\n",
      " [0.114897   0.02411982 0.18180396 0.17476028]\n",
      " [0.34469099 0.24308489 0.20452945 0.30865105]\n",
      " [0.0574485  0.         0.14707736 0.10140628]\n",
      " [0.0574485  0.         0.14707736 0.10140628]\n",
      " [0.0574485  0.         0.14707736 0.10140628]\n",
      " [0.0574485  0.         0.14707736 0.10140628]\n",
      " [0.0574485  0.         0.14707736 0.10140628]\n",
      " [0.48831224 0.50889846 0.21816475 0.37337121]]\n",
      "\n",
      "Step 3\n",
      " [[4.59587992e-02 7.32424357e-02 9.02750693e-02 1.42193398e-01]\n",
      " [2.58518245e-02 9.02681889e-03 7.69993238e-02 1.06381548e-01]\n",
      " [2.87242495e-02 2.40423358e-02 8.87449834e-02 1.26875756e-01]\n",
      " [1.72345497e-02 1.99313006e-03 7.37458313e-02 8.44696313e-02]\n",
      " [8.61727484e-03 1.05656270e-04 6.01833796e-02 3.03865835e-02]\n",
      " [1.14896998e-02 5.01867282e-03 6.08831863e-02 3.17922312e-02]\n",
      " [1.14896998e-02 5.01867282e-03 6.08831863e-02 3.17922312e-02]\n",
      " [1.14896998e-02 0.00000000e+00 6.98127203e-02 6.83820460e-02]\n",
      " [1.43621247e-02 9.35988770e-03 8.18117816e-02 9.09620366e-02]\n",
      " [8.61727484e-03 1.05656270e-04 6.01833796e-02 3.03865835e-02]\n",
      " [2.87242495e-03 0.00000000e+00 5.81772669e-02 2.11416678e-02]\n",
      " [5.74484990e-03 0.00000000e+00 5.88309441e-02 3.37007683e-02]\n",
      " [1.43621247e-02 7.67567645e-03 8.18117816e-02 9.05878794e-02]\n",
      " [8.61727484e-03 5.43500884e-03 7.93326367e-02 5.91645360e-02]\n",
      " [5.74484990e-03 0.00000000e+00 5.94994775e-02 3.69587027e-02]\n",
      " [1.72345497e-02 2.31417419e-02 8.58353118e-02 7.64145079e-02]\n",
      " [5.74484990e-03 1.41881277e-04 6.88941319e-02 4.10700761e-02]\n",
      " [5.74484990e-03 0.00000000e+00 4.51375347e-02 9.45391770e-03]\n",
      " [5.74484990e-03 0.00000000e+00 5.94994775e-02 3.69587027e-02]\n",
      " [1.43621247e-02 2.94780993e-03 6.23327860e-02 6.00493148e-02]\n",
      " [8.61727484e-03 6.42742309e-04 5.94994775e-02 2.36832810e-02]\n",
      " [8.61727484e-03 3.69796945e-04 5.94994775e-02 2.28214943e-02]\n",
      " [1.14896998e-02 3.73771633e-03 7.27215836e-02 5.33917307e-02]\n",
      " [8.61727484e-03 3.00365682e-04 7.17253975e-02 5.24317025e-02]\n",
      " [1.14896998e-02 4.89037592e-04 6.08831863e-02 5.39861147e-02]\n",
      " [5.74484990e-03 0.00000000e+00 5.75379563e-02 3.02327689e-02]\n",
      " [1.14896998e-02 2.41198171e-03 7.27215836e-02 6.99041113e-02]\n",
      " [3.44690994e-02 2.43084890e-02 8.18117816e-02 1.23460419e-01]\n",
      " [5.74484990e-03 0.00000000e+00 5.88309441e-02 4.05625114e-02]\n",
      " [5.74484990e-03 0.00000000e+00 5.88309441e-02 4.05625114e-02]\n",
      " [5.74484990e-03 0.00000000e+00 5.88309441e-02 4.05625114e-02]\n",
      " [5.74484990e-03 0.00000000e+00 5.88309441e-02 4.05625114e-02]\n",
      " [5.74484990e-03 0.00000000e+00 5.88309441e-02 4.05625114e-02]\n",
      " [4.88312241e-02 5.08898455e-02 8.72659004e-02 1.49348485e-01]]\n",
      "\n",
      "Step 4\n",
      " [0.00287242 0.         0.04513753 0.00945392] [0.04883122 0.07324244 0.09027507 0.14934849]\n",
      "\n",
      "Step 5\n",
      " [0.16394529 0.10497464 0.13013781 0.08158453 0.02641152 0.02909244\n",
      " 0.02909244 0.0644643  0.09059909 0.02641152 0.01751109 0.02799411\n",
      " 0.09010355 0.06085222 0.03116135 0.08295686 0.03965133 0.00287242\n",
      " 0.03116135 0.05473823 0.02102752 0.02044743 0.05272228 0.05086352\n",
      " 0.04801603 0.02436764 0.06704611 0.12622098 0.03411019 0.03411019\n",
      " 0.03411019 0.03411019 0.03411019 0.16139169] [0.00771013 0.08169517 0.05772612 0.1027487  0.14840348 0.1439869\n",
      " 0.1439869  0.11718838 0.09353985 0.14840348 0.15793645 0.146915\n",
      " 0.09492921 0.12028254 0.14422028 0.09406118 0.1392174  0.16979039\n",
      " 0.14422028 0.12200232 0.15370998 0.15454384 0.12546362 0.1291304\n",
      " 0.12901671 0.1499372  0.11415286 0.0578154  0.14157687 0.14157687\n",
      " 0.14157687 0.14157687 0.14157687 0.02255423]\n",
      "\n",
      "Step 6\n",
      " [0.95508368 0.56235467 0.69272376 0.44259263 0.15108269 0.16808733\n",
      " 0.16808733 0.3548767  0.49201483 0.15108269 0.0998081  0.16004946\n",
      " 0.48695998 0.33594999 0.17767736 0.46863506 0.2216784  0.01663604\n",
      " 0.17767736 0.30970951 0.12033776 0.1168483  0.29588359 0.28258467\n",
      " 0.27122682 0.139799   0.37001374 0.68584796 0.1941531  0.1941531\n",
      " 0.1941531  0.1941531  0.1941531  0.87738661] [0.04491632 0.43764533 0.30727624 0.55740737 0.84891731 0.83191267\n",
      " 0.83191267 0.6451233  0.50798517 0.84891731 0.9001919  0.83995054\n",
      " 0.51304002 0.66405001 0.82232264 0.53136494 0.7783216  0.98336396\n",
      " 0.82232264 0.69029049 0.87966224 0.8831517  0.70411641 0.71741533\n",
      " 0.72877318 0.860201   0.62998626 0.31415204 0.8058469  0.8058469\n",
      " 0.8058469  0.8058469  0.8058469  0.12261339]\n",
      "\n"
     ]
    }
   ],
   "source": [
    "Evaluation_matrix = Matrix_arr\n",
    "criteria = np.array([True,True,True,True])\n",
    "weights = [0.1,0.1,0.4,0.4]\n",
    "\n",
    "T = Topsis(Evaluation_matrix,weights,criteria)\n",
    "T.calc()"
   ]
  },
  {
   "cell_type": "code",
   "execution_count": 15,
   "metadata": {
    "colab": {
     "base_uri": "https://localhost:8080/"
    },
    "id": "7k2IGlcB5fgm",
    "outputId": "6c1a0997-299a-4bc1-9543-b199f7beb8c4"
   },
   "outputs": [
    {
     "name": "stdout",
     "output_type": "stream",
     "text": [
      "best_distance\t [0.00771013 0.08169517 0.05772612 0.1027487  0.14840348 0.1439869\n",
      " 0.1439869  0.11718838 0.09353985 0.14840348 0.15793645 0.146915\n",
      " 0.09492921 0.12028254 0.14422028 0.09406118 0.1392174  0.16979039\n",
      " 0.14422028 0.12200232 0.15370998 0.15454384 0.12546362 0.1291304\n",
      " 0.12901671 0.1499372  0.11415286 0.0578154  0.14157687 0.14157687\n",
      " 0.14157687 0.14157687 0.14157687 0.02255423]\n",
      "worst_distance\t [0.16394529 0.10497464 0.13013781 0.08158453 0.02641152 0.02909244\n",
      " 0.02909244 0.0644643  0.09059909 0.02641152 0.01751109 0.02799411\n",
      " 0.09010355 0.06085222 0.03116135 0.08295686 0.03965133 0.00287242\n",
      " 0.03116135 0.05473823 0.02102752 0.02044743 0.05272228 0.05086352\n",
      " 0.04801603 0.02436764 0.06704611 0.12622098 0.03411019 0.03411019\n",
      " 0.03411019 0.03411019 0.03411019 0.16139169]\n"
     ]
    }
   ],
   "source": [
    "# S+ and S-\n",
    "print(\"best_distance\\t\", T.best_distance)\n",
    "print(\"worst_distance\\t\", T.worst_distance)"
   ]
  },
  {
   "cell_type": "code",
   "execution_count": 16,
   "metadata": {
    "colab": {
     "base_uri": "https://localhost:8080/"
    },
    "id": "Zx_rC_2MYwrn",
    "outputId": "ab68241d-a7be-4e80-888f-d286eac0cecc"
   },
   "outputs": [
    {
     "name": "stdout",
     "output_type": "stream",
     "text": [
      "best_distance\t [0.00462001 0.48123537 0.36894885 0.53477729 0.55059671 0.51366586\n",
      " 0.51366586 0.55053529 0.48038266 0.55059671 0.55250003 0.55182454\n",
      " 0.49289581 0.51074643 0.55178607 0.37778181 0.55068708 0.55214544\n",
      " 0.55178607 0.52827907 0.54669819 0.54873389 0.52291701 0.54890455\n",
      " 0.5470345  0.5518667  0.53260435 0.36637673 0.55174483 0.55174483\n",
      " 0.55174483 0.55174483 0.55174483 0.16704638]\n",
      "worst_distance\t [0.55204454 0.07916231 0.18591149 0.03168723 0.00997069 0.04001323\n",
      " 0.04001323 0.01908765 0.07461561 0.00997069 0.00280435 0.00721577\n",
      " 0.06294133 0.04318566 0.00785518 0.17500513 0.00876597 0.00429191\n",
      " 0.00785518 0.03043601 0.01041126 0.00957084 0.03250492 0.01358217\n",
      " 0.01710253 0.00656785 0.02645155 0.18966619 0.00858844 0.00858844\n",
      " 0.00858844 0.00858844 0.00858844 0.38790652]\n"
     ]
    }
   ],
   "source": [
    "# S+ and S-\n",
    "print(\"best_distance\\t\", w_T.best_distance)\n",
    "print(\"worst_distance\\t\", w_T.worst_distance)"
   ]
  },
  {
   "cell_type": "code",
   "execution_count": 17,
   "metadata": {
    "colab": {
     "base_uri": "https://localhost:8080/"
    },
    "id": "jHtH9Hfy52-A",
    "outputId": "c5440058-817b-45d4-febe-36a7f5aced27"
   },
   "outputs": [
    {
     "name": "stdout",
     "output_type": "stream",
     "text": [
      "worst_similarity\t [0.95508368 0.56235467 0.69272376 0.44259263 0.15108269 0.16808733\n",
      " 0.16808733 0.3548767  0.49201483 0.15108269 0.0998081  0.16004946\n",
      " 0.48695998 0.33594999 0.17767736 0.46863506 0.2216784  0.01663604\n",
      " 0.17767736 0.30970951 0.12033776 0.1168483  0.29588359 0.28258467\n",
      " 0.27122682 0.139799   0.37001374 0.68584796 0.1941531  0.1941531\n",
      " 0.1941531  0.1941531  0.1941531  0.87738661]\n",
      "rank_to_worst_similarity\t [18, 11, 22, 21, 26, 5, 10, 12, 6, 7, 15, 19, 32, 29, 30, 31, 33, 17, 25, 24, 23, 20, 14, 8, 27, 4, 16, 13, 9, 2, 28, 3, 34, 1]\n"
     ]
    }
   ],
   "source": [
    "print(\"worst_similarity\\t\", T.worst_similarity)\n",
    "print(\"rank_to_worst_similarity\\t\", T.rank_to_worst_similarity())"
   ]
  },
  {
   "cell_type": "code",
   "execution_count": 18,
   "metadata": {
    "colab": {
     "base_uri": "https://localhost:8080/"
    },
    "id": "4mCxKEW1Y2V6",
    "outputId": "a1d68811-1cf1-4f9b-f27c-d5036318d4ff"
   },
   "outputs": [
    {
     "name": "stdout",
     "output_type": "stream",
     "text": [
      "worst_similarity\t [0.99170055 0.14126096 0.33505997 0.05593859 0.01778678 0.0722679\n",
      " 0.0722679  0.03350927 0.13444296 0.01778678 0.00505012 0.01290742\n",
      " 0.113237   0.07796202 0.0140361  0.31658695 0.01566882 0.0077132\n",
      " 0.0140361  0.05447501 0.018688   0.01714268 0.05852293 0.02414664\n",
      " 0.03031627 0.01176117 0.04731468 0.34109991 0.01532737 0.01532737\n",
      " 0.01532737 0.01532737 0.01532737 0.69898999]\n",
      "rank_to_worst_similarity\t [11, 18, 26, 12, 19, 15, 32, 30, 29, 33, 31, 17, 22, 5, 10, 21, 24, 25, 8, 27, 20, 4, 23, 7, 6, 14, 13, 9, 2, 16, 3, 28, 34, 1]\n"
     ]
    }
   ],
   "source": [
    "print(\"worst_similarity\\t\", w_T.worst_similarity)\n",
    "print(\"rank_to_worst_similarity\\t\", w_T.rank_to_worst_similarity())"
   ]
  },
  {
   "cell_type": "code",
   "execution_count": 19,
   "metadata": {
    "colab": {
     "base_uri": "https://localhost:8080/"
    },
    "id": "9EvVT27m56Kd",
    "outputId": "0e4ef4c2-d6cf-428e-c851-3506933e4054"
   },
   "outputs": [
    {
     "name": "stdout",
     "output_type": "stream",
     "text": [
      "best_similarity\t [0.04491632 0.43764533 0.30727624 0.55740737 0.84891731 0.83191267\n",
      " 0.83191267 0.6451233  0.50798517 0.84891731 0.9001919  0.83995054\n",
      " 0.51304002 0.66405001 0.82232264 0.53136494 0.7783216  0.98336396\n",
      " 0.82232264 0.69029049 0.87966224 0.8831517  0.70411641 0.71741533\n",
      " 0.72877318 0.860201   0.62998626 0.31415204 0.8058469  0.8058469\n",
      " 0.8058469  0.8058469  0.8058469  0.12261339]\n",
      "rank_to_best_similarity\t [1, 34, 3, 28, 2, 9, 13, 16, 4, 27, 8, 14, 20, 23, 24, 25, 17, 32, 31, 30, 33, 29, 15, 19, 7, 6, 12, 10, 5, 26, 21, 22, 11, 18]\n"
     ]
    }
   ],
   "source": [
    "print(\"best_similarity\\t\", T.best_similarity)\n",
    "print(\"rank_to_best_similarity\\t\", T.rank_to_best_similarity())"
   ]
  },
  {
   "cell_type": "code",
   "execution_count": 20,
   "metadata": {
    "colab": {
     "base_uri": "https://localhost:8080/"
    },
    "id": "z3lKK02IY8dz",
    "outputId": "9da04e8b-a148-4b3b-9dda-360d177fe068"
   },
   "outputs": [
    {
     "name": "stdout",
     "output_type": "stream",
     "text": [
      "best_similarity\t [0.00829945 0.85873904 0.66494003 0.94406141 0.98221322 0.9277321\n",
      " 0.9277321  0.96649073 0.86555704 0.98221322 0.99494988 0.98709258\n",
      " 0.886763   0.92203798 0.9859639  0.68341305 0.98433118 0.9922868\n",
      " 0.9859639  0.94552499 0.981312   0.98285732 0.94147707 0.97585336\n",
      " 0.96968373 0.98823883 0.95268532 0.65890009 0.98467263 0.98467263\n",
      " 0.98467263 0.98467263 0.98467263 0.30101001]\n",
      "rank_to_best_similarity\t [1, 34, 28, 3, 16, 2, 9, 13, 14, 6, 7, 23, 4, 20, 27, 8, 25, 24, 21, 10, 5, 22, 17, 33, 29, 30, 31, 32, 15, 19, 12, 26, 18, 11]\n"
     ]
    }
   ],
   "source": [
    "print(\"best_similarity\\t\", w_T.best_similarity)\n",
    "print(\"rank_to_best_similarity\\t\", w_T.rank_to_best_similarity())"
   ]
  },
  {
   "cell_type": "code",
   "execution_count": 21,
   "metadata": {
    "id": "N2y2yl3a7bJ2"
   },
   "outputs": [],
   "source": [
    "#Convert S+ and S- to array numpy\n",
    "Best_Dist = np.array(T.best_distance)\n",
    "Worst_Dist = np.array(T.worst_distance)"
   ]
  },
  {
   "cell_type": "code",
   "execution_count": 22,
   "metadata": {
    "id": "V_qmU1EIZHVs"
   },
   "outputs": [],
   "source": [
    "#Convert S+ and S- to array numpy\n",
    "w_Best_Dist = np.array(w_T.best_distance)\n",
    "w_Worst_Dist = np.array(w_T.worst_distance)"
   ]
  },
  {
   "cell_type": "markdown",
   "metadata": {
    "id": "foXMXDty5_qi"
   },
   "source": [
    "Calculate Closness\n"
   ]
  },
  {
   "cell_type": "code",
   "execution_count": 23,
   "metadata": {
    "id": "xfjUELP-5-8q"
   },
   "outputs": [],
   "source": [
    "Closnness = []\n",
    "Closnness = Worst_Dist / (Worst_Dist + Best_Dist)"
   ]
  },
  {
   "cell_type": "code",
   "execution_count": 24,
   "metadata": {
    "id": "XxvQhiOzZYF6"
   },
   "outputs": [],
   "source": [
    "w_Closnness = []\n",
    "w_Closnness = w_Worst_Dist / (w_Worst_Dist + w_Best_Dist)"
   ]
  },
  {
   "cell_type": "code",
   "execution_count": 25,
   "metadata": {
    "colab": {
     "base_uri": "https://localhost:8080/",
     "height": 423
    },
    "id": "uPuQBaVH6PQp",
    "outputId": "d8d7e0f0-5aff-4226-c69e-69810f26aecc"
   },
   "outputs": [
    {
     "data": {
      "text/html": [
       "<div>\n",
       "<style scoped>\n",
       "    .dataframe tbody tr th:only-of-type {\n",
       "        vertical-align: middle;\n",
       "    }\n",
       "\n",
       "    .dataframe tbody tr th {\n",
       "        vertical-align: top;\n",
       "    }\n",
       "\n",
       "    .dataframe thead th {\n",
       "        text-align: right;\n",
       "    }\n",
       "</style>\n",
       "<table border=\"1\" class=\"dataframe\">\n",
       "  <thead>\n",
       "    <tr style=\"text-align: right;\">\n",
       "      <th></th>\n",
       "      <th>S+</th>\n",
       "      <th>S-</th>\n",
       "      <th>C</th>\n",
       "    </tr>\n",
       "  </thead>\n",
       "  <tbody>\n",
       "    <tr>\n",
       "      <th>0</th>\n",
       "      <td>0.007710</td>\n",
       "      <td>0.163945</td>\n",
       "      <td>0.955084</td>\n",
       "    </tr>\n",
       "    <tr>\n",
       "      <th>1</th>\n",
       "      <td>0.081695</td>\n",
       "      <td>0.104975</td>\n",
       "      <td>0.562355</td>\n",
       "    </tr>\n",
       "    <tr>\n",
       "      <th>2</th>\n",
       "      <td>0.057726</td>\n",
       "      <td>0.130138</td>\n",
       "      <td>0.692724</td>\n",
       "    </tr>\n",
       "    <tr>\n",
       "      <th>3</th>\n",
       "      <td>0.102749</td>\n",
       "      <td>0.081585</td>\n",
       "      <td>0.442593</td>\n",
       "    </tr>\n",
       "    <tr>\n",
       "      <th>4</th>\n",
       "      <td>0.148403</td>\n",
       "      <td>0.026412</td>\n",
       "      <td>0.151083</td>\n",
       "    </tr>\n",
       "    <tr>\n",
       "      <th>5</th>\n",
       "      <td>0.143987</td>\n",
       "      <td>0.029092</td>\n",
       "      <td>0.168087</td>\n",
       "    </tr>\n",
       "    <tr>\n",
       "      <th>6</th>\n",
       "      <td>0.143987</td>\n",
       "      <td>0.029092</td>\n",
       "      <td>0.168087</td>\n",
       "    </tr>\n",
       "    <tr>\n",
       "      <th>7</th>\n",
       "      <td>0.117188</td>\n",
       "      <td>0.064464</td>\n",
       "      <td>0.354877</td>\n",
       "    </tr>\n",
       "    <tr>\n",
       "      <th>8</th>\n",
       "      <td>0.093540</td>\n",
       "      <td>0.090599</td>\n",
       "      <td>0.492015</td>\n",
       "    </tr>\n",
       "    <tr>\n",
       "      <th>9</th>\n",
       "      <td>0.148403</td>\n",
       "      <td>0.026412</td>\n",
       "      <td>0.151083</td>\n",
       "    </tr>\n",
       "    <tr>\n",
       "      <th>10</th>\n",
       "      <td>0.157936</td>\n",
       "      <td>0.017511</td>\n",
       "      <td>0.099808</td>\n",
       "    </tr>\n",
       "    <tr>\n",
       "      <th>11</th>\n",
       "      <td>0.146915</td>\n",
       "      <td>0.027994</td>\n",
       "      <td>0.160049</td>\n",
       "    </tr>\n",
       "    <tr>\n",
       "      <th>12</th>\n",
       "      <td>0.094929</td>\n",
       "      <td>0.090104</td>\n",
       "      <td>0.486960</td>\n",
       "    </tr>\n",
       "    <tr>\n",
       "      <th>13</th>\n",
       "      <td>0.120283</td>\n",
       "      <td>0.060852</td>\n",
       "      <td>0.335950</td>\n",
       "    </tr>\n",
       "    <tr>\n",
       "      <th>14</th>\n",
       "      <td>0.144220</td>\n",
       "      <td>0.031161</td>\n",
       "      <td>0.177677</td>\n",
       "    </tr>\n",
       "    <tr>\n",
       "      <th>15</th>\n",
       "      <td>0.094061</td>\n",
       "      <td>0.082957</td>\n",
       "      <td>0.468635</td>\n",
       "    </tr>\n",
       "    <tr>\n",
       "      <th>16</th>\n",
       "      <td>0.139217</td>\n",
       "      <td>0.039651</td>\n",
       "      <td>0.221678</td>\n",
       "    </tr>\n",
       "    <tr>\n",
       "      <th>17</th>\n",
       "      <td>0.169790</td>\n",
       "      <td>0.002872</td>\n",
       "      <td>0.016636</td>\n",
       "    </tr>\n",
       "    <tr>\n",
       "      <th>18</th>\n",
       "      <td>0.144220</td>\n",
       "      <td>0.031161</td>\n",
       "      <td>0.177677</td>\n",
       "    </tr>\n",
       "    <tr>\n",
       "      <th>19</th>\n",
       "      <td>0.122002</td>\n",
       "      <td>0.054738</td>\n",
       "      <td>0.309710</td>\n",
       "    </tr>\n",
       "    <tr>\n",
       "      <th>20</th>\n",
       "      <td>0.153710</td>\n",
       "      <td>0.021028</td>\n",
       "      <td>0.120338</td>\n",
       "    </tr>\n",
       "    <tr>\n",
       "      <th>21</th>\n",
       "      <td>0.154544</td>\n",
       "      <td>0.020447</td>\n",
       "      <td>0.116848</td>\n",
       "    </tr>\n",
       "    <tr>\n",
       "      <th>22</th>\n",
       "      <td>0.125464</td>\n",
       "      <td>0.052722</td>\n",
       "      <td>0.295884</td>\n",
       "    </tr>\n",
       "    <tr>\n",
       "      <th>23</th>\n",
       "      <td>0.129130</td>\n",
       "      <td>0.050864</td>\n",
       "      <td>0.282585</td>\n",
       "    </tr>\n",
       "    <tr>\n",
       "      <th>24</th>\n",
       "      <td>0.129017</td>\n",
       "      <td>0.048016</td>\n",
       "      <td>0.271227</td>\n",
       "    </tr>\n",
       "    <tr>\n",
       "      <th>25</th>\n",
       "      <td>0.149937</td>\n",
       "      <td>0.024368</td>\n",
       "      <td>0.139799</td>\n",
       "    </tr>\n",
       "    <tr>\n",
       "      <th>26</th>\n",
       "      <td>0.114153</td>\n",
       "      <td>0.067046</td>\n",
       "      <td>0.370014</td>\n",
       "    </tr>\n",
       "    <tr>\n",
       "      <th>27</th>\n",
       "      <td>0.057815</td>\n",
       "      <td>0.126221</td>\n",
       "      <td>0.685848</td>\n",
       "    </tr>\n",
       "    <tr>\n",
       "      <th>28</th>\n",
       "      <td>0.141577</td>\n",
       "      <td>0.034110</td>\n",
       "      <td>0.194153</td>\n",
       "    </tr>\n",
       "    <tr>\n",
       "      <th>29</th>\n",
       "      <td>0.141577</td>\n",
       "      <td>0.034110</td>\n",
       "      <td>0.194153</td>\n",
       "    </tr>\n",
       "    <tr>\n",
       "      <th>30</th>\n",
       "      <td>0.141577</td>\n",
       "      <td>0.034110</td>\n",
       "      <td>0.194153</td>\n",
       "    </tr>\n",
       "    <tr>\n",
       "      <th>31</th>\n",
       "      <td>0.141577</td>\n",
       "      <td>0.034110</td>\n",
       "      <td>0.194153</td>\n",
       "    </tr>\n",
       "    <tr>\n",
       "      <th>32</th>\n",
       "      <td>0.141577</td>\n",
       "      <td>0.034110</td>\n",
       "      <td>0.194153</td>\n",
       "    </tr>\n",
       "    <tr>\n",
       "      <th>33</th>\n",
       "      <td>0.022554</td>\n",
       "      <td>0.161392</td>\n",
       "      <td>0.877387</td>\n",
       "    </tr>\n",
       "  </tbody>\n",
       "</table>\n",
       "</div>"
      ],
      "text/plain": [
       "          S+        S-         C\n",
       "0   0.007710  0.163945  0.955084\n",
       "1   0.081695  0.104975  0.562355\n",
       "2   0.057726  0.130138  0.692724\n",
       "3   0.102749  0.081585  0.442593\n",
       "4   0.148403  0.026412  0.151083\n",
       "5   0.143987  0.029092  0.168087\n",
       "6   0.143987  0.029092  0.168087\n",
       "7   0.117188  0.064464  0.354877\n",
       "8   0.093540  0.090599  0.492015\n",
       "9   0.148403  0.026412  0.151083\n",
       "10  0.157936  0.017511  0.099808\n",
       "11  0.146915  0.027994  0.160049\n",
       "12  0.094929  0.090104  0.486960\n",
       "13  0.120283  0.060852  0.335950\n",
       "14  0.144220  0.031161  0.177677\n",
       "15  0.094061  0.082957  0.468635\n",
       "16  0.139217  0.039651  0.221678\n",
       "17  0.169790  0.002872  0.016636\n",
       "18  0.144220  0.031161  0.177677\n",
       "19  0.122002  0.054738  0.309710\n",
       "20  0.153710  0.021028  0.120338\n",
       "21  0.154544  0.020447  0.116848\n",
       "22  0.125464  0.052722  0.295884\n",
       "23  0.129130  0.050864  0.282585\n",
       "24  0.129017  0.048016  0.271227\n",
       "25  0.149937  0.024368  0.139799\n",
       "26  0.114153  0.067046  0.370014\n",
       "27  0.057815  0.126221  0.685848\n",
       "28  0.141577  0.034110  0.194153\n",
       "29  0.141577  0.034110  0.194153\n",
       "30  0.141577  0.034110  0.194153\n",
       "31  0.141577  0.034110  0.194153\n",
       "32  0.141577  0.034110  0.194153\n",
       "33  0.022554  0.161392  0.877387"
      ]
     },
     "execution_count": 25,
     "metadata": {},
     "output_type": "execute_result"
    }
   ],
   "source": [
    "#Convert S+, S- and Closnness to DataFrame \n",
    "Worst_Distance = pd.DataFrame(Worst_Dist,columns=['S-'])\n",
    "Best_Distance = pd.DataFrame(Best_Dist,columns=['S+'])\n",
    "Clos = pd.DataFrame(Closnness,columns=['C'])\n",
    "# Concatenate results\n",
    "Out = pd.concat([Best_Distance, Worst_Distance, Clos], axis=1)\n",
    "Out"
   ]
  },
  {
   "cell_type": "code",
   "execution_count": 26,
   "metadata": {
    "colab": {
     "base_uri": "https://localhost:8080/",
     "height": 423
    },
    "id": "b7UaPfhKZhvs",
    "outputId": "f0e9820b-0292-4637-88df-17c065366d9f"
   },
   "outputs": [
    {
     "data": {
      "text/html": [
       "<div>\n",
       "<style scoped>\n",
       "    .dataframe tbody tr th:only-of-type {\n",
       "        vertical-align: middle;\n",
       "    }\n",
       "\n",
       "    .dataframe tbody tr th {\n",
       "        vertical-align: top;\n",
       "    }\n",
       "\n",
       "    .dataframe thead th {\n",
       "        text-align: right;\n",
       "    }\n",
       "</style>\n",
       "<table border=\"1\" class=\"dataframe\">\n",
       "  <thead>\n",
       "    <tr style=\"text-align: right;\">\n",
       "      <th></th>\n",
       "      <th>S+</th>\n",
       "      <th>S-</th>\n",
       "      <th>C</th>\n",
       "    </tr>\n",
       "  </thead>\n",
       "  <tbody>\n",
       "    <tr>\n",
       "      <th>0</th>\n",
       "      <td>0.004620</td>\n",
       "      <td>0.552045</td>\n",
       "      <td>0.991701</td>\n",
       "    </tr>\n",
       "    <tr>\n",
       "      <th>1</th>\n",
       "      <td>0.481235</td>\n",
       "      <td>0.079162</td>\n",
       "      <td>0.141261</td>\n",
       "    </tr>\n",
       "    <tr>\n",
       "      <th>2</th>\n",
       "      <td>0.368949</td>\n",
       "      <td>0.185911</td>\n",
       "      <td>0.335060</td>\n",
       "    </tr>\n",
       "    <tr>\n",
       "      <th>3</th>\n",
       "      <td>0.534777</td>\n",
       "      <td>0.031687</td>\n",
       "      <td>0.055939</td>\n",
       "    </tr>\n",
       "    <tr>\n",
       "      <th>4</th>\n",
       "      <td>0.550597</td>\n",
       "      <td>0.009971</td>\n",
       "      <td>0.017787</td>\n",
       "    </tr>\n",
       "    <tr>\n",
       "      <th>5</th>\n",
       "      <td>0.513666</td>\n",
       "      <td>0.040013</td>\n",
       "      <td>0.072268</td>\n",
       "    </tr>\n",
       "    <tr>\n",
       "      <th>6</th>\n",
       "      <td>0.513666</td>\n",
       "      <td>0.040013</td>\n",
       "      <td>0.072268</td>\n",
       "    </tr>\n",
       "    <tr>\n",
       "      <th>7</th>\n",
       "      <td>0.550535</td>\n",
       "      <td>0.019088</td>\n",
       "      <td>0.033509</td>\n",
       "    </tr>\n",
       "    <tr>\n",
       "      <th>8</th>\n",
       "      <td>0.480383</td>\n",
       "      <td>0.074616</td>\n",
       "      <td>0.134443</td>\n",
       "    </tr>\n",
       "    <tr>\n",
       "      <th>9</th>\n",
       "      <td>0.550597</td>\n",
       "      <td>0.009971</td>\n",
       "      <td>0.017787</td>\n",
       "    </tr>\n",
       "    <tr>\n",
       "      <th>10</th>\n",
       "      <td>0.552500</td>\n",
       "      <td>0.002804</td>\n",
       "      <td>0.005050</td>\n",
       "    </tr>\n",
       "    <tr>\n",
       "      <th>11</th>\n",
       "      <td>0.551825</td>\n",
       "      <td>0.007216</td>\n",
       "      <td>0.012907</td>\n",
       "    </tr>\n",
       "    <tr>\n",
       "      <th>12</th>\n",
       "      <td>0.492896</td>\n",
       "      <td>0.062941</td>\n",
       "      <td>0.113237</td>\n",
       "    </tr>\n",
       "    <tr>\n",
       "      <th>13</th>\n",
       "      <td>0.510746</td>\n",
       "      <td>0.043186</td>\n",
       "      <td>0.077962</td>\n",
       "    </tr>\n",
       "    <tr>\n",
       "      <th>14</th>\n",
       "      <td>0.551786</td>\n",
       "      <td>0.007855</td>\n",
       "      <td>0.014036</td>\n",
       "    </tr>\n",
       "    <tr>\n",
       "      <th>15</th>\n",
       "      <td>0.377782</td>\n",
       "      <td>0.175005</td>\n",
       "      <td>0.316587</td>\n",
       "    </tr>\n",
       "    <tr>\n",
       "      <th>16</th>\n",
       "      <td>0.550687</td>\n",
       "      <td>0.008766</td>\n",
       "      <td>0.015669</td>\n",
       "    </tr>\n",
       "    <tr>\n",
       "      <th>17</th>\n",
       "      <td>0.552145</td>\n",
       "      <td>0.004292</td>\n",
       "      <td>0.007713</td>\n",
       "    </tr>\n",
       "    <tr>\n",
       "      <th>18</th>\n",
       "      <td>0.551786</td>\n",
       "      <td>0.007855</td>\n",
       "      <td>0.014036</td>\n",
       "    </tr>\n",
       "    <tr>\n",
       "      <th>19</th>\n",
       "      <td>0.528279</td>\n",
       "      <td>0.030436</td>\n",
       "      <td>0.054475</td>\n",
       "    </tr>\n",
       "    <tr>\n",
       "      <th>20</th>\n",
       "      <td>0.546698</td>\n",
       "      <td>0.010411</td>\n",
       "      <td>0.018688</td>\n",
       "    </tr>\n",
       "    <tr>\n",
       "      <th>21</th>\n",
       "      <td>0.548734</td>\n",
       "      <td>0.009571</td>\n",
       "      <td>0.017143</td>\n",
       "    </tr>\n",
       "    <tr>\n",
       "      <th>22</th>\n",
       "      <td>0.522917</td>\n",
       "      <td>0.032505</td>\n",
       "      <td>0.058523</td>\n",
       "    </tr>\n",
       "    <tr>\n",
       "      <th>23</th>\n",
       "      <td>0.548905</td>\n",
       "      <td>0.013582</td>\n",
       "      <td>0.024147</td>\n",
       "    </tr>\n",
       "    <tr>\n",
       "      <th>24</th>\n",
       "      <td>0.547035</td>\n",
       "      <td>0.017103</td>\n",
       "      <td>0.030316</td>\n",
       "    </tr>\n",
       "    <tr>\n",
       "      <th>25</th>\n",
       "      <td>0.551867</td>\n",
       "      <td>0.006568</td>\n",
       "      <td>0.011761</td>\n",
       "    </tr>\n",
       "    <tr>\n",
       "      <th>26</th>\n",
       "      <td>0.532604</td>\n",
       "      <td>0.026452</td>\n",
       "      <td>0.047315</td>\n",
       "    </tr>\n",
       "    <tr>\n",
       "      <th>27</th>\n",
       "      <td>0.366377</td>\n",
       "      <td>0.189666</td>\n",
       "      <td>0.341100</td>\n",
       "    </tr>\n",
       "    <tr>\n",
       "      <th>28</th>\n",
       "      <td>0.551745</td>\n",
       "      <td>0.008588</td>\n",
       "      <td>0.015327</td>\n",
       "    </tr>\n",
       "    <tr>\n",
       "      <th>29</th>\n",
       "      <td>0.551745</td>\n",
       "      <td>0.008588</td>\n",
       "      <td>0.015327</td>\n",
       "    </tr>\n",
       "    <tr>\n",
       "      <th>30</th>\n",
       "      <td>0.551745</td>\n",
       "      <td>0.008588</td>\n",
       "      <td>0.015327</td>\n",
       "    </tr>\n",
       "    <tr>\n",
       "      <th>31</th>\n",
       "      <td>0.551745</td>\n",
       "      <td>0.008588</td>\n",
       "      <td>0.015327</td>\n",
       "    </tr>\n",
       "    <tr>\n",
       "      <th>32</th>\n",
       "      <td>0.551745</td>\n",
       "      <td>0.008588</td>\n",
       "      <td>0.015327</td>\n",
       "    </tr>\n",
       "    <tr>\n",
       "      <th>33</th>\n",
       "      <td>0.167046</td>\n",
       "      <td>0.387907</td>\n",
       "      <td>0.698990</td>\n",
       "    </tr>\n",
       "  </tbody>\n",
       "</table>\n",
       "</div>"
      ],
      "text/plain": [
       "          S+        S-         C\n",
       "0   0.004620  0.552045  0.991701\n",
       "1   0.481235  0.079162  0.141261\n",
       "2   0.368949  0.185911  0.335060\n",
       "3   0.534777  0.031687  0.055939\n",
       "4   0.550597  0.009971  0.017787\n",
       "5   0.513666  0.040013  0.072268\n",
       "6   0.513666  0.040013  0.072268\n",
       "7   0.550535  0.019088  0.033509\n",
       "8   0.480383  0.074616  0.134443\n",
       "9   0.550597  0.009971  0.017787\n",
       "10  0.552500  0.002804  0.005050\n",
       "11  0.551825  0.007216  0.012907\n",
       "12  0.492896  0.062941  0.113237\n",
       "13  0.510746  0.043186  0.077962\n",
       "14  0.551786  0.007855  0.014036\n",
       "15  0.377782  0.175005  0.316587\n",
       "16  0.550687  0.008766  0.015669\n",
       "17  0.552145  0.004292  0.007713\n",
       "18  0.551786  0.007855  0.014036\n",
       "19  0.528279  0.030436  0.054475\n",
       "20  0.546698  0.010411  0.018688\n",
       "21  0.548734  0.009571  0.017143\n",
       "22  0.522917  0.032505  0.058523\n",
       "23  0.548905  0.013582  0.024147\n",
       "24  0.547035  0.017103  0.030316\n",
       "25  0.551867  0.006568  0.011761\n",
       "26  0.532604  0.026452  0.047315\n",
       "27  0.366377  0.189666  0.341100\n",
       "28  0.551745  0.008588  0.015327\n",
       "29  0.551745  0.008588  0.015327\n",
       "30  0.551745  0.008588  0.015327\n",
       "31  0.551745  0.008588  0.015327\n",
       "32  0.551745  0.008588  0.015327\n",
       "33  0.167046  0.387907  0.698990"
      ]
     },
     "execution_count": 26,
     "metadata": {},
     "output_type": "execute_result"
    }
   ],
   "source": [
    "#Convert S+, S- and Closnness to DataFrame \n",
    "w_Worst_Distance = pd.DataFrame(w_Worst_Dist,columns=['S-'])\n",
    "w_Best_Distance = pd.DataFrame(w_Best_Dist,columns=['S+'])\n",
    "w_Clos = pd.DataFrame(w_Closnness,columns=['C'])\n",
    "# Concatenate results\n",
    "w_Out = pd.concat([w_Best_Distance, w_Worst_Distance, w_Clos], axis=1)\n",
    "w_Out"
   ]
  },
  {
   "cell_type": "code",
   "execution_count": 27,
   "metadata": {
    "id": "TLIignLU6UOd"
   },
   "outputs": [],
   "source": [
    "#sort DataFrame by Closnness Column (Descending)\n",
    "Out = Out.sort_values(by=\"C\",ascending=False)\n",
    "Out\n",
    "\n",
    "# Save it into a csv file (out.csv)\n",
    "Out.to_csv(\"Data/Out.csv\",index=False)"
   ]
  },
  {
   "cell_type": "code",
   "execution_count": 28,
   "metadata": {
    "id": "BDyPsYnJZ6QS"
   },
   "outputs": [],
   "source": [
    "#sort DataFrame by Closnness Column (Descending)\n",
    "w_Out = w_Out.sort_values(by=\"C\",ascending=False)\n",
    "w_Out\n",
    "\n",
    "# Save it into a csv file (out.csv)\n",
    "w_Out.to_csv(\"Data/w_Out.csv\",index=False)"
   ]
  },
  {
   "cell_type": "code",
   "execution_count": 29,
   "metadata": {
    "colab": {
     "base_uri": "https://localhost:8080/"
    },
    "id": "genUs0PmAOKl",
    "outputId": "c8817dbb-a490-400a-cdc1-d45eabda0581"
   },
   "outputs": [
    {
     "data": {
      "text/plain": [
       "[0,\n",
       " 33,\n",
       " 2,\n",
       " 27,\n",
       " 1,\n",
       " 8,\n",
       " 12,\n",
       " 15,\n",
       " 3,\n",
       " 26,\n",
       " 7,\n",
       " 13,\n",
       " 19,\n",
       " 22,\n",
       " 23,\n",
       " 24,\n",
       " 16,\n",
       " 32,\n",
       " 30,\n",
       " 29,\n",
       " 28,\n",
       " 31,\n",
       " 18,\n",
       " 14,\n",
       " 6,\n",
       " 5,\n",
       " 11,\n",
       " 9,\n",
       " 4,\n",
       " 25,\n",
       " 20,\n",
       " 21,\n",
       " 10,\n",
       " 17]"
      ]
     },
     "execution_count": 29,
     "metadata": {},
     "output_type": "execute_result"
    }
   ],
   "source": [
    "#Call the function Ranking_closness\n",
    "#Function return the index of the grather value(Closness vector) based on a descending order\n",
    "def ranking_closness(data):\n",
    "    return [i for i in data.argsort()[-len(data):][::-1]]\n",
    "#Call the function Ranking_closness\n",
    "C = ranking_closness(Closnness)\n",
    "C\n",
    "\n"
   ]
  },
  {
   "cell_type": "code",
   "execution_count": 30,
   "metadata": {
    "colab": {
     "base_uri": "https://localhost:8080/"
    },
    "id": "h_T1YM2LaIIH",
    "outputId": "0c5ee832-177b-4fd6-a778-036e450886ec"
   },
   "outputs": [
    {
     "data": {
      "text/plain": [
       "[0,\n",
       " 33,\n",
       " 27,\n",
       " 2,\n",
       " 15,\n",
       " 1,\n",
       " 8,\n",
       " 12,\n",
       " 13,\n",
       " 5,\n",
       " 6,\n",
       " 22,\n",
       " 3,\n",
       " 19,\n",
       " 26,\n",
       " 7,\n",
       " 24,\n",
       " 23,\n",
       " 20,\n",
       " 9,\n",
       " 4,\n",
       " 21,\n",
       " 16,\n",
       " 30,\n",
       " 32,\n",
       " 28,\n",
       " 29,\n",
       " 31,\n",
       " 14,\n",
       " 18,\n",
       " 11,\n",
       " 25,\n",
       " 17,\n",
       " 10]"
      ]
     },
     "execution_count": 30,
     "metadata": {},
     "output_type": "execute_result"
    }
   ],
   "source": [
    "#Call the function Ranking_closness\n",
    "#Function return the index of the grather value(Closness vector) based on a descending order\n",
    "def ranking_closness(data):\n",
    "    return [i for i in data.argsort()[-len(data):][::-1]]\n",
    "#Call the function Ranking_closness\n",
    "w_C = ranking_closness(w_Closnness)\n",
    "w_C\n",
    "\n"
   ]
  },
  {
   "cell_type": "code",
   "execution_count": 31,
   "metadata": {
    "colab": {
     "base_uri": "https://localhost:8080/"
    },
    "id": "N3qr9qeUdrR6",
    "outputId": "7cd7509e-52f9-4161-c73e-bcac6479ab61"
   },
   "outputs": [
    {
     "data": {
      "text/plain": [
       "[1,\n",
       " 34,\n",
       " 3,\n",
       " 33,\n",
       " 2,\n",
       " 9,\n",
       " 14,\n",
       " 32,\n",
       " 4,\n",
       " 31,\n",
       " 8,\n",
       " 20,\n",
       " 24,\n",
       " 28,\n",
       " 29,\n",
       " 30,\n",
       " 10,\n",
       " 23,\n",
       " 19,\n",
       " 16,\n",
       " 15,\n",
       " 21,\n",
       " 18,\n",
       " 22,\n",
       " 7,\n",
       " 6,\n",
       " 13,\n",
       " 11,\n",
       " 5,\n",
       " 27,\n",
       " 26,\n",
       " 25,\n",
       " 12,\n",
       " 17]"
      ]
     },
     "execution_count": 31,
     "metadata": {},
     "output_type": "execute_result"
    }
   ],
   "source": [
    "\n",
    "#retrieve the nodes that correspond to the indices returned by the function above\n",
    "Tab = []\n",
    "for i in range(len(C)):\n",
    "       Tab.append(Matrix['Node'].loc[C[i]])\n",
    "        \n",
    "Tab"
   ]
  },
  {
   "cell_type": "code",
   "execution_count": 32,
   "metadata": {
    "colab": {
     "base_uri": "https://localhost:8080/"
    },
    "id": "peeC-loMagMi",
    "outputId": "5ea66263-a4fd-46ef-bda5-30ffcefd5d3d"
   },
   "outputs": [
    {
     "data": {
      "text/plain": [
       "[1,\n",
       " 34,\n",
       " 33,\n",
       " 3,\n",
       " 32,\n",
       " 2,\n",
       " 9,\n",
       " 14,\n",
       " 20,\n",
       " 6,\n",
       " 7,\n",
       " 28,\n",
       " 4,\n",
       " 24,\n",
       " 31,\n",
       " 8,\n",
       " 30,\n",
       " 29,\n",
       " 26,\n",
       " 11,\n",
       " 5,\n",
       " 25,\n",
       " 10,\n",
       " 19,\n",
       " 23,\n",
       " 15,\n",
       " 16,\n",
       " 21,\n",
       " 22,\n",
       " 18,\n",
       " 13,\n",
       " 27,\n",
       " 17,\n",
       " 12]"
      ]
     },
     "execution_count": 32,
     "metadata": {},
     "output_type": "execute_result"
    }
   ],
   "source": [
    "\n",
    "#retrieve the nodes that correspond to the indices returned by the function above\n",
    "w_Tab = []\n",
    "for i in range(len(w_C)):\n",
    "       w_Tab.append(Matrix['w_Node'].loc[w_C[i]])\n",
    "        \n",
    "w_Tab"
   ]
  },
  {
   "cell_type": "code",
   "execution_count": 33,
   "metadata": {
    "id": "VFKvGKNVAw3a"
   },
   "outputs": [],
   "source": [
    "#Convert Tab above to DataFrame \n",
    "Tab_Data=pd.DataFrame(Tab,columns=[\"Node\"])\n",
    "\n",
    "Tab_Data[\"Node\"].to_csv(\"Data/Topsis.csv\",index=False)"
   ]
  },
  {
   "cell_type": "code",
   "execution_count": 34,
   "metadata": {
    "id": "JH5XKc_JduhE"
   },
   "outputs": [],
   "source": [
    "#Convert Tab above to DataFrame \n",
    "w_Tab_Data=pd.DataFrame(w_Tab,columns=[\"w_Node\"])\n",
    "\n",
    "w_Tab_Data[\"w_Node\"].to_csv(\"Data/w_Topsis.csv\",index=False)"
   ]
  },
  {
   "cell_type": "code",
   "execution_count": 35,
   "metadata": {
    "colab": {
     "base_uri": "https://localhost:8080/",
     "height": 363
    },
    "id": "WjdT7IBiApR0",
    "outputId": "e114bfb6-8c3d-40fd-f1f2-c15717b9d9f4"
   },
   "outputs": [
    {
     "data": {
      "text/html": [
       "<div>\n",
       "<style scoped>\n",
       "    .dataframe tbody tr th:only-of-type {\n",
       "        vertical-align: middle;\n",
       "    }\n",
       "\n",
       "    .dataframe tbody tr th {\n",
       "        vertical-align: top;\n",
       "    }\n",
       "\n",
       "    .dataframe thead th {\n",
       "        text-align: right;\n",
       "    }\n",
       "</style>\n",
       "<table border=\"1\" class=\"dataframe\">\n",
       "  <thead>\n",
       "    <tr style=\"text-align: right;\">\n",
       "      <th></th>\n",
       "      <th>S+</th>\n",
       "      <th>S-</th>\n",
       "      <th>C</th>\n",
       "      <th>Node</th>\n",
       "    </tr>\n",
       "  </thead>\n",
       "  <tbody>\n",
       "    <tr>\n",
       "      <th>0</th>\n",
       "      <td>0.007710</td>\n",
       "      <td>0.163945</td>\n",
       "      <td>0.955084</td>\n",
       "      <td>1</td>\n",
       "    </tr>\n",
       "    <tr>\n",
       "      <th>1</th>\n",
       "      <td>0.022554</td>\n",
       "      <td>0.161392</td>\n",
       "      <td>0.877387</td>\n",
       "      <td>34</td>\n",
       "    </tr>\n",
       "    <tr>\n",
       "      <th>2</th>\n",
       "      <td>0.057726</td>\n",
       "      <td>0.130138</td>\n",
       "      <td>0.692724</td>\n",
       "      <td>3</td>\n",
       "    </tr>\n",
       "    <tr>\n",
       "      <th>3</th>\n",
       "      <td>0.057815</td>\n",
       "      <td>0.126221</td>\n",
       "      <td>0.685848</td>\n",
       "      <td>33</td>\n",
       "    </tr>\n",
       "    <tr>\n",
       "      <th>4</th>\n",
       "      <td>0.081695</td>\n",
       "      <td>0.104975</td>\n",
       "      <td>0.562355</td>\n",
       "      <td>2</td>\n",
       "    </tr>\n",
       "    <tr>\n",
       "      <th>5</th>\n",
       "      <td>0.093540</td>\n",
       "      <td>0.090599</td>\n",
       "      <td>0.492015</td>\n",
       "      <td>9</td>\n",
       "    </tr>\n",
       "    <tr>\n",
       "      <th>6</th>\n",
       "      <td>0.094929</td>\n",
       "      <td>0.090104</td>\n",
       "      <td>0.486960</td>\n",
       "      <td>14</td>\n",
       "    </tr>\n",
       "    <tr>\n",
       "      <th>7</th>\n",
       "      <td>0.094061</td>\n",
       "      <td>0.082957</td>\n",
       "      <td>0.468635</td>\n",
       "      <td>32</td>\n",
       "    </tr>\n",
       "    <tr>\n",
       "      <th>8</th>\n",
       "      <td>0.102749</td>\n",
       "      <td>0.081585</td>\n",
       "      <td>0.442593</td>\n",
       "      <td>4</td>\n",
       "    </tr>\n",
       "    <tr>\n",
       "      <th>9</th>\n",
       "      <td>0.114153</td>\n",
       "      <td>0.067046</td>\n",
       "      <td>0.370014</td>\n",
       "      <td>31</td>\n",
       "    </tr>\n",
       "  </tbody>\n",
       "</table>\n",
       "</div>"
      ],
      "text/plain": [
       "         S+        S-         C  Node\n",
       "0  0.007710  0.163945  0.955084     1\n",
       "1  0.022554  0.161392  0.877387    34\n",
       "2  0.057726  0.130138  0.692724     3\n",
       "3  0.057815  0.126221  0.685848    33\n",
       "4  0.081695  0.104975  0.562355     2\n",
       "5  0.093540  0.090599  0.492015     9\n",
       "6  0.094929  0.090104  0.486960    14\n",
       "7  0.094061  0.082957  0.468635    32\n",
       "8  0.102749  0.081585  0.442593     4\n",
       "9  0.114153  0.067046  0.370014    31"
      ]
     },
     "execution_count": 35,
     "metadata": {},
     "output_type": "execute_result"
    }
   ],
   "source": [
    "Final_Tab = pd.concat([pd.read_csv(\"Data/Out.csv\"),Tab_Data],axis=1)\n",
    "\n",
    "Final_Tab.head(10)"
   ]
  },
  {
   "cell_type": "code",
   "execution_count": 36,
   "metadata": {
    "colab": {
     "base_uri": "https://localhost:8080/",
     "height": 363
    },
    "id": "hd3Zg1NjeH1p",
    "outputId": "54c44590-ecac-4810-a546-164595788e5c"
   },
   "outputs": [
    {
     "data": {
      "text/html": [
       "<div>\n",
       "<style scoped>\n",
       "    .dataframe tbody tr th:only-of-type {\n",
       "        vertical-align: middle;\n",
       "    }\n",
       "\n",
       "    .dataframe tbody tr th {\n",
       "        vertical-align: top;\n",
       "    }\n",
       "\n",
       "    .dataframe thead th {\n",
       "        text-align: right;\n",
       "    }\n",
       "</style>\n",
       "<table border=\"1\" class=\"dataframe\">\n",
       "  <thead>\n",
       "    <tr style=\"text-align: right;\">\n",
       "      <th></th>\n",
       "      <th>S+</th>\n",
       "      <th>S-</th>\n",
       "      <th>C</th>\n",
       "      <th>w_Node</th>\n",
       "    </tr>\n",
       "  </thead>\n",
       "  <tbody>\n",
       "    <tr>\n",
       "      <th>0</th>\n",
       "      <td>0.004620</td>\n",
       "      <td>0.552045</td>\n",
       "      <td>0.991701</td>\n",
       "      <td>1</td>\n",
       "    </tr>\n",
       "    <tr>\n",
       "      <th>1</th>\n",
       "      <td>0.167046</td>\n",
       "      <td>0.387907</td>\n",
       "      <td>0.698990</td>\n",
       "      <td>34</td>\n",
       "    </tr>\n",
       "    <tr>\n",
       "      <th>2</th>\n",
       "      <td>0.366377</td>\n",
       "      <td>0.189666</td>\n",
       "      <td>0.341100</td>\n",
       "      <td>33</td>\n",
       "    </tr>\n",
       "    <tr>\n",
       "      <th>3</th>\n",
       "      <td>0.368949</td>\n",
       "      <td>0.185911</td>\n",
       "      <td>0.335060</td>\n",
       "      <td>3</td>\n",
       "    </tr>\n",
       "    <tr>\n",
       "      <th>4</th>\n",
       "      <td>0.377782</td>\n",
       "      <td>0.175005</td>\n",
       "      <td>0.316587</td>\n",
       "      <td>32</td>\n",
       "    </tr>\n",
       "    <tr>\n",
       "      <th>5</th>\n",
       "      <td>0.481235</td>\n",
       "      <td>0.079162</td>\n",
       "      <td>0.141261</td>\n",
       "      <td>2</td>\n",
       "    </tr>\n",
       "    <tr>\n",
       "      <th>6</th>\n",
       "      <td>0.480383</td>\n",
       "      <td>0.074616</td>\n",
       "      <td>0.134443</td>\n",
       "      <td>9</td>\n",
       "    </tr>\n",
       "    <tr>\n",
       "      <th>7</th>\n",
       "      <td>0.492896</td>\n",
       "      <td>0.062941</td>\n",
       "      <td>0.113237</td>\n",
       "      <td>14</td>\n",
       "    </tr>\n",
       "    <tr>\n",
       "      <th>8</th>\n",
       "      <td>0.510746</td>\n",
       "      <td>0.043186</td>\n",
       "      <td>0.077962</td>\n",
       "      <td>20</td>\n",
       "    </tr>\n",
       "    <tr>\n",
       "      <th>9</th>\n",
       "      <td>0.513666</td>\n",
       "      <td>0.040013</td>\n",
       "      <td>0.072268</td>\n",
       "      <td>6</td>\n",
       "    </tr>\n",
       "  </tbody>\n",
       "</table>\n",
       "</div>"
      ],
      "text/plain": [
       "         S+        S-         C  w_Node\n",
       "0  0.004620  0.552045  0.991701       1\n",
       "1  0.167046  0.387907  0.698990      34\n",
       "2  0.366377  0.189666  0.341100      33\n",
       "3  0.368949  0.185911  0.335060       3\n",
       "4  0.377782  0.175005  0.316587      32\n",
       "5  0.481235  0.079162  0.141261       2\n",
       "6  0.480383  0.074616  0.134443       9\n",
       "7  0.492896  0.062941  0.113237      14\n",
       "8  0.510746  0.043186  0.077962      20\n",
       "9  0.513666  0.040013  0.072268       6"
      ]
     },
     "execution_count": 36,
     "metadata": {},
     "output_type": "execute_result"
    }
   ],
   "source": [
    "w_Final_Tab = pd.concat([pd.read_csv(\"Data/w_Out.csv\"),w_Tab_Data],axis=1)\n",
    "\n",
    "w_Final_Tab.head(10)"
   ]
  },
  {
   "cell_type": "code",
   "execution_count": 37,
   "metadata": {
    "colab": {
     "base_uri": "https://localhost:8080/"
    },
    "id": "uJC9wYiSBLRJ",
    "outputId": "42e0d5af-b1e4-4198-da28-9570e2ba851a"
   },
   "outputs": [
    {
     "name": "stdout",
     "output_type": "stream",
     "text": [
      "The 1 top influential node is  1\n",
      "The 2 top influential node is  34\n",
      "The 3 top influential node is  3\n",
      "The 4 top influential node is  33\n",
      "The 5 top influential node is  2\n"
     ]
    }
   ],
   "source": [
    "K = 5\n",
    "\n",
    "for i in range(K):\n",
    "    print(\"The\",i+1,\"top influential node is \",Final_Tab[\"Node\"][i])"
   ]
  },
  {
   "cell_type": "code",
   "execution_count": 38,
   "metadata": {
    "colab": {
     "base_uri": "https://localhost:8080/"
    },
    "id": "cjfcEhhkeRr8",
    "outputId": "aac72c4f-b6d9-49dd-ab01-7175e8d51337"
   },
   "outputs": [
    {
     "name": "stdout",
     "output_type": "stream",
     "text": [
      "The 1 top influential node is  1\n",
      "The 2 top influential node is  34\n",
      "The 3 top influential node is  33\n",
      "The 4 top influential node is  3\n",
      "The 5 top influential node is  32\n"
     ]
    }
   ],
   "source": [
    "K = 5\n",
    "\n",
    "for i in range(K):\n",
    "    print(\"The\",i+1,\"top influential node is \",w_Final_Tab[\"w_Node\"][i])"
   ]
  },
  {
   "cell_type": "code",
   "execution_count": 39,
   "metadata": {
    "id": "FEmVeYgkBWv4"
   },
   "outputs": [
    {
     "data": {
      "text/html": [
       "<div>\n",
       "<style scoped>\n",
       "    .dataframe tbody tr th:only-of-type {\n",
       "        vertical-align: middle;\n",
       "    }\n",
       "\n",
       "    .dataframe tbody tr th {\n",
       "        vertical-align: top;\n",
       "    }\n",
       "\n",
       "    .dataframe thead th {\n",
       "        text-align: right;\n",
       "    }\n",
       "</style>\n",
       "<table border=\"1\" class=\"dataframe\">\n",
       "  <thead>\n",
       "    <tr style=\"text-align: right;\">\n",
       "      <th></th>\n",
       "      <th>Node</th>\n",
       "      <th>w_Node</th>\n",
       "      <th>DC</th>\n",
       "      <th>BC</th>\n",
       "      <th>CC</th>\n",
       "      <th>EC</th>\n",
       "      <th>C</th>\n",
       "    </tr>\n",
       "  </thead>\n",
       "  <tbody>\n",
       "    <tr>\n",
       "      <th>0</th>\n",
       "      <td>1</td>\n",
       "      <td>1</td>\n",
       "      <td>0.484848</td>\n",
       "      <td>0.437635</td>\n",
       "      <td>0.568966</td>\n",
       "      <td>0.355483</td>\n",
       "      <td>0.955084</td>\n",
       "    </tr>\n",
       "    <tr>\n",
       "      <th>33</th>\n",
       "      <td>34</td>\n",
       "      <td>34</td>\n",
       "      <td>0.515152</td>\n",
       "      <td>0.304075</td>\n",
       "      <td>0.550000</td>\n",
       "      <td>0.373371</td>\n",
       "      <td>0.877387</td>\n",
       "    </tr>\n",
       "    <tr>\n",
       "      <th>2</th>\n",
       "      <td>3</td>\n",
       "      <td>3</td>\n",
       "      <td>0.303030</td>\n",
       "      <td>0.143657</td>\n",
       "      <td>0.559322</td>\n",
       "      <td>0.317189</td>\n",
       "      <td>0.692724</td>\n",
       "    </tr>\n",
       "    <tr>\n",
       "      <th>27</th>\n",
       "      <td>33</td>\n",
       "      <td>33</td>\n",
       "      <td>0.363636</td>\n",
       "      <td>0.145247</td>\n",
       "      <td>0.515625</td>\n",
       "      <td>0.308651</td>\n",
       "      <td>0.685848</td>\n",
       "    </tr>\n",
       "    <tr>\n",
       "      <th>1</th>\n",
       "      <td>2</td>\n",
       "      <td>2</td>\n",
       "      <td>0.272727</td>\n",
       "      <td>0.053937</td>\n",
       "      <td>0.485294</td>\n",
       "      <td>0.265954</td>\n",
       "      <td>0.562355</td>\n",
       "    </tr>\n",
       "    <tr>\n",
       "      <th>8</th>\n",
       "      <td>9</td>\n",
       "      <td>9</td>\n",
       "      <td>0.151515</td>\n",
       "      <td>0.055927</td>\n",
       "      <td>0.515625</td>\n",
       "      <td>0.227405</td>\n",
       "      <td>0.492015</td>\n",
       "    </tr>\n",
       "    <tr>\n",
       "      <th>12</th>\n",
       "      <td>14</td>\n",
       "      <td>14</td>\n",
       "      <td>0.151515</td>\n",
       "      <td>0.045863</td>\n",
       "      <td>0.515625</td>\n",
       "      <td>0.226470</td>\n",
       "      <td>0.486960</td>\n",
       "    </tr>\n",
       "    <tr>\n",
       "      <th>15</th>\n",
       "      <td>32</td>\n",
       "      <td>32</td>\n",
       "      <td>0.181818</td>\n",
       "      <td>0.138276</td>\n",
       "      <td>0.540984</td>\n",
       "      <td>0.191036</td>\n",
       "      <td>0.468635</td>\n",
       "    </tr>\n",
       "    <tr>\n",
       "      <th>3</th>\n",
       "      <td>4</td>\n",
       "      <td>4</td>\n",
       "      <td>0.181818</td>\n",
       "      <td>0.011909</td>\n",
       "      <td>0.464789</td>\n",
       "      <td>0.211174</td>\n",
       "      <td>0.442593</td>\n",
       "    </tr>\n",
       "    <tr>\n",
       "      <th>26</th>\n",
       "      <td>31</td>\n",
       "      <td>31</td>\n",
       "      <td>0.121212</td>\n",
       "      <td>0.014412</td>\n",
       "      <td>0.458333</td>\n",
       "      <td>0.174760</td>\n",
       "      <td>0.370014</td>\n",
       "    </tr>\n",
       "  </tbody>\n",
       "</table>\n",
       "</div>"
      ],
      "text/plain": [
       "    Node  w_Node        DC        BC        CC        EC         C\n",
       "0      1       1  0.484848  0.437635  0.568966  0.355483  0.955084\n",
       "33    34      34  0.515152  0.304075  0.550000  0.373371  0.877387\n",
       "2      3       3  0.303030  0.143657  0.559322  0.317189  0.692724\n",
       "27    33      33  0.363636  0.145247  0.515625  0.308651  0.685848\n",
       "1      2       2  0.272727  0.053937  0.485294  0.265954  0.562355\n",
       "8      9       9  0.151515  0.055927  0.515625  0.227405  0.492015\n",
       "12    14      14  0.151515  0.045863  0.515625  0.226470  0.486960\n",
       "15    32      32  0.181818  0.138276  0.540984  0.191036  0.468635\n",
       "3      4       4  0.181818  0.011909  0.464789  0.211174  0.442593\n",
       "26    31      31  0.121212  0.014412  0.458333  0.174760  0.370014"
      ]
     },
     "execution_count": 39,
     "metadata": {},
     "output_type": "execute_result"
    }
   ],
   "source": [
    "Out1 = pd.concat([Matrix, Clos], axis=1)\n",
    "Out1\n",
    "Out1 = Out1.sort_values(by=\"C\",ascending=False)\n",
    "Out1\n",
    "\n",
    "# Save it into a csv file (out.csv)\n",
    "Out1.to_csv(\"Data/Out1.csv\",index=False)\n",
    "Out1.head(10)"
   ]
  },
  {
   "cell_type": "code",
   "execution_count": 40,
   "metadata": {
    "id": "6FUeWlKUefQB"
   },
   "outputs": [
    {
     "data": {
      "text/html": [
       "<div>\n",
       "<style scoped>\n",
       "    .dataframe tbody tr th:only-of-type {\n",
       "        vertical-align: middle;\n",
       "    }\n",
       "\n",
       "    .dataframe tbody tr th {\n",
       "        vertical-align: top;\n",
       "    }\n",
       "\n",
       "    .dataframe thead th {\n",
       "        text-align: right;\n",
       "    }\n",
       "</style>\n",
       "<table border=\"1\" class=\"dataframe\">\n",
       "  <thead>\n",
       "    <tr style=\"text-align: right;\">\n",
       "      <th></th>\n",
       "      <th>Node</th>\n",
       "      <th>w_Node</th>\n",
       "      <th>DC</th>\n",
       "      <th>BC</th>\n",
       "      <th>CC</th>\n",
       "      <th>EC</th>\n",
       "      <th>C</th>\n",
       "    </tr>\n",
       "  </thead>\n",
       "  <tbody>\n",
       "    <tr>\n",
       "      <th>0</th>\n",
       "      <td>1</td>\n",
       "      <td>1</td>\n",
       "      <td>0.484848</td>\n",
       "      <td>0.437635</td>\n",
       "      <td>0.568966</td>\n",
       "      <td>0.355483</td>\n",
       "      <td>0.991701</td>\n",
       "    </tr>\n",
       "    <tr>\n",
       "      <th>33</th>\n",
       "      <td>34</td>\n",
       "      <td>34</td>\n",
       "      <td>0.515152</td>\n",
       "      <td>0.304075</td>\n",
       "      <td>0.550000</td>\n",
       "      <td>0.373371</td>\n",
       "      <td>0.698990</td>\n",
       "    </tr>\n",
       "    <tr>\n",
       "      <th>27</th>\n",
       "      <td>33</td>\n",
       "      <td>33</td>\n",
       "      <td>0.363636</td>\n",
       "      <td>0.145247</td>\n",
       "      <td>0.515625</td>\n",
       "      <td>0.308651</td>\n",
       "      <td>0.341100</td>\n",
       "    </tr>\n",
       "    <tr>\n",
       "      <th>2</th>\n",
       "      <td>3</td>\n",
       "      <td>3</td>\n",
       "      <td>0.303030</td>\n",
       "      <td>0.143657</td>\n",
       "      <td>0.559322</td>\n",
       "      <td>0.317189</td>\n",
       "      <td>0.335060</td>\n",
       "    </tr>\n",
       "    <tr>\n",
       "      <th>15</th>\n",
       "      <td>32</td>\n",
       "      <td>32</td>\n",
       "      <td>0.181818</td>\n",
       "      <td>0.138276</td>\n",
       "      <td>0.540984</td>\n",
       "      <td>0.191036</td>\n",
       "      <td>0.316587</td>\n",
       "    </tr>\n",
       "    <tr>\n",
       "      <th>1</th>\n",
       "      <td>2</td>\n",
       "      <td>2</td>\n",
       "      <td>0.272727</td>\n",
       "      <td>0.053937</td>\n",
       "      <td>0.485294</td>\n",
       "      <td>0.265954</td>\n",
       "      <td>0.141261</td>\n",
       "    </tr>\n",
       "    <tr>\n",
       "      <th>8</th>\n",
       "      <td>9</td>\n",
       "      <td>9</td>\n",
       "      <td>0.151515</td>\n",
       "      <td>0.055927</td>\n",
       "      <td>0.515625</td>\n",
       "      <td>0.227405</td>\n",
       "      <td>0.134443</td>\n",
       "    </tr>\n",
       "    <tr>\n",
       "      <th>12</th>\n",
       "      <td>14</td>\n",
       "      <td>14</td>\n",
       "      <td>0.151515</td>\n",
       "      <td>0.045863</td>\n",
       "      <td>0.515625</td>\n",
       "      <td>0.226470</td>\n",
       "      <td>0.113237</td>\n",
       "    </tr>\n",
       "    <tr>\n",
       "      <th>13</th>\n",
       "      <td>20</td>\n",
       "      <td>20</td>\n",
       "      <td>0.090909</td>\n",
       "      <td>0.032475</td>\n",
       "      <td>0.500000</td>\n",
       "      <td>0.147911</td>\n",
       "      <td>0.077962</td>\n",
       "    </tr>\n",
       "    <tr>\n",
       "      <th>6</th>\n",
       "      <td>7</td>\n",
       "      <td>7</td>\n",
       "      <td>0.121212</td>\n",
       "      <td>0.029987</td>\n",
       "      <td>0.383721</td>\n",
       "      <td>0.079481</td>\n",
       "      <td>0.072268</td>\n",
       "    </tr>\n",
       "  </tbody>\n",
       "</table>\n",
       "</div>"
      ],
      "text/plain": [
       "    Node  w_Node        DC        BC        CC        EC         C\n",
       "0      1       1  0.484848  0.437635  0.568966  0.355483  0.991701\n",
       "33    34      34  0.515152  0.304075  0.550000  0.373371  0.698990\n",
       "27    33      33  0.363636  0.145247  0.515625  0.308651  0.341100\n",
       "2      3       3  0.303030  0.143657  0.559322  0.317189  0.335060\n",
       "15    32      32  0.181818  0.138276  0.540984  0.191036  0.316587\n",
       "1      2       2  0.272727  0.053937  0.485294  0.265954  0.141261\n",
       "8      9       9  0.151515  0.055927  0.515625  0.227405  0.134443\n",
       "12    14      14  0.151515  0.045863  0.515625  0.226470  0.113237\n",
       "13    20      20  0.090909  0.032475  0.500000  0.147911  0.077962\n",
       "6      7       7  0.121212  0.029987  0.383721  0.079481  0.072268"
      ]
     },
     "execution_count": 40,
     "metadata": {},
     "output_type": "execute_result"
    }
   ],
   "source": [
    "w_Out1 = pd.concat([Matrix, w_Clos], axis=1)\n",
    "w_Out1\n",
    "w_Out1 = w_Out1.sort_values(by=\"C\",ascending=False)\n",
    "w_Out1\n",
    "\n",
    "# Save it into a csv file (out.csv)\n",
    "w_Out1.to_csv(\"Data/w_Out1.csv\",index=False)\n",
    "w_Out1.head(10)"
   ]
  },
  {
   "cell_type": "markdown",
   "metadata": {
    "id": "u_X_HuUsB9nv"
   },
   "source": [
    "**The top-10 ranked nodes by Topsis and Centrality measures**"
   ]
  },
  {
   "cell_type": "code",
   "execution_count": 41,
   "metadata": {
    "id": "W2vnEMxbBq21"
   },
   "outputs": [],
   "source": [
    "#The top-10 ranked nodes by degree centrality (DC)\n",
    "DCR = Out1[[\"Node\", \"DC\"]]\n",
    "DCR = DCR.sort_values(by='DC', ascending=False)\n",
    "DCR.rename(columns = {'Node':'DCN'}, inplace=True)\n",
    "\n",
    "DCR[\"DCN\"].to_csv(\"Data/DCR.csv\",index=False)"
   ]
  },
  {
   "cell_type": "code",
   "execution_count": 42,
   "metadata": {
    "id": "eO3aPFeie395"
   },
   "outputs": [],
   "source": [
    "#The top-10 ranked nodes by degree centrality (DC)\n",
    "w_DCR = w_Out1[[\"w_Node\", \"DC\"]]\n",
    "w_DCR = w_DCR.sort_values(by='DC', ascending=False)\n",
    "w_DCR.rename(columns = {'w_Node':'w_DCN'}, inplace=True)\n",
    "\n",
    "w_DCR[\"w_DCN\"].to_csv(\"Data/w_DCR.csv\",index=False)"
   ]
  },
  {
   "cell_type": "code",
   "execution_count": 43,
   "metadata": {
    "id": "Ot2QtwlqCFCx"
   },
   "outputs": [],
   "source": [
    "#The top-10 ranked nodes by betweenness centrality (BC)\n",
    "BCR = Out1[[\"Node\", \"BC\"]]\n",
    "BCR = BCR.sort_values(by='BC', ascending=False)\n",
    "BCR.rename(columns = {'Node':'BCN'}, inplace=True)\n",
    "\n",
    "BCR[\"BCN\"].to_csv(\"Data/BCR.csv\",index=False)"
   ]
  },
  {
   "cell_type": "code",
   "execution_count": 44,
   "metadata": {
    "id": "z_ILwNlffiRL"
   },
   "outputs": [],
   "source": [
    "#The top-10 ranked nodes by betweenness centrality (BC)\n",
    "w_BCR = w_Out1[[\"w_Node\", \"BC\"]]\n",
    "w_BCR = w_BCR.sort_values(by='BC', ascending=False)\n",
    "w_BCR.rename(columns = {'w_Node':'w_BCN'}, inplace=True)\n",
    "\n",
    "w_BCR[\"w_BCN\"].to_csv(\"Data/w_BCR.csv\",index=False)"
   ]
  },
  {
   "cell_type": "code",
   "execution_count": 45,
   "metadata": {
    "id": "7VbkTOSLCLe5"
   },
   "outputs": [],
   "source": [
    "#The top-10 ranked nodes by closeness centrality (CC)\n",
    "CCR = Out1[[\"Node\", \"CC\"]]\n",
    "CCR = CCR.sort_values(by='CC', ascending=False)\n",
    "CCR.rename(columns = {'Node':'CCN'}, inplace=True)\n",
    "\n",
    "CCR[\"CCN\"].to_csv(\"Data/CCR.csv\",index=False)"
   ]
  },
  {
   "cell_type": "code",
   "execution_count": 46,
   "metadata": {
    "id": "577cblBSf2DN"
   },
   "outputs": [],
   "source": [
    "#The top-10 ranked nodes by closeness centrality (CC)\n",
    "w_CCR = w_Out1[[\"w_Node\", \"CC\"]]\n",
    "w_CCR = w_CCR.sort_values(by='CC', ascending=False)\n",
    "w_CCR.rename(columns = {'w_Node':'w_CCN'}, inplace=True)\n",
    "\n",
    "w_CCR[\"w_CCN\"].to_csv(\"Data/w_CCR.csv\",index=False)"
   ]
  },
  {
   "cell_type": "code",
   "execution_count": 47,
   "metadata": {
    "id": "94csVS-agTi4"
   },
   "outputs": [],
   "source": [
    "#The top-10 ranked nodes by eigenvector centrality (EC)\n",
    "ECR = Out1[[\"Node\", \"EC\"]]\n",
    "ECR = ECR.sort_values(by='EC', ascending=False)\n",
    "ECR.rename(columns = {'Node':'ECN'}, inplace=True)\n",
    "\n",
    "ECR[\"ECN\"].to_csv(\"Data/ECR.csv\",index=False)"
   ]
  },
  {
   "cell_type": "code",
   "execution_count": 48,
   "metadata": {
    "id": "uQpgKiq9CRb2"
   },
   "outputs": [],
   "source": [
    "#The top-10 ranked nodes by eigenvector centrality (EC)\n",
    "w_ECR = Out1[[\"w_Node\", \"EC\"]]\n",
    "w_ECR = w_ECR.sort_values(by='EC', ascending=False)\n",
    "w_ECR.rename(columns = {'w_Node':'w_ECN'}, inplace=True)\n",
    "\n",
    "w_ECR[\"w_ECN\"].to_csv(\"Data/w_ECR.csv\",index=False)"
   ]
  },
  {
   "cell_type": "code",
   "execution_count": 49,
   "metadata": {
    "id": "BDL1B9nWCc_2"
   },
   "outputs": [],
   "source": [
    "fac = pd.concat([pd.read_csv(\"Data/DCR.csv\"),pd.read_csv(\"Data/BCR.csv\"), pd.read_csv(\"Data/CCR.csv\"), pd.read_csv(\"Data/ECR.csv\")],axis=1)\n"
   ]
  },
  {
   "cell_type": "code",
   "execution_count": 50,
   "metadata": {
    "id": "AcvX42-rgYF3"
   },
   "outputs": [],
   "source": [
    "w_fac = pd.concat([pd.read_csv(\"Data/w_DCR.csv\"),pd.read_csv(\"Data/w_BCR.csv\"), pd.read_csv(\"Data/w_CCR.csv\"), pd.read_csv(\"Data/w_ECR.csv\")],axis=1)\n"
   ]
  },
  {
   "cell_type": "code",
   "execution_count": 51,
   "metadata": {
    "colab": {
     "base_uri": "https://localhost:8080/",
     "height": 363
    },
    "id": "B4hCbugJCkXn",
    "outputId": "7380af26-da37-44eb-8404-d24c54af8ef6"
   },
   "outputs": [
    {
     "data": {
      "text/html": [
       "<div>\n",
       "<style scoped>\n",
       "    .dataframe tbody tr th:only-of-type {\n",
       "        vertical-align: middle;\n",
       "    }\n",
       "\n",
       "    .dataframe tbody tr th {\n",
       "        vertical-align: top;\n",
       "    }\n",
       "\n",
       "    .dataframe thead th {\n",
       "        text-align: right;\n",
       "    }\n",
       "</style>\n",
       "<table border=\"1\" class=\"dataframe\">\n",
       "  <thead>\n",
       "    <tr style=\"text-align: right;\">\n",
       "      <th></th>\n",
       "      <th>DCN</th>\n",
       "      <th>BCN</th>\n",
       "      <th>CCN</th>\n",
       "      <th>ECN</th>\n",
       "      <th>Node</th>\n",
       "    </tr>\n",
       "  </thead>\n",
       "  <tbody>\n",
       "    <tr>\n",
       "      <th>0</th>\n",
       "      <td>34</td>\n",
       "      <td>1</td>\n",
       "      <td>1</td>\n",
       "      <td>34</td>\n",
       "      <td>1</td>\n",
       "    </tr>\n",
       "    <tr>\n",
       "      <th>1</th>\n",
       "      <td>1</td>\n",
       "      <td>34</td>\n",
       "      <td>3</td>\n",
       "      <td>1</td>\n",
       "      <td>34</td>\n",
       "    </tr>\n",
       "    <tr>\n",
       "      <th>2</th>\n",
       "      <td>33</td>\n",
       "      <td>33</td>\n",
       "      <td>34</td>\n",
       "      <td>3</td>\n",
       "      <td>3</td>\n",
       "    </tr>\n",
       "    <tr>\n",
       "      <th>3</th>\n",
       "      <td>3</td>\n",
       "      <td>3</td>\n",
       "      <td>32</td>\n",
       "      <td>33</td>\n",
       "      <td>33</td>\n",
       "    </tr>\n",
       "    <tr>\n",
       "      <th>4</th>\n",
       "      <td>2</td>\n",
       "      <td>32</td>\n",
       "      <td>33</td>\n",
       "      <td>2</td>\n",
       "      <td>2</td>\n",
       "    </tr>\n",
       "    <tr>\n",
       "      <th>5</th>\n",
       "      <td>32</td>\n",
       "      <td>9</td>\n",
       "      <td>9</td>\n",
       "      <td>9</td>\n",
       "      <td>9</td>\n",
       "    </tr>\n",
       "    <tr>\n",
       "      <th>6</th>\n",
       "      <td>4</td>\n",
       "      <td>2</td>\n",
       "      <td>14</td>\n",
       "      <td>14</td>\n",
       "      <td>14</td>\n",
       "    </tr>\n",
       "    <tr>\n",
       "      <th>7</th>\n",
       "      <td>24</td>\n",
       "      <td>14</td>\n",
       "      <td>20</td>\n",
       "      <td>4</td>\n",
       "      <td>32</td>\n",
       "    </tr>\n",
       "    <tr>\n",
       "      <th>8</th>\n",
       "      <td>14</td>\n",
       "      <td>20</td>\n",
       "      <td>2</td>\n",
       "      <td>32</td>\n",
       "      <td>4</td>\n",
       "    </tr>\n",
       "    <tr>\n",
       "      <th>9</th>\n",
       "      <td>9</td>\n",
       "      <td>6</td>\n",
       "      <td>4</td>\n",
       "      <td>31</td>\n",
       "      <td>31</td>\n",
       "    </tr>\n",
       "  </tbody>\n",
       "</table>\n",
       "</div>"
      ],
      "text/plain": [
       "   DCN  BCN  CCN  ECN  Node\n",
       "0   34    1    1   34     1\n",
       "1    1   34    3    1    34\n",
       "2   33   33   34    3     3\n",
       "3    3    3   32   33    33\n",
       "4    2   32   33    2     2\n",
       "5   32    9    9    9     9\n",
       "6    4    2   14   14    14\n",
       "7   24   14   20    4    32\n",
       "8   14   20    2   32     4\n",
       "9    9    6    4   31    31"
      ]
     },
     "execution_count": 51,
     "metadata": {},
     "output_type": "execute_result"
    }
   ],
   "source": [
    "#Concate the results\n",
    "facebook = pd.concat([fac,pd.read_csv(\"Data/Topsis.csv\")],axis=1)\n",
    "\n",
    "facebook = facebook.head(10)\n",
    "facebook"
   ]
  },
  {
   "cell_type": "code",
   "execution_count": 52,
   "metadata": {
    "colab": {
     "base_uri": "https://localhost:8080/",
     "height": 363
    },
    "id": "FImJuPvpgzeu",
    "outputId": "c84c3e2a-e137-4bf2-aa83-c205b141665e"
   },
   "outputs": [
    {
     "data": {
      "text/html": [
       "<div>\n",
       "<style scoped>\n",
       "    .dataframe tbody tr th:only-of-type {\n",
       "        vertical-align: middle;\n",
       "    }\n",
       "\n",
       "    .dataframe tbody tr th {\n",
       "        vertical-align: top;\n",
       "    }\n",
       "\n",
       "    .dataframe thead th {\n",
       "        text-align: right;\n",
       "    }\n",
       "</style>\n",
       "<table border=\"1\" class=\"dataframe\">\n",
       "  <thead>\n",
       "    <tr style=\"text-align: right;\">\n",
       "      <th></th>\n",
       "      <th>w_DCN</th>\n",
       "      <th>w_BCN</th>\n",
       "      <th>w_CCN</th>\n",
       "      <th>w_ECN</th>\n",
       "      <th>w_Node</th>\n",
       "    </tr>\n",
       "  </thead>\n",
       "  <tbody>\n",
       "    <tr>\n",
       "      <th>0</th>\n",
       "      <td>34</td>\n",
       "      <td>1</td>\n",
       "      <td>1</td>\n",
       "      <td>34</td>\n",
       "      <td>1</td>\n",
       "    </tr>\n",
       "    <tr>\n",
       "      <th>1</th>\n",
       "      <td>1</td>\n",
       "      <td>34</td>\n",
       "      <td>3</td>\n",
       "      <td>1</td>\n",
       "      <td>34</td>\n",
       "    </tr>\n",
       "    <tr>\n",
       "      <th>2</th>\n",
       "      <td>33</td>\n",
       "      <td>33</td>\n",
       "      <td>34</td>\n",
       "      <td>3</td>\n",
       "      <td>33</td>\n",
       "    </tr>\n",
       "    <tr>\n",
       "      <th>3</th>\n",
       "      <td>3</td>\n",
       "      <td>3</td>\n",
       "      <td>32</td>\n",
       "      <td>33</td>\n",
       "      <td>3</td>\n",
       "    </tr>\n",
       "    <tr>\n",
       "      <th>4</th>\n",
       "      <td>2</td>\n",
       "      <td>32</td>\n",
       "      <td>33</td>\n",
       "      <td>2</td>\n",
       "      <td>32</td>\n",
       "    </tr>\n",
       "    <tr>\n",
       "      <th>5</th>\n",
       "      <td>32</td>\n",
       "      <td>9</td>\n",
       "      <td>9</td>\n",
       "      <td>9</td>\n",
       "      <td>2</td>\n",
       "    </tr>\n",
       "    <tr>\n",
       "      <th>6</th>\n",
       "      <td>4</td>\n",
       "      <td>2</td>\n",
       "      <td>14</td>\n",
       "      <td>14</td>\n",
       "      <td>9</td>\n",
       "    </tr>\n",
       "    <tr>\n",
       "      <th>7</th>\n",
       "      <td>24</td>\n",
       "      <td>14</td>\n",
       "      <td>20</td>\n",
       "      <td>4</td>\n",
       "      <td>14</td>\n",
       "    </tr>\n",
       "    <tr>\n",
       "      <th>8</th>\n",
       "      <td>9</td>\n",
       "      <td>20</td>\n",
       "      <td>2</td>\n",
       "      <td>32</td>\n",
       "      <td>20</td>\n",
       "    </tr>\n",
       "    <tr>\n",
       "      <th>9</th>\n",
       "      <td>14</td>\n",
       "      <td>6</td>\n",
       "      <td>4</td>\n",
       "      <td>31</td>\n",
       "      <td>6</td>\n",
       "    </tr>\n",
       "  </tbody>\n",
       "</table>\n",
       "</div>"
      ],
      "text/plain": [
       "   w_DCN  w_BCN  w_CCN  w_ECN  w_Node\n",
       "0     34      1      1     34       1\n",
       "1      1     34      3      1      34\n",
       "2     33     33     34      3      33\n",
       "3      3      3     32     33       3\n",
       "4      2     32     33      2      32\n",
       "5     32      9      9      9       2\n",
       "6      4      2     14     14       9\n",
       "7     24     14     20      4      14\n",
       "8      9     20      2     32      20\n",
       "9     14      6      4     31       6"
      ]
     },
     "execution_count": 52,
     "metadata": {},
     "output_type": "execute_result"
    }
   ],
   "source": [
    "#Concate the results\n",
    "w_facebook = pd.concat([w_fac,pd.read_csv(\"Data/w_Topsis.csv\")],axis=1)\n",
    "\n",
    "w_facebook = w_facebook.head(10)\n",
    "w_facebook"
   ]
  },
  {
   "cell_type": "markdown",
   "metadata": {
    "id": "hqnNSkOyCvpZ"
   },
   "source": [
    "**Application SI Model**"
   ]
  },
  {
   "cell_type": "code",
   "execution_count": 53,
   "metadata": {
    "id": "ZaeQqDpUCr0k"
   },
   "outputs": [],
   "source": [
    "def SI(node):\n",
    "    n = 34\n",
    "    model = ep.SIModel(G)\n",
    "    cfg = mc.Configuration()\n",
    "    cfg.add_model_parameter('beta', 0.3)\n",
    "    cfg.add_model_initial_configuration('Infected', node)\n",
    "    model.set_initial_status(cfg)\n",
    "    res = pd.DataFrame(columns=['iteration', 'nb_Susceptible', 'Nb_infected'])\n",
    "    for i in range(n):\n",
    "        iteration = model.iteration()\n",
    "        res.loc[len(res.index)] = [iteration['iteration'],iteration['node_count'][0], iteration['node_count'][1] ]\n",
    "        if iteration['node_count'][1] == n:\n",
    "            break \n",
    "    return res"
   ]
  },
  {
   "cell_type": "code",
   "execution_count": 54,
   "metadata": {
    "id": "AN3WQ5iNDCvv"
   },
   "outputs": [],
   "source": [
    "Rank_DC = SI(set(facebook['DCN']))\n",
    "Rank_BC = SI(set(facebook['BCN']))\n",
    "Rank_CC = SI(set(facebook['CCN']))\n",
    "Rank_EC = SI(set(facebook['ECN']))\n",
    "Rank_Topsis = SI(set(facebook['Node']))"
   ]
  },
  {
   "cell_type": "code",
   "execution_count": 55,
   "metadata": {
    "id": "JHF1ab6bhbEw"
   },
   "outputs": [],
   "source": [
    "w_Rank_DC = SI(set(w_facebook['w_DCN']))\n",
    "w_Rank_BC = SI(set(w_facebook['w_BCN']))\n",
    "w_Rank_CC = SI(set(w_facebook['w_CCN']))\n",
    "w_Rank_EC = SI(set(w_facebook['w_ECN']))\n",
    "w_Rank_Topsis = SI(set(w_facebook['w_Node']))"
   ]
  },
  {
   "cell_type": "code",
   "execution_count": 56,
   "metadata": {
    "colab": {
     "base_uri": "https://localhost:8080/",
     "height": 206
    },
    "id": "KrV-xdX6EPwo",
    "outputId": "7f2ab74a-15c3-4769-81b1-bfa99ee4b5dc"
   },
   "outputs": [
    {
     "data": {
      "text/html": [
       "<div>\n",
       "<style scoped>\n",
       "    .dataframe tbody tr th:only-of-type {\n",
       "        vertical-align: middle;\n",
       "    }\n",
       "\n",
       "    .dataframe tbody tr th {\n",
       "        vertical-align: top;\n",
       "    }\n",
       "\n",
       "    .dataframe thead th {\n",
       "        text-align: right;\n",
       "    }\n",
       "</style>\n",
       "<table border=\"1\" class=\"dataframe\">\n",
       "  <thead>\n",
       "    <tr style=\"text-align: right;\">\n",
       "      <th></th>\n",
       "      <th>iteration</th>\n",
       "      <th>nb_Susceptible</th>\n",
       "      <th>Nb_infected</th>\n",
       "    </tr>\n",
       "  </thead>\n",
       "  <tbody>\n",
       "    <tr>\n",
       "      <th>0</th>\n",
       "      <td>0</td>\n",
       "      <td>24</td>\n",
       "      <td>10</td>\n",
       "    </tr>\n",
       "    <tr>\n",
       "      <th>1</th>\n",
       "      <td>1</td>\n",
       "      <td>17</td>\n",
       "      <td>17</td>\n",
       "    </tr>\n",
       "    <tr>\n",
       "      <th>2</th>\n",
       "      <td>2</td>\n",
       "      <td>12</td>\n",
       "      <td>22</td>\n",
       "    </tr>\n",
       "    <tr>\n",
       "      <th>3</th>\n",
       "      <td>3</td>\n",
       "      <td>7</td>\n",
       "      <td>27</td>\n",
       "    </tr>\n",
       "    <tr>\n",
       "      <th>4</th>\n",
       "      <td>4</td>\n",
       "      <td>5</td>\n",
       "      <td>29</td>\n",
       "    </tr>\n",
       "    <tr>\n",
       "      <th>5</th>\n",
       "      <td>5</td>\n",
       "      <td>2</td>\n",
       "      <td>32</td>\n",
       "    </tr>\n",
       "    <tr>\n",
       "      <th>6</th>\n",
       "      <td>6</td>\n",
       "      <td>1</td>\n",
       "      <td>33</td>\n",
       "    </tr>\n",
       "    <tr>\n",
       "      <th>7</th>\n",
       "      <td>7</td>\n",
       "      <td>1</td>\n",
       "      <td>33</td>\n",
       "    </tr>\n",
       "    <tr>\n",
       "      <th>8</th>\n",
       "      <td>8</td>\n",
       "      <td>1</td>\n",
       "      <td>33</td>\n",
       "    </tr>\n",
       "    <tr>\n",
       "      <th>9</th>\n",
       "      <td>9</td>\n",
       "      <td>1</td>\n",
       "      <td>33</td>\n",
       "    </tr>\n",
       "    <tr>\n",
       "      <th>10</th>\n",
       "      <td>10</td>\n",
       "      <td>1</td>\n",
       "      <td>33</td>\n",
       "    </tr>\n",
       "    <tr>\n",
       "      <th>11</th>\n",
       "      <td>11</td>\n",
       "      <td>1</td>\n",
       "      <td>33</td>\n",
       "    </tr>\n",
       "    <tr>\n",
       "      <th>12</th>\n",
       "      <td>12</td>\n",
       "      <td>0</td>\n",
       "      <td>34</td>\n",
       "    </tr>\n",
       "  </tbody>\n",
       "</table>\n",
       "</div>"
      ],
      "text/plain": [
       "    iteration  nb_Susceptible  Nb_infected\n",
       "0           0              24           10\n",
       "1           1              17           17\n",
       "2           2              12           22\n",
       "3           3               7           27\n",
       "4           4               5           29\n",
       "5           5               2           32\n",
       "6           6               1           33\n",
       "7           7               1           33\n",
       "8           8               1           33\n",
       "9           9               1           33\n",
       "10         10               1           33\n",
       "11         11               1           33\n",
       "12         12               0           34"
      ]
     },
     "execution_count": 56,
     "metadata": {},
     "output_type": "execute_result"
    }
   ],
   "source": [
    "Rank_Topsis"
   ]
  },
  {
   "cell_type": "code",
   "execution_count": 57,
   "metadata": {
    "colab": {
     "base_uri": "https://localhost:8080/",
     "height": 175
    },
    "id": "HoATXiYhhrYq",
    "outputId": "f6f9b84a-0366-4c28-fd4c-62b8eb516fd3"
   },
   "outputs": [
    {
     "data": {
      "text/html": [
       "<div>\n",
       "<style scoped>\n",
       "    .dataframe tbody tr th:only-of-type {\n",
       "        vertical-align: middle;\n",
       "    }\n",
       "\n",
       "    .dataframe tbody tr th {\n",
       "        vertical-align: top;\n",
       "    }\n",
       "\n",
       "    .dataframe thead th {\n",
       "        text-align: right;\n",
       "    }\n",
       "</style>\n",
       "<table border=\"1\" class=\"dataframe\">\n",
       "  <thead>\n",
       "    <tr style=\"text-align: right;\">\n",
       "      <th></th>\n",
       "      <th>iteration</th>\n",
       "      <th>nb_Susceptible</th>\n",
       "      <th>Nb_infected</th>\n",
       "    </tr>\n",
       "  </thead>\n",
       "  <tbody>\n",
       "    <tr>\n",
       "      <th>0</th>\n",
       "      <td>0</td>\n",
       "      <td>24</td>\n",
       "      <td>10</td>\n",
       "    </tr>\n",
       "    <tr>\n",
       "      <th>1</th>\n",
       "      <td>1</td>\n",
       "      <td>13</td>\n",
       "      <td>21</td>\n",
       "    </tr>\n",
       "    <tr>\n",
       "      <th>2</th>\n",
       "      <td>2</td>\n",
       "      <td>6</td>\n",
       "      <td>28</td>\n",
       "    </tr>\n",
       "    <tr>\n",
       "      <th>3</th>\n",
       "      <td>3</td>\n",
       "      <td>4</td>\n",
       "      <td>30</td>\n",
       "    </tr>\n",
       "    <tr>\n",
       "      <th>4</th>\n",
       "      <td>4</td>\n",
       "      <td>2</td>\n",
       "      <td>32</td>\n",
       "    </tr>\n",
       "    <tr>\n",
       "      <th>5</th>\n",
       "      <td>5</td>\n",
       "      <td>0</td>\n",
       "      <td>34</td>\n",
       "    </tr>\n",
       "  </tbody>\n",
       "</table>\n",
       "</div>"
      ],
      "text/plain": [
       "   iteration  nb_Susceptible  Nb_infected\n",
       "0          0              24           10\n",
       "1          1              13           21\n",
       "2          2               6           28\n",
       "3          3               4           30\n",
       "4          4               2           32\n",
       "5          5               0           34"
      ]
     },
     "execution_count": 57,
     "metadata": {},
     "output_type": "execute_result"
    }
   ],
   "source": [
    "w_Rank_Topsis"
   ]
  },
  {
   "cell_type": "code",
   "execution_count": 58,
   "metadata": {
    "colab": {
     "base_uri": "https://localhost:8080/",
     "height": 567
    },
    "id": "tgdJ2TiJEtQi",
    "outputId": "1d2cd555-8fbb-4f74-a60d-45eb421b6906"
   },
   "outputs": [
    {
     "data": {
      "image/png": "[encoded data removed]",
      "text/plain": [
       "<Figure size 1500x900 with 4 Axes>"
      ]
     },
     "metadata": {},
     "output_type": "display_data"
    }
   ],
   "source": [
    "fig, axs = plt.subplots(2, 2, figsize=(15, 9))\n",
    "axs[0, 0].plot(Rank_DC['iteration'], Rank_DC['Nb_infected'], label=\"DC\")\n",
    "axs[0, 0].plot(Rank_Topsis['iteration'], Rank_Topsis['Nb_infected'], label=\"Topsis\")\n",
    "axs[0, 0].plot(w_Rank_Topsis['iteration'], w_Rank_Topsis['Nb_infected'], label=\"w_Topsis\")\n",
    "axs[0, 0].set_title(\"DC vs Topsis vs w_Topsis\")\n",
    "axs[0, 0].legend()\n",
    "\n",
    "axs[0, 1].plot(Rank_BC['iteration'], Rank_BC['Nb_infected'], label=\"BC\")\n",
    "axs[0, 1].plot(Rank_Topsis['iteration'], Rank_Topsis['Nb_infected'], label=\"Topsis\")\n",
    "axs[0, 1].plot(w_Rank_Topsis['iteration'], w_Rank_Topsis['Nb_infected'], label=\"w_Topsis\")\n",
    "axs[0, 1].set_title(\"BC vs Topsis vs w_Topsis\")\n",
    "axs[0, 1].legend()\n",
    "\n",
    "axs[1, 0].plot(Rank_CC['iteration'], Rank_CC['Nb_infected'], label=\"CC\")\n",
    "axs[1, 0].plot(Rank_Topsis['iteration'], Rank_Topsis['Nb_infected'], label=\"Topsis\")\n",
    "axs[1, 0].plot(w_Rank_Topsis['iteration'], w_Rank_Topsis['Nb_infected'], label=\"w_Topsis\")\n",
    "axs[1, 0].set_title(\"CC vs Topsis vs w_Topsiss\")\n",
    "axs[1, 0].legend()\n",
    "\n",
    "axs[1, 1].plot(Rank_EC['iteration'], Rank_EC['Nb_infected'], label=\"EC\")\n",
    "axs[1, 1].plot(Rank_Topsis['iteration'], Rank_Topsis['Nb_infected'], label=\"Topsis\")\n",
    "axs[1, 1].plot(w_Rank_Topsis['iteration'], w_Rank_Topsis['Nb_infected'], label=\"w_Topsis\")\n",
    "axs[1, 1].set_title(\"EC vs Topsis vs w_Topsis\")\n",
    "axs[1, 1].legend()\n",
    "\n",
    "for ax in axs.flat:\n",
    "    ax.set(xlabel='t', ylabel='F(t)')"
   ]
  },
  {
   "cell_type": "code",
   "execution_count": null,
   "metadata": {},
   "outputs": [],
   "source": []
  }
 ],
 "metadata": {
  "colab": {
   "provenance": []
  },
  "kernelspec": {
   "display_name": "Python 3 (ipykernel)",
   "language": "python",
   "name": "python3"
  },
  "language_info": {
   "codemirror_mode": {
    "name": "ipython",
    "version": 3
   },
   "file_extension": ".py",
   "mimetype": "text/x-python",
   "name": "python",
   "nbconvert_exporter": "python",
   "pygments_lexer": "ipython3",
   "version": "3.9.13"
  }
 },
 "nbformat": 4,
 "nbformat_minor": 1
}
