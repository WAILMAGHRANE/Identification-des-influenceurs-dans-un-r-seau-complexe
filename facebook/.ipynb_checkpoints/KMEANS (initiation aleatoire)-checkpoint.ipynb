{
 "cells": [
  {
   "cell_type": "markdown",
   "id": "21b30d84",
   "metadata": {},
   "source": [
    "# Packages"
   ]
  },
  {
   "cell_type": "code",
   "execution_count": 1,
   "id": "c97868c3",
   "metadata": {},
   "outputs": [],
   "source": [
    "import pandas as pd\n",
    "import matplotlib.pyplot as plt\n",
    "import numpy as np"
   ]
  },
  {
   "cell_type": "code",
   "execution_count": 2,
   "id": "17986306",
   "metadata": {},
   "outputs": [],
   "source": [
    "import networkx as nx\n",
    "import matplotlib.pyplot as plt"
   ]
  },
  {
   "cell_type": "code",
   "execution_count": null,
   "id": "9eb154c7",
   "metadata": {},
   "outputs": [],
   "source": [
    "from sklearn.cluster import KMeans"
   ]
  },
  {
   "cell_type": "code",
   "execution_count": null,
   "id": "083a887a",
   "metadata": {},
   "outputs": [],
   "source": [
    "import math"
   ]
  },
  {
   "cell_type": "code",
   "execution_count": null,
   "id": "782fe30d",
   "metadata": {},
   "outputs": [],
   "source": [
    "absolute_path = 'Data/data2/'"
   ]
  },
  {
   "cell_type": "code",
   "execution_count": null,
   "id": "96071d91",
   "metadata": {},
   "outputs": [],
   "source": [
    "# Read facebook dataset\n",
    "plt.figure(figsize=(30,20))\n",
    "G=nx.read_edgelist('Data/fbData.txt',create_using=nx.Graph(),nodetype=int)"
   ]
  },
  {
   "cell_type": "code",
   "execution_count": null,
   "id": "0886eddf",
   "metadata": {},
   "outputs": [],
   "source": [
    "row = G.number_of_nodes()"
   ]
  },
  {
   "cell_type": "code",
   "execution_count": null,
   "id": "eaa35624",
   "metadata": {},
   "outputs": [],
   "source": [
    "row"
   ]
  },
  {
   "cell_type": "code",
   "execution_count": null,
   "id": "d95f7ccd",
   "metadata": {},
   "outputs": [],
   "source": [
    "edge_mat= nx.to_numpy_array(G, nodelist=[i for i in range(row)])"
   ]
  },
  {
   "cell_type": "code",
   "execution_count": null,
   "id": "be11702c",
   "metadata": {},
   "outputs": [],
   "source": [
    "print (edge_mat)"
   ]
  },
  {
   "cell_type": "code",
   "execution_count": null,
   "id": "5852ca16",
   "metadata": {},
   "outputs": [],
   "source": [
    "#Read our decision Matrix\n",
    "data = pd.read_csv(\"Data/Matrix.csv\")\n",
    "data"
   ]
  },
  {
   "cell_type": "code",
   "execution_count": null,
   "id": "e9162ae0",
   "metadata": {},
   "outputs": [],
   "source": [
    "k=data.sort_values(by = ['w_Node'])\n",
    "#data.to_csv(\"data.csv\",index=False)"
   ]
  },
  {
   "cell_type": "code",
   "execution_count": null,
   "id": "16c79392",
   "metadata": {},
   "outputs": [],
   "source": [
    "k"
   ]
  },
  {
   "cell_type": "code",
   "execution_count": null,
   "id": "62725ba7",
   "metadata": {},
   "outputs": [],
   "source": [
    "k.to_csv(\"data.csv\",index=False)"
   ]
  },
  {
   "cell_type": "code",
   "execution_count": null,
   "id": "6a27e4ab",
   "metadata": {},
   "outputs": [],
   "source": [
    "X = data[[\"DC\",\"BC\",\"CC\",\"EC\"]]\n"
   ]
  },
  {
   "cell_type": "code",
   "execution_count": null,
   "id": "5f22a91e",
   "metadata": {},
   "outputs": [],
   "source": []
  },
  {
   "cell_type": "code",
   "execution_count": null,
   "id": "9baea9b5",
   "metadata": {},
   "outputs": [],
   "source": [
    "X"
   ]
  },
  {
   "cell_type": "code",
   "execution_count": null,
   "id": "b1aa868e",
   "metadata": {},
   "outputs": [],
   "source": [
    "influential = pd.read_csv(\"Data/w_Out1.csv\")\n",
    "inf10 = influential.head(7)\n",
    "inf10"
   ]
  },
  {
   "cell_type": "markdown",
   "id": "d8b3c931",
   "metadata": {},
   "source": [
    "# Top 10 influent (w_topsis)"
   ]
  },
  {
   "cell_type": "code",
   "execution_count": null,
   "id": "16260e0c",
   "metadata": {
    "scrolled": true
   },
   "outputs": [],
   "source": [
    "Y = inf10[[\"DC\",\"BC\",\"CC\",\"EC\"]]\n",
    "Yrr = Y.to_numpy()\n",
    "Yrr"
   ]
  },
  {
   "cell_type": "markdown",
   "id": "10364635",
   "metadata": {},
   "source": [
    "# User "
   ]
  },
  {
   "cell_type": "code",
   "execution_count": null,
   "id": "93e1a23c",
   "metadata": {},
   "outputs": [],
   "source": [
    "#User\n",
    "K = int(input(\"Enter the number of the top influential nodes:\"))"
   ]
  },
  {
   "cell_type": "code",
   "execution_count": null,
   "id": "504a58de",
   "metadata": {},
   "outputs": [],
   "source": [
    "kmeans = KMeans(n_clusters=K, init='k-means++', max_iter=20000, n_init=7, random_state=0).fit(X)"
   ]
  },
  {
   "cell_type": "code",
   "execution_count": null,
   "id": "05d2bb40",
   "metadata": {},
   "outputs": [],
   "source": [
    "#Communities\n",
    "label=kmeans.fit_predict(X)\n",
    "for i in (label):\n",
    "    print(i)"
   ]
  },
  {
   "cell_type": "code",
   "execution_count": null,
   "id": "c3bd6a1b",
   "metadata": {
    "scrolled": true
   },
   "outputs": [],
   "source": [
    "#centroîds after KMeans\n",
    "centr = kmeans.cluster_centers_\n",
    "centr"
   ]
  },
  {
   "cell_type": "code",
   "execution_count": null,
   "id": "e99e7e28",
   "metadata": {},
   "outputs": [],
   "source": [
    "def distance_euclidean(data,center,j):\n",
    "    T= pd.DataFrame()\n",
    "    for i in range(len(data)):\n",
    "        distance=math.sqrt((data['DC'][i]-center[j][0])**2+(data['BC'][i]-center[j][1])**2+\n",
    "                           (data['CC'][i]-center[j][2])**2+(data['EC'][i]-center[j][3])**2)\n",
    "        T=T.append({'Node':data['Node'][i], 'cluster':str(j),'distance from center':distance},ignore_index=True)\n",
    "    return T.sort_values(by='distance from center')"
   ]
  },
  {
   "cell_type": "code",
   "execution_count": null,
   "id": "282a8e90",
   "metadata": {},
   "outputs": [],
   "source": [
    "Res= pd.DataFrame()\n",
    "for i in range(K):\n",
    "    T=distance_euclidean(data,centr,i)\n",
    "    Res=Res.append({'cluster':str(i), 'Node_before_KMeans':str(inf10['Node'][i]),\n",
    "                    'Node_after_KMeans':int(T.head(1)['Node']),\n",
    "                    'distance from center':float(T.head(1)['distance from center'])},ignore_index=True)"
   ]
  },
  {
   "cell_type": "code",
   "execution_count": null,
   "id": "47a2deea",
   "metadata": {
    "scrolled": true
   },
   "outputs": [],
   "source": [
    "Res"
   ]
  },
  {
   "cell_type": "code",
   "execution_count": null,
   "id": "da756dae",
   "metadata": {},
   "outputs": [],
   "source": [
    "Res[\"Node_after_KMeans\"] = Res[\"Node_after_KMeans\"].astype(int)"
   ]
  },
  {
   "cell_type": "code",
   "execution_count": null,
   "id": "1f55fa58",
   "metadata": {},
   "outputs": [],
   "source": [
    "Res[\"Node_after_KMeans\"]"
   ]
  },
  {
   "cell_type": "code",
   "execution_count": null,
   "id": "f16bf984",
   "metadata": {},
   "outputs": [],
   "source": [
    "Res[\"Node_after_KMeans\"]"
   ]
  },
  {
   "cell_type": "code",
   "execution_count": null,
   "id": "b00c74b1",
   "metadata": {},
   "outputs": [],
   "source": [
    "#convert to DataFrame\n",
    "lab = pd.DataFrame(label, columns=['center'])\n",
    "lab"
   ]
  },
  {
   "cell_type": "code",
   "execution_count": null,
   "id": "0994b404",
   "metadata": {
    "scrolled": true
   },
   "outputs": [],
   "source": [
    "#Community of each Node\n",
    "community = pd.concat([data, lab], axis=1)\n",
    "community.head(40)\n"
   ]
  },
  {
   "cell_type": "code",
   "execution_count": null,
   "id": "54571d5a",
   "metadata": {
    "scrolled": true
   },
   "outputs": [],
   "source": [
    "gk = community.groupby('center')\n",
    "n=gk.first()\n",
    "n"
   ]
  },
  {
   "cell_type": "code",
   "execution_count": null,
   "id": "c16e9d4f",
   "metadata": {},
   "outputs": [],
   "source": [
    "commNum = community['Node'].to_numpy()"
   ]
  },
  {
   "cell_type": "code",
   "execution_count": null,
   "id": "69afdce6",
   "metadata": {},
   "outputs": [],
   "source": [
    " community"
   ]
  },
  {
   "cell_type": "code",
   "execution_count": null,
   "id": "d023d940",
   "metadata": {},
   "outputs": [],
   "source": [
    "recomm = Res[\"Node_after_KMeans\"]\n",
    "recomm"
   ]
  },
  {
   "cell_type": "code",
   "execution_count": null,
   "id": "bfd313e8",
   "metadata": {},
   "outputs": [],
   "source": [
    "df1=[]\n",
    "df2=[]\n",
    "df3=[]\n",
    "df4=[]\n",
    "df5=[]\n",
    "for i in range(K):\n",
    "    for j in range(row):\n",
    "        if (recomm[i] == data['Node'][j]):\n",
    "            df1.append(data['Node'][j].tolist())\n",
    "            df2.append(data['DC'][j].tolist())\n",
    "            df3.append(data['BC'][j].tolist())\n",
    "            df4.append(data['CC'][j].tolist())\n",
    "            df5.append(data['EC'][j].tolist())\n",
    "\n",
    "            \n",
    "#df = pd.DataFrame(df1,df2,df3,df4,df5,columns = ['Node','DC','BC','CC','EC'])\n",
    "list1 = [df1,df2,df3,df4,df5]"
   ]
  },
  {
   "cell_type": "code",
   "execution_count": null,
   "id": "3cbd4011",
   "metadata": {},
   "outputs": [],
   "source": [
    "dff1 = pd.DataFrame(df1,columns = ['Node'])\n",
    "dff2 = pd.DataFrame(df2,columns = ['DC'])\n",
    "dff3 = pd.DataFrame(df3,columns = ['BC'])\n",
    "dff4 = pd.DataFrame(df4,columns = ['CC'])\n",
    "dff5 = pd.DataFrame(df5,columns = ['EC'])"
   ]
  },
  {
   "cell_type": "code",
   "execution_count": null,
   "id": "8a2b0add",
   "metadata": {},
   "outputs": [],
   "source": [
    "Final_Tab = pd.concat([dff1,dff2,dff3,dff4,dff5],axis=1)\n",
    "Final_Tab"
   ]
  },
  {
   "cell_type": "code",
   "execution_count": null,
   "id": "6e28a69e",
   "metadata": {},
   "outputs": [],
   "source": [
    "#Regrouper les communitées dans une  list comm\n",
    "#à l'intérieur de chaque liste on trouve les noeuds appartient à une communauté \n",
    "comm = []\n",
    "for i in range(K):\n",
    "    comm.append(gk.get_group(i)['Node'].tolist())\n"
   ]
  },
  {
   "cell_type": "code",
   "execution_count": null,
   "id": "e56a20d7",
   "metadata": {},
   "outputs": [],
   "source": [
    "Comm= []\n",
    "for i in range(K):\n",
    "    print(\"Nodes of Community [\",i,\"] =\",comm[i])\n",
    "    "
   ]
  },
  {
   "cell_type": "markdown",
   "id": "d6165bfd",
   "metadata": {},
   "source": [
    "# Create a graph for each cluster "
   ]
  },
  {
   "cell_type": "code",
   "execution_count": null,
   "id": "2a47d91a",
   "metadata": {},
   "outputs": [],
   "source": [
    "for i in  range(K):\n",
    "    with open(absolute_path+\"k_\"+ str(i) +\".txt\", 'w') as fp:\n",
    "        for item in comm[i]:\n",
    "            print(item)\n",
    "            for j in range(row):\n",
    "                if edge_mat[item][j]==1 and j in comm[i]:\n",
    "                    items = str(item)+ ' ' +str(j)\n",
    "                    fp.write( \"%s\\n\" % items )\n",
    "                    print(' \\t node '+str(item) + ' is connected with :'+str(j))\n",
    "        print( 'Done adding k_'+ str(i) )\n",
    "    Graph = nx.read_edgelist(absolute_path+\"k_\"+ str(i) +\".txt\",create_using=nx.Graph(),nodetype=int)\n",
    "    sp = nx.spring_layout(Graph)\n",
    "    nx.draw_networkx(Graph,pos=sp,node_color='red',with_labels=True,edgecolors='black',node_size=500)\n",
    "    plt.show()"
   ]
  },
  {
   "cell_type": "markdown",
   "id": "392fb9bd",
   "metadata": {},
   "source": [
    "# Application w_topsis for each cluster "
   ]
  },
  {
   "cell_type": "code",
   "execution_count": null,
   "id": "c7407ace",
   "metadata": {},
   "outputs": [],
   "source": [
    "from math import *\n",
    "import import_ipynb \n",
    "from TOPSIS import Topsis"
   ]
  },
  {
   "cell_type": "code",
   "execution_count": null,
   "id": "f2d8f691",
   "metadata": {},
   "outputs": [],
   "source": [
    "\n",
    "def apply_w_topsis(dx):    \n",
    "    Graph = nx.read_edgelist(absolute_path+\"k_\"+ str(dx) +\".txt\",create_using=nx.Graph(),nodetype=int)\n",
    "    sp = nx.spring_layout(Graph)\n",
    "    nx.draw_networkx(Graph,pos=sp,node_color='red',with_labels=True,edgecolors='black',node_size=500)\n",
    "    row = Graph.number_of_nodes()\n",
    "    print(row)\n",
    "    plt.rcParams.update({'figure.figsize': (15, 10)})\n",
    "    deg_centrality = nx.degree_centrality(Graph)\n",
    "    bet_centrality = nx.betweenness_centrality(Graph)\n",
    "    close_centrality = nx.closeness_centrality(Graph)\n",
    "    #eig_centrality=nx.eigenvector_centrality(Graph)\n",
    "    Matrix=pd.DataFrame()\n",
    "    for noued in Graph:\n",
    "    #add the name of each node with its measures centrality\n",
    "        Matrix=Matrix.append({'Node':str(noued), 'DC':deg_centrality[noued], 'BC':bet_centrality[noued],\n",
    "                        'CC':close_centrality[noued]}, ignore_index=True)\n",
    "    Matrix.to_csv(absolute_path+\"data/Matrix.csv\" ,index=False)\n",
    "    Matrix_arr= Matrix[['DC','BC','CC']].to_numpy()\n",
    "    m = row\n",
    "    ev_matrix_np = Matrix_arr\n",
    "    sum = np.zeros(4)\n",
    "\n",
    "    for i in range(m):\n",
    "        for j in range(3):\n",
    "            sum[j] += ev_matrix_np[i][j]\n",
    "\n",
    "    p = np.copy(ev_matrix_np)\n",
    "\n",
    "    for i in range(m):\n",
    "        for j in range(3):\n",
    "            p[i][j] = ev_matrix_np[i][j]/sum[j]\n",
    "    k = 1/log(m)\n",
    "    E = []\n",
    "    for j in range(3):\n",
    "        temp_sum = 0\n",
    "        for i in range(m):\n",
    "            try:\n",
    "                pij = p[i][j]\n",
    "                temp_sum += pij*log(pij)\n",
    "            except:\n",
    "                pij = 1\n",
    "                temp_sum += pij*log(pij)\n",
    "        E.append(-k*temp_sum)\n",
    "    D = []\n",
    "    for i in range(3):\n",
    "        D.append(1-E[i])\n",
    "    sm = np.sum(D)\n",
    "    weights = [D[i]/sm for i in range(3)]\n",
    "    weights\n",
    "    Evaluation_matrix = Matrix_arr\n",
    "\n",
    "    criteria = np.array([True,True,True,True])\n",
    "\n",
    "    T = Topsis(Evaluation_matrix,weights,criteria)\n",
    "    print(T.calc())\n",
    "    print(\"best_distance\\t\", T.best_distance)\n",
    "    print(\"worst_distance\\t\", T.worst_distance)\n",
    "    print(\"worst_similarity\\t\", T.worst_similarity)\n",
    "    print(\"rank_to_worst_similarity\\t\", T.rank_to_worst_similarity())\n",
    "    print(\"best_similarity\\t\", T.best_similarity)\n",
    "    print(\"rank_to_best_similarity\\t\", T.rank_to_best_similarity())\n",
    "    #Convert S+ and S- to array numpy\n",
    "    Best_Dist = np.array(T.best_distance)\n",
    "    Worst_Dist = np.array(T.worst_distance)\n",
    "# Calculate Closness\n",
    "    Closnness = []\n",
    "    Closnness = Worst_Dist / (Worst_Dist + Best_Dist)\n",
    "# print(Closnness)\n",
    "#Convert S+, S- and Closnness to DataFrame \n",
    "    Worst_Distance = pd.DataFrame(Worst_Dist,columns=['S-'])\n",
    "    Best_Distance = pd.DataFrame(Best_Dist,columns=['S+'])\n",
    "    Clos = pd.DataFrame(Closnness,columns=['C'])\n",
    "# Concatenate results\n",
    "    Out = pd.concat([Best_Distance, Worst_Distance, Clos], axis=1)\n",
    "# print(Out)\n",
    "#sort DataFrame by Closnness Column (Descending)\n",
    "    Out = Out.sort_values(by=\"C\",ascending=False)\n",
    "# Out\n",
    "\n",
    "# Save it into a csv file (out.csv)\n",
    "    Out.to_csv(absolute_path+\"data/Out_\"+ str(dx) +\".csv\",index=False)\n",
    "#Call the function Ranking_closness\n",
    "#Function return the index of the grather value(Closness vector) based on a descending order\n",
    "    def ranking_closness(data):\n",
    "        return [i for i in data.argsort()[-len(data):][::-1]]\n",
    "#Call the function Ranking_closness\n",
    "    C = ranking_closness(Closnness)\n",
    "#retrieve the nodes that correspond to the indices returned by the function above\n",
    "    Tab = []\n",
    "    for i in range(len(C)):\n",
    "        Tab.append(Matrix['Node'].loc[C[i]])\n",
    "#Convert Tab above to DataFrame \n",
    "    Tab_Data=pd.DataFrame(Tab,columns=[\"Node\"])\n",
    "\n",
    "    Tab_Data[\"Node\"].to_csv(absolute_path+\"data/cluster_topsis/Topsis_\"+ str(dx) +\".csv\",index=False)\n",
    "    Final_Tab = pd.concat([pd.read_csv(absolute_path+\"data/Out_\"+ str(dx) +\".csv\"),Tab_Data],axis=1)\n",
    "    print(Final_Tab)\n",
    "\n",
    "    Out1 = pd.concat([Matrix, Clos], axis=1)\n",
    "# Out1\n",
    "    Out1 = Out1.sort_values(by=\"C\",ascending=False)\n",
    "# Out1\n",
    "\n",
    "# Save it into a csv file (out.csv)\n",
    "    Out1.to_csv(absolute_path+\"data/Out1_\"+ str(dx) +\".csv\",index=False)\n",
    "    # Final_Tab1 = pd.concat([pd.read_csv(absolute_path+\"data/Out1_\"+ str(dx) +\".csv\")],axis=1)\n",
    "    res= pd.concat([pd.read_csv(absolute_path+\"data/Out1_\"+ str(dx) +\".csv\"),pd.read_csv(absolute_path+\"data/Out_\"+ str(dx) +\".csv\")],axis=1)\n",
    "    res.to_csv(absolute_path+\"data/res/res_\"+ str(dx) +\".csv\",index=False)\n",
    "    \n",
    "    #The top-10 ranked nodes by degree centrality (DC)\n",
    "    DCR = res[[\"Node\", \"DC\"]]\n",
    "    DCR = DCR.sort_values(by='DC', ascending=False)\n",
    "    DCR.rename(columns = {'Node':'DCN'}, inplace=True)\n",
    "\n",
    "    DCR[\"DCN\"].to_csv(absolute_path+\"data/SI/DCR\"+ str(dx) +\".csv\",index=False)\n",
    "\n",
    "\n",
    "\n",
    "#The top-10 ranked nodes by betweenness centrality (BC)\n",
    "    BCR = res[[\"Node\", \"BC\"]]\n",
    "    BCR = BCR.sort_values(by='BC', ascending=False)\n",
    "    BCR.rename(columns = {'Node':'BCN'}, inplace=True)\n",
    "\n",
    "    BCR[\"BCN\"].to_csv(absolute_path+\"data/SI/BCR\"+ str(dx) +\".csv\",index=False)\n",
    "\n",
    "\n",
    "\n",
    "#The top-10 ranked nodes by closeness centrality (CC)\n",
    "    CCR = res[[\"Node\", \"CC\"]]\n",
    "    CCR = CCR.sort_values(by='CC', ascending=False)\n",
    "    CCR.rename(columns = {'Node':'CCN'}, inplace=True)\n",
    "\n",
    "    CCR[\"CCN\"].to_csv(absolute_path+\"data/SI/CCR\"+ str(dx) +\".csv\",index=False)\n",
    "\n",
    "\n",
    "    fac = pd.concat([pd.read_csv(absolute_path+\"data/SI/DCR\"+ str(dx) +\".csv\"),pd.read_csv(absolute_path+\"data/SI/BCR\"+ str(dx) +\".csv\"), pd.read_csv(absolute_path+\"data/SI/CCR\"+ str(dx) +\".csv\")],axis=1)\n",
    "\n",
    "    facebook = pd.concat([pd.read_csv(absolute_path+\"data/cluster_topsis/Topsis_\"+ str(dx) +\".csv\"),fac],axis=1)\n",
    "    facebook.to_csv(absolute_path+\"data/dataFilter/data\"+ str(dx) +\".csv\",index=False)"
   ]
  },
  {
   "cell_type": "code",
   "execution_count": null,
   "id": "78fa7f38",
   "metadata": {},
   "outputs": [],
   "source": []
  },
  {
   "cell_type": "code",
   "execution_count": null,
   "id": "1af4b27a",
   "metadata": {},
   "outputs": [],
   "source": [
    "# Applying topsis on each cluster.\n",
    "import os \n",
    "for i in range(K):\n",
    "    file_size = os.stat(absolute_path+'k_'+str(i)+'.txt').st_size\n",
    "    if file_size == 0:\n",
    "        print('cluster ',i,':')\n",
    "        FF = pd.DataFrame(Final_Tab.loc[i])\n",
    "        print(FF.T)\n",
    "    else:\n",
    "        print('cluster ',i,':')\n",
    "        apply_w_topsis(i)"
   ]
  },
  {
   "cell_type": "code",
   "execution_count": null,
   "id": "83153e0f",
   "metadata": {
    "scrolled": true
   },
   "outputs": [],
   "source": [
    "for i in range(K):\n",
    "    res =absolute_path+\"data/res/res_\"+ str(i)+'.csv'\n",
    "    path = res\n",
    "    if(os.path.isfile(path) == False):\n",
    "        print('cluster',i,':')\n",
    "        FF = pd.DataFrame(Final_Tab.loc[i])\n",
    "        res = FF.T\n",
    "        print(res)\n",
    "    else:\n",
    "        print('clusterS',i,':')\n",
    "        res = pd.read_csv(absolute_path+\"data/res/res_\"+ str(i) +\".csv\")\n",
    "        res =res.head(1)\n",
    "        print(res)\n",
    "    res.to_csv(absolute_path+'data/res1/res_'+str(i)+'.csv', index=False, encoding='utf-8-sig')\n",
    "        "
   ]
  },
  {
   "cell_type": "code",
   "execution_count": null,
   "id": "8aae049f",
   "metadata": {},
   "outputs": [],
   "source": [
    "#then let's take the first node in each cluster and concatenat theme in one file \n",
    "# named final_res\n",
    "import glob\n",
    "ss = absolute_path+'data/res1/'\n",
    "extension = 'csv'\n",
    "all_filenames = [i for i in glob.glob(ss+'*.csv')]\n",
    "#combine all files in the list\n",
    "combined_csv = pd.concat([pd.read_csv(f) for f in all_filenames ])\n",
    "\n",
    "#export to csv\n",
    "combined_csv.to_csv(absolute_path+\"data/res/final_res.csv\", index=True, encoding='utf-8-sig')\n",
    "print(combined_csv)\n"
   ]
  },
  {
   "cell_type": "code",
   "execution_count": null,
   "id": "2d92ce97",
   "metadata": {},
   "outputs": [],
   "source": [
    "for dx in range(10):\n",
    "        DCR = combined_csv[[\"Node\", \"DC\"]]\n",
    "        DCR = DCR.sort_values(by='DC', ascending=False)\n",
    "        DCR.rename(columns = {'Node':'DCN'}, inplace=True)\n",
    "\n",
    "        DCR[\"DCN\"].to_csv(absolute_path+\"data/nodeK/DCR\"+ str(dx) +\".csv\",index=False)\n",
    "        \n",
    "        Node = combined_csv[[\"Node\"]]\n",
    "        Node['Node'].to_csv(absolute_path+\"data/nodeK/Node\"+ str(dx) +\".csv\",index=False)\n",
    "#The top-10 ranked nodes by betweenness centrality (BC)\n",
    "        BCR = combined_csv[[\"Node\", \"BC\"]]\n",
    "        BCR = BCR.sort_values(by='BC', ascending=False)\n",
    "        BCR.rename(columns = {'Node':'BCN'}, inplace=True)\n",
    "\n",
    "        BCR[\"BCN\"].to_csv(absolute_path+\"data/nodeK/BCR\"+ str(dx) +\".csv\",index=False)\n",
    "\n",
    "\n",
    "\n",
    "#The top-10 ranked nodes by closeness centrality (CC)\n",
    "        CCR = combined_csv[[\"Node\", \"CC\"]]\n",
    "        CCR = CCR.sort_values(by='CC', ascending=False)\n",
    "        CCR.rename(columns = {'Node':'CCN'}, inplace=True)\n",
    "\n",
    "        CCR[\"CCN\"].to_csv(absolute_path+\"data/nodeK/CCR\"+ str(dx) +\".csv\",index=False)\n",
    "\n",
    "\n",
    "\n",
    "\n",
    "\n",
    "        facebookK = pd.concat([pd.read_csv(absolute_path+\"data/nodeK/Node\"+ str(dx) +\".csv\"),pd.read_csv(absolute_path+\"data/nodeK/DCR\"+ str(dx) +\".csv\"),pd.read_csv(absolute_path+\"data/nodeK/BCR\"+ str(dx) +\".csv\"), pd.read_csv(absolute_path+\"data/nodeK/CCR\"+ str(dx) +\".csv\")],axis=1)\n",
    "\n",
    "facebookK.to_csv(absolute_path+\"data/dataFilterK/data.csv\",index=False)\n",
    "    "
   ]
  },
  {
   "cell_type": "code",
   "execution_count": null,
   "id": "d71e40a5",
   "metadata": {},
   "outputs": [],
   "source": [
    "facebookK"
   ]
  },
  {
   "cell_type": "markdown",
   "id": "07bcb525",
   "metadata": {},
   "source": [
    "# Application SI"
   ]
  },
  {
   "cell_type": "code",
   "execution_count": null,
   "id": "98650cee",
   "metadata": {},
   "outputs": [],
   "source": [
    "import ndlib.models.ModelConfig as mc\n",
    "import ndlib.models.epidemics as ep"
   ]
  },
  {
   "cell_type": "code",
   "execution_count": null,
   "id": "24fd1d91",
   "metadata": {},
   "outputs": [],
   "source": [
    "w_facebook = pd.read_csv(\"Data/w_topsisData.csv\")\n",
    "w_facebook"
   ]
  },
  {
   "cell_type": "code",
   "execution_count": null,
   "id": "f09a65c8",
   "metadata": {},
   "outputs": [],
   "source": [
    "def SI(node):\n",
    "    n = row\n",
    "    model = ep.SIModel(G)\n",
    "    cfg = mc.Configuration()\n",
    "    cfg.add_model_parameter('beta', 1)\n",
    "    cfg.add_model_initial_configuration('Infected', node)\n",
    "    model.set_initial_status(cfg)\n",
    "    res = pd.DataFrame(columns=['iteration', 'nb_Susceptible', 'Nb_infected'])\n",
    "    for i in range(n):\n",
    "        iteration = model.iteration()\n",
    "        res.loc[len(res.index)] = [iteration['iteration'],iteration['node_count'][0], iteration['node_count'][1] ]\n",
    "        if iteration['node_count'][1] == n:\n",
    "            break \n",
    "    return res"
   ]
  },
  {
   "cell_type": "code",
   "execution_count": null,
   "id": "42114168",
   "metadata": {},
   "outputs": [],
   "source": [
    "Rank_DC = SI(set(facebookK['DCN']))\n",
    "Rank_BC = SI(set(facebookK['BCN']))\n",
    "#Rank_EC = SI(set(facebookK['ECN']))\n",
    "Rank_CC = SI(set(facebookK['CCN']))\n",
    "Rank_kmeans = SI(set(facebookK['Node']))"
   ]
  },
  {
   "cell_type": "code",
   "execution_count": null,
   "id": "d460abb2",
   "metadata": {},
   "outputs": [],
   "source": [
    "w_Rank_DC = SI(set(w_facebook['w_DCN']))\n",
    "w_Rank_BC = SI(set(w_facebook['w_BCN']))\n",
    "w_Rank_CC = SI (set(w_facebook['w_CCN']))\n",
    "w_Rank_EC = SI(set(w_facebook['w_ECN']))\n",
    "w_Rank_Topsis = SI(set(w_facebook['w_Node']))"
   ]
  },
  {
   "cell_type": "code",
   "execution_count": null,
   "id": "51cd7081",
   "metadata": {
    "scrolled": false
   },
   "outputs": [],
   "source": [
    "fig, axs = plt.subplots(2, 2, figsize=(15, 9))\n",
    "axs[0, 0].plot(w_Rank_DC['iteration'], w_Rank_DC['Nb_infected'], label=\"DC\")\n",
    "axs[0, 0].plot(Rank_kmeans['iteration'],Rank_kmeans['Nb_infected'], label=\"KMeans with score\")\n",
    "axs[0, 0].plot(w_Rank_Topsis['iteration'], w_Rank_Topsis['Nb_infected'], label=\"w_Topsis\")\n",
    "axs[0, 0].set_title(\"DC vs kmeans vs w_Topsis\")\n",
    "axs[0, 0].legend()\n",
    "\n",
    "axs[0, 1].plot(w_Rank_BC['iteration'], w_Rank_BC['Nb_infected'], label=\"BC\")\n",
    "axs[0, 1].plot(Rank_kmeans['iteration'], Rank_kmeans['Nb_infected'], label=\"KMeans with score\")\n",
    "axs[0, 1].plot(w_Rank_Topsis['iteration'], w_Rank_Topsis['Nb_infected'], label=\"w_Topsis\")\n",
    "axs[0, 1].set_title(\"BC vs Kmeans vs w_Topsis\")\n",
    "axs[0, 1].legend()\n",
    "\n",
    "axs[1, 0].plot(w_Rank_CC['iteration'], w_Rank_CC['Nb_infected'], label=\"CC\")\n",
    "axs[1, 0].plot(Rank_kmeans['iteration'], Rank_kmeans['Nb_infected'], label=\"KMeans with score\")\n",
    "axs[1, 0].plot(w_Rank_Topsis['iteration'], w_Rank_Topsis['Nb_infected'], label=\"w_Topsis\")\n",
    "axs[1, 0].set_title(\"CC vs Kmeans w_Topsis\")\n",
    "axs[1, 0].legend()\n",
    "\n",
    "\n",
    "\n",
    "for ax in axs.flat:\n",
    "    ax.set(xlabel='t', ylabel='F(t)')"
   ]
  },
  {
   "cell_type": "code",
   "execution_count": null,
   "id": "b06570dd",
   "metadata": {},
   "outputs": [],
   "source": []
  },
  {
   "cell_type": "code",
   "execution_count": null,
   "id": "2331ecaf",
   "metadata": {},
   "outputs": [],
   "source": []
  },
  {
   "cell_type": "code",
   "execution_count": null,
   "id": "a6ec1946",
   "metadata": {},
   "outputs": [],
   "source": []
  },
  {
   "cell_type": "code",
   "execution_count": null,
   "id": "1a2bb3e6",
   "metadata": {},
   "outputs": [],
   "source": []
  },
  {
   "cell_type": "code",
   "execution_count": null,
   "id": "6d05b7b7",
   "metadata": {},
   "outputs": [],
   "source": []
  },
  {
   "cell_type": "code",
   "execution_count": null,
   "id": "f1cc1985",
   "metadata": {},
   "outputs": [],
   "source": []
  },
  {
   "cell_type": "code",
   "execution_count": null,
   "id": "1ad3548a",
   "metadata": {},
   "outputs": [],
   "source": []
  },
  {
   "cell_type": "code",
   "execution_count": null,
   "id": "cc02eb3c",
   "metadata": {},
   "outputs": [],
   "source": []
  },
  {
   "cell_type": "code",
   "execution_count": null,
   "id": "281be20a",
   "metadata": {},
   "outputs": [],
   "source": []
  },
  {
   "cell_type": "code",
   "execution_count": null,
   "id": "d266b940",
   "metadata": {},
   "outputs": [],
   "source": []
  }
 ],
 "metadata": {
  "kernelspec": {
   "display_name": "Python 3 (ipykernel)",
   "language": "python",
   "name": "python3"
  },
  "language_info": {
   "codemirror_mode": {
    "name": "ipython",
    "version": 3
   },
   "file_extension": ".py",
   "mimetype": "text/x-python",
   "name": "python",
   "nbconvert_exporter": "python",
   "pygments_lexer": "ipython3",
   "version": "3.9.13"
  }
 },
 "nbformat": 4,
 "nbformat_minor": 5
}
