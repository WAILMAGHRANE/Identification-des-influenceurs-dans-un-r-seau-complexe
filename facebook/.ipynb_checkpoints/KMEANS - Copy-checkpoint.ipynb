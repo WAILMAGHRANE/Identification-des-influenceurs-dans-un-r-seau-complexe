{
 "cells": [
  {
   "cell_type": "code",
   "execution_count": 1,
   "id": "46777784",
   "metadata": {},
   "outputs": [],
   "source": [
    "import pandas as pd\n",
    "import matplotlib.pyplot as plt\n",
    "import numpy as np"
   ]
  },
  {
   "cell_type": "code",
   "execution_count": 2,
   "id": "17986306",
   "metadata": {},
   "outputs": [],
   "source": [
    "import networkx as nx\n",
    "import matplotlib.pyplot as plt"
   ]
  },
  {
   "cell_type": "code",
   "execution_count": 3,
   "id": "9eb154c7",
   "metadata": {},
   "outputs": [],
   "source": [
    "from sklearn.cluster import KMeans"
   ]
  },
  {
   "cell_type": "code",
   "execution_count": 4,
   "id": "083a887a",
   "metadata": {},
   "outputs": [],
   "source": [
    "import math"
   ]
  },
  {
   "cell_type": "code",
   "execution_count": 5,
   "id": "782fe30d",
   "metadata": {},
   "outputs": [],
   "source": [
    "absolute_path = 'Data/data2/'"
   ]
  },
  {
   "cell_type": "code",
   "execution_count": 6,
   "id": "96071d91",
   "metadata": {},
   "outputs": [
    {
     "data": {
      "text/plain": [
       "<Figure size 3000x2000 with 0 Axes>"
      ]
     },
     "metadata": {},
     "output_type": "display_data"
    }
   ],
   "source": [
    "# Read facebook dataset\n",
    "plt.figure(figsize=(30,20))\n",
    "G=nx.read_edgelist('Data/fbData.txt',create_using=nx.Graph(),nodetype=int)"
   ]
  },
  {
   "cell_type": "code",
   "execution_count": 7,
   "id": "0886eddf",
   "metadata": {},
   "outputs": [],
   "source": [
    "row = G.number_of_nodes()"
   ]
  },
  {
   "cell_type": "code",
   "execution_count": 8,
   "id": "eaa35624",
   "metadata": {},
   "outputs": [
    {
     "data": {
      "text/plain": [
       "4039"
      ]
     },
     "execution_count": 8,
     "metadata": {},
     "output_type": "execute_result"
    }
   ],
   "source": [
    "row"
   ]
  },
  {
   "cell_type": "code",
   "execution_count": 9,
   "id": "d95f7ccd",
   "metadata": {},
   "outputs": [],
   "source": [
    "edge_mat= nx.to_numpy_array(G, nodelist=[i for i in range(row)])"
   ]
  },
  {
   "cell_type": "code",
   "execution_count": 10,
   "id": "be11702c",
   "metadata": {},
   "outputs": [
    {
     "name": "stdout",
     "output_type": "stream",
     "text": [
      "[[0. 1. 1. ... 0. 0. 0.]\n",
      " [1. 0. 0. ... 0. 0. 0.]\n",
      " [1. 0. 0. ... 0. 0. 0.]\n",
      " ...\n",
      " [0. 0. 0. ... 0. 0. 0.]\n",
      " [0. 0. 0. ... 0. 0. 0.]\n",
      " [0. 0. 0. ... 0. 0. 0.]]\n"
     ]
    }
   ],
   "source": [
    "print (edge_mat)"
   ]
  },
  {
   "cell_type": "code",
   "execution_count": 11,
   "id": "5852ca16",
   "metadata": {},
   "outputs": [
    {
     "data": {
      "text/html": [
       "<div>\n",
       "<style scoped>\n",
       "    .dataframe tbody tr th:only-of-type {\n",
       "        vertical-align: middle;\n",
       "    }\n",
       "\n",
       "    .dataframe tbody tr th {\n",
       "        vertical-align: top;\n",
       "    }\n",
       "\n",
       "    .dataframe thead th {\n",
       "        text-align: right;\n",
       "    }\n",
       "</style>\n",
       "<table border=\"1\" class=\"dataframe\">\n",
       "  <thead>\n",
       "    <tr style=\"text-align: right;\">\n",
       "      <th></th>\n",
       "      <th>Node</th>\n",
       "      <th>w_Node</th>\n",
       "      <th>DC</th>\n",
       "      <th>BC</th>\n",
       "      <th>CC</th>\n",
       "      <th>EC</th>\n",
       "    </tr>\n",
       "  </thead>\n",
       "  <tbody>\n",
       "    <tr>\n",
       "      <th>0</th>\n",
       "      <td>0</td>\n",
       "      <td>0</td>\n",
       "      <td>0.085934</td>\n",
       "      <td>1.463059e-01</td>\n",
       "      <td>0.353343</td>\n",
       "      <td>3.391796e-05</td>\n",
       "    </tr>\n",
       "    <tr>\n",
       "      <th>1</th>\n",
       "      <td>1</td>\n",
       "      <td>1</td>\n",
       "      <td>0.004210</td>\n",
       "      <td>2.783274e-06</td>\n",
       "      <td>0.261376</td>\n",
       "      <td>6.045346e-07</td>\n",
       "    </tr>\n",
       "    <tr>\n",
       "      <th>2</th>\n",
       "      <td>2</td>\n",
       "      <td>2</td>\n",
       "      <td>0.002476</td>\n",
       "      <td>7.595021e-08</td>\n",
       "      <td>0.261258</td>\n",
       "      <td>2.233461e-07</td>\n",
       "    </tr>\n",
       "    <tr>\n",
       "      <th>3</th>\n",
       "      <td>3</td>\n",
       "      <td>3</td>\n",
       "      <td>0.004210</td>\n",
       "      <td>1.685066e-06</td>\n",
       "      <td>0.261376</td>\n",
       "      <td>6.635648e-07</td>\n",
       "    </tr>\n",
       "    <tr>\n",
       "      <th>4</th>\n",
       "      <td>4</td>\n",
       "      <td>4</td>\n",
       "      <td>0.002476</td>\n",
       "      <td>1.840332e-07</td>\n",
       "      <td>0.261258</td>\n",
       "      <td>2.236416e-07</td>\n",
       "    </tr>\n",
       "    <tr>\n",
       "      <th>...</th>\n",
       "      <td>...</td>\n",
       "      <td>...</td>\n",
       "      <td>...</td>\n",
       "      <td>...</td>\n",
       "      <td>...</td>\n",
       "      <td>...</td>\n",
       "    </tr>\n",
       "    <tr>\n",
       "      <th>4034</th>\n",
       "      <td>4034</td>\n",
       "      <td>4034</td>\n",
       "      <td>0.000495</td>\n",
       "      <td>0.000000e+00</td>\n",
       "      <td>0.183989</td>\n",
       "      <td>2.951270e-10</td>\n",
       "    </tr>\n",
       "    <tr>\n",
       "      <th>4035</th>\n",
       "      <td>4035</td>\n",
       "      <td>4035</td>\n",
       "      <td>0.000248</td>\n",
       "      <td>0.000000e+00</td>\n",
       "      <td>0.183980</td>\n",
       "      <td>2.912901e-10</td>\n",
       "    </tr>\n",
       "    <tr>\n",
       "      <th>4036</th>\n",
       "      <td>4036</td>\n",
       "      <td>4036</td>\n",
       "      <td>0.000495</td>\n",
       "      <td>0.000000e+00</td>\n",
       "      <td>0.183989</td>\n",
       "      <td>2.931223e-10</td>\n",
       "    </tr>\n",
       "    <tr>\n",
       "      <th>4037</th>\n",
       "      <td>4037</td>\n",
       "      <td>4037</td>\n",
       "      <td>0.000991</td>\n",
       "      <td>7.156847e-08</td>\n",
       "      <td>0.184005</td>\n",
       "      <td>2.989233e-10</td>\n",
       "    </tr>\n",
       "    <tr>\n",
       "      <th>4038</th>\n",
       "      <td>4038</td>\n",
       "      <td>4038</td>\n",
       "      <td>0.002229</td>\n",
       "      <td>6.338922e-07</td>\n",
       "      <td>0.184047</td>\n",
       "      <td>8.915175e-10</td>\n",
       "    </tr>\n",
       "  </tbody>\n",
       "</table>\n",
       "<p>4039 rows × 6 columns</p>\n",
       "</div>"
      ],
      "text/plain": [
       "      Node  w_Node        DC            BC        CC            EC\n",
       "0        0       0  0.085934  1.463059e-01  0.353343  3.391796e-05\n",
       "1        1       1  0.004210  2.783274e-06  0.261376  6.045346e-07\n",
       "2        2       2  0.002476  7.595021e-08  0.261258  2.233461e-07\n",
       "3        3       3  0.004210  1.685066e-06  0.261376  6.635648e-07\n",
       "4        4       4  0.002476  1.840332e-07  0.261258  2.236416e-07\n",
       "...    ...     ...       ...           ...       ...           ...\n",
       "4034  4034    4034  0.000495  0.000000e+00  0.183989  2.951270e-10\n",
       "4035  4035    4035  0.000248  0.000000e+00  0.183980  2.912901e-10\n",
       "4036  4036    4036  0.000495  0.000000e+00  0.183989  2.931223e-10\n",
       "4037  4037    4037  0.000991  7.156847e-08  0.184005  2.989233e-10\n",
       "4038  4038    4038  0.002229  6.338922e-07  0.184047  8.915175e-10\n",
       "\n",
       "[4039 rows x 6 columns]"
      ]
     },
     "execution_count": 11,
     "metadata": {},
     "output_type": "execute_result"
    }
   ],
   "source": [
    "#Read our decision Matrix\n",
    "data = pd.read_csv(\"Data/Matrix.csv\")\n",
    "data"
   ]
  },
  {
   "cell_type": "code",
   "execution_count": 12,
   "id": "e9162ae0",
   "metadata": {},
   "outputs": [],
   "source": [
    "k=data.sort_values(by = ['w_Node'])\n",
    "#data.to_csv(\"data.csv\",index=False)"
   ]
  },
  {
   "cell_type": "code",
   "execution_count": 13,
   "id": "16c79392",
   "metadata": {},
   "outputs": [
    {
     "data": {
      "text/html": [
       "<div>\n",
       "<style scoped>\n",
       "    .dataframe tbody tr th:only-of-type {\n",
       "        vertical-align: middle;\n",
       "    }\n",
       "\n",
       "    .dataframe tbody tr th {\n",
       "        vertical-align: top;\n",
       "    }\n",
       "\n",
       "    .dataframe thead th {\n",
       "        text-align: right;\n",
       "    }\n",
       "</style>\n",
       "<table border=\"1\" class=\"dataframe\">\n",
       "  <thead>\n",
       "    <tr style=\"text-align: right;\">\n",
       "      <th></th>\n",
       "      <th>Node</th>\n",
       "      <th>w_Node</th>\n",
       "      <th>DC</th>\n",
       "      <th>BC</th>\n",
       "      <th>CC</th>\n",
       "      <th>EC</th>\n",
       "    </tr>\n",
       "  </thead>\n",
       "  <tbody>\n",
       "    <tr>\n",
       "      <th>0</th>\n",
       "      <td>0</td>\n",
       "      <td>0</td>\n",
       "      <td>0.085934</td>\n",
       "      <td>1.463059e-01</td>\n",
       "      <td>0.353343</td>\n",
       "      <td>3.391796e-05</td>\n",
       "    </tr>\n",
       "    <tr>\n",
       "      <th>1</th>\n",
       "      <td>1</td>\n",
       "      <td>1</td>\n",
       "      <td>0.004210</td>\n",
       "      <td>2.783274e-06</td>\n",
       "      <td>0.261376</td>\n",
       "      <td>6.045346e-07</td>\n",
       "    </tr>\n",
       "    <tr>\n",
       "      <th>2</th>\n",
       "      <td>2</td>\n",
       "      <td>2</td>\n",
       "      <td>0.002476</td>\n",
       "      <td>7.595021e-08</td>\n",
       "      <td>0.261258</td>\n",
       "      <td>2.233461e-07</td>\n",
       "    </tr>\n",
       "    <tr>\n",
       "      <th>3</th>\n",
       "      <td>3</td>\n",
       "      <td>3</td>\n",
       "      <td>0.004210</td>\n",
       "      <td>1.685066e-06</td>\n",
       "      <td>0.261376</td>\n",
       "      <td>6.635648e-07</td>\n",
       "    </tr>\n",
       "    <tr>\n",
       "      <th>4</th>\n",
       "      <td>4</td>\n",
       "      <td>4</td>\n",
       "      <td>0.002476</td>\n",
       "      <td>1.840332e-07</td>\n",
       "      <td>0.261258</td>\n",
       "      <td>2.236416e-07</td>\n",
       "    </tr>\n",
       "    <tr>\n",
       "      <th>...</th>\n",
       "      <td>...</td>\n",
       "      <td>...</td>\n",
       "      <td>...</td>\n",
       "      <td>...</td>\n",
       "      <td>...</td>\n",
       "      <td>...</td>\n",
       "    </tr>\n",
       "    <tr>\n",
       "      <th>4034</th>\n",
       "      <td>4034</td>\n",
       "      <td>4034</td>\n",
       "      <td>0.000495</td>\n",
       "      <td>0.000000e+00</td>\n",
       "      <td>0.183989</td>\n",
       "      <td>2.951270e-10</td>\n",
       "    </tr>\n",
       "    <tr>\n",
       "      <th>4035</th>\n",
       "      <td>4035</td>\n",
       "      <td>4035</td>\n",
       "      <td>0.000248</td>\n",
       "      <td>0.000000e+00</td>\n",
       "      <td>0.183980</td>\n",
       "      <td>2.912901e-10</td>\n",
       "    </tr>\n",
       "    <tr>\n",
       "      <th>4036</th>\n",
       "      <td>4036</td>\n",
       "      <td>4036</td>\n",
       "      <td>0.000495</td>\n",
       "      <td>0.000000e+00</td>\n",
       "      <td>0.183989</td>\n",
       "      <td>2.931223e-10</td>\n",
       "    </tr>\n",
       "    <tr>\n",
       "      <th>4037</th>\n",
       "      <td>4037</td>\n",
       "      <td>4037</td>\n",
       "      <td>0.000991</td>\n",
       "      <td>7.156847e-08</td>\n",
       "      <td>0.184005</td>\n",
       "      <td>2.989233e-10</td>\n",
       "    </tr>\n",
       "    <tr>\n",
       "      <th>4038</th>\n",
       "      <td>4038</td>\n",
       "      <td>4038</td>\n",
       "      <td>0.002229</td>\n",
       "      <td>6.338922e-07</td>\n",
       "      <td>0.184047</td>\n",
       "      <td>8.915175e-10</td>\n",
       "    </tr>\n",
       "  </tbody>\n",
       "</table>\n",
       "<p>4039 rows × 6 columns</p>\n",
       "</div>"
      ],
      "text/plain": [
       "      Node  w_Node        DC            BC        CC            EC\n",
       "0        0       0  0.085934  1.463059e-01  0.353343  3.391796e-05\n",
       "1        1       1  0.004210  2.783274e-06  0.261376  6.045346e-07\n",
       "2        2       2  0.002476  7.595021e-08  0.261258  2.233461e-07\n",
       "3        3       3  0.004210  1.685066e-06  0.261376  6.635648e-07\n",
       "4        4       4  0.002476  1.840332e-07  0.261258  2.236416e-07\n",
       "...    ...     ...       ...           ...       ...           ...\n",
       "4034  4034    4034  0.000495  0.000000e+00  0.183989  2.951270e-10\n",
       "4035  4035    4035  0.000248  0.000000e+00  0.183980  2.912901e-10\n",
       "4036  4036    4036  0.000495  0.000000e+00  0.183989  2.931223e-10\n",
       "4037  4037    4037  0.000991  7.156847e-08  0.184005  2.989233e-10\n",
       "4038  4038    4038  0.002229  6.338922e-07  0.184047  8.915175e-10\n",
       "\n",
       "[4039 rows x 6 columns]"
      ]
     },
     "execution_count": 13,
     "metadata": {},
     "output_type": "execute_result"
    }
   ],
   "source": [
    "k"
   ]
  },
  {
   "cell_type": "code",
   "execution_count": 14,
   "id": "62725ba7",
   "metadata": {},
   "outputs": [],
   "source": [
    "k.to_csv(\"data.csv\",index=False)"
   ]
  },
  {
   "cell_type": "code",
   "execution_count": 15,
   "id": "6a27e4ab",
   "metadata": {},
   "outputs": [],
   "source": [
    "X = data[[\"DC\",\"BC\",\"CC\",\"EC\"]]\n"
   ]
  },
  {
   "cell_type": "code",
   "execution_count": null,
   "id": "5f22a91e",
   "metadata": {},
   "outputs": [],
   "source": []
  },
  {
   "cell_type": "code",
   "execution_count": 16,
   "id": "9baea9b5",
   "metadata": {},
   "outputs": [
    {
     "data": {
      "text/html": [
       "<div>\n",
       "<style scoped>\n",
       "    .dataframe tbody tr th:only-of-type {\n",
       "        vertical-align: middle;\n",
       "    }\n",
       "\n",
       "    .dataframe tbody tr th {\n",
       "        vertical-align: top;\n",
       "    }\n",
       "\n",
       "    .dataframe thead th {\n",
       "        text-align: right;\n",
       "    }\n",
       "</style>\n",
       "<table border=\"1\" class=\"dataframe\">\n",
       "  <thead>\n",
       "    <tr style=\"text-align: right;\">\n",
       "      <th></th>\n",
       "      <th>DC</th>\n",
       "      <th>BC</th>\n",
       "      <th>CC</th>\n",
       "      <th>EC</th>\n",
       "    </tr>\n",
       "  </thead>\n",
       "  <tbody>\n",
       "    <tr>\n",
       "      <th>0</th>\n",
       "      <td>0.085934</td>\n",
       "      <td>1.463059e-01</td>\n",
       "      <td>0.353343</td>\n",
       "      <td>3.391796e-05</td>\n",
       "    </tr>\n",
       "    <tr>\n",
       "      <th>1</th>\n",
       "      <td>0.004210</td>\n",
       "      <td>2.783274e-06</td>\n",
       "      <td>0.261376</td>\n",
       "      <td>6.045346e-07</td>\n",
       "    </tr>\n",
       "    <tr>\n",
       "      <th>2</th>\n",
       "      <td>0.002476</td>\n",
       "      <td>7.595021e-08</td>\n",
       "      <td>0.261258</td>\n",
       "      <td>2.233461e-07</td>\n",
       "    </tr>\n",
       "    <tr>\n",
       "      <th>3</th>\n",
       "      <td>0.004210</td>\n",
       "      <td>1.685066e-06</td>\n",
       "      <td>0.261376</td>\n",
       "      <td>6.635648e-07</td>\n",
       "    </tr>\n",
       "    <tr>\n",
       "      <th>4</th>\n",
       "      <td>0.002476</td>\n",
       "      <td>1.840332e-07</td>\n",
       "      <td>0.261258</td>\n",
       "      <td>2.236416e-07</td>\n",
       "    </tr>\n",
       "    <tr>\n",
       "      <th>...</th>\n",
       "      <td>...</td>\n",
       "      <td>...</td>\n",
       "      <td>...</td>\n",
       "      <td>...</td>\n",
       "    </tr>\n",
       "    <tr>\n",
       "      <th>4034</th>\n",
       "      <td>0.000495</td>\n",
       "      <td>0.000000e+00</td>\n",
       "      <td>0.183989</td>\n",
       "      <td>2.951270e-10</td>\n",
       "    </tr>\n",
       "    <tr>\n",
       "      <th>4035</th>\n",
       "      <td>0.000248</td>\n",
       "      <td>0.000000e+00</td>\n",
       "      <td>0.183980</td>\n",
       "      <td>2.912901e-10</td>\n",
       "    </tr>\n",
       "    <tr>\n",
       "      <th>4036</th>\n",
       "      <td>0.000495</td>\n",
       "      <td>0.000000e+00</td>\n",
       "      <td>0.183989</td>\n",
       "      <td>2.931223e-10</td>\n",
       "    </tr>\n",
       "    <tr>\n",
       "      <th>4037</th>\n",
       "      <td>0.000991</td>\n",
       "      <td>7.156847e-08</td>\n",
       "      <td>0.184005</td>\n",
       "      <td>2.989233e-10</td>\n",
       "    </tr>\n",
       "    <tr>\n",
       "      <th>4038</th>\n",
       "      <td>0.002229</td>\n",
       "      <td>6.338922e-07</td>\n",
       "      <td>0.184047</td>\n",
       "      <td>8.915175e-10</td>\n",
       "    </tr>\n",
       "  </tbody>\n",
       "</table>\n",
       "<p>4039 rows × 4 columns</p>\n",
       "</div>"
      ],
      "text/plain": [
       "            DC            BC        CC            EC\n",
       "0     0.085934  1.463059e-01  0.353343  3.391796e-05\n",
       "1     0.004210  2.783274e-06  0.261376  6.045346e-07\n",
       "2     0.002476  7.595021e-08  0.261258  2.233461e-07\n",
       "3     0.004210  1.685066e-06  0.261376  6.635648e-07\n",
       "4     0.002476  1.840332e-07  0.261258  2.236416e-07\n",
       "...        ...           ...       ...           ...\n",
       "4034  0.000495  0.000000e+00  0.183989  2.951270e-10\n",
       "4035  0.000248  0.000000e+00  0.183980  2.912901e-10\n",
       "4036  0.000495  0.000000e+00  0.183989  2.931223e-10\n",
       "4037  0.000991  7.156847e-08  0.184005  2.989233e-10\n",
       "4038  0.002229  6.338922e-07  0.184047  8.915175e-10\n",
       "\n",
       "[4039 rows x 4 columns]"
      ]
     },
     "execution_count": 16,
     "metadata": {},
     "output_type": "execute_result"
    }
   ],
   "source": [
    "X"
   ]
  },
  {
   "cell_type": "code",
   "execution_count": 17,
   "id": "b1aa868e",
   "metadata": {},
   "outputs": [
    {
     "data": {
      "text/html": [
       "<div>\n",
       "<style scoped>\n",
       "    .dataframe tbody tr th:only-of-type {\n",
       "        vertical-align: middle;\n",
       "    }\n",
       "\n",
       "    .dataframe tbody tr th {\n",
       "        vertical-align: top;\n",
       "    }\n",
       "\n",
       "    .dataframe thead th {\n",
       "        text-align: right;\n",
       "    }\n",
       "</style>\n",
       "<table border=\"1\" class=\"dataframe\">\n",
       "  <thead>\n",
       "    <tr style=\"text-align: right;\">\n",
       "      <th></th>\n",
       "      <th>Node</th>\n",
       "      <th>w_Node</th>\n",
       "      <th>DC</th>\n",
       "      <th>BC</th>\n",
       "      <th>CC</th>\n",
       "      <th>EC</th>\n",
       "      <th>C</th>\n",
       "    </tr>\n",
       "  </thead>\n",
       "  <tbody>\n",
       "    <tr>\n",
       "      <th>0</th>\n",
       "      <td>107</td>\n",
       "      <td>107</td>\n",
       "      <td>0.258791</td>\n",
       "      <td>0.480518</td>\n",
       "      <td>0.459699</td>\n",
       "      <td>2.606940e-04</td>\n",
       "      <td>0.927913</td>\n",
       "    </tr>\n",
       "    <tr>\n",
       "      <th>1</th>\n",
       "      <td>1684</td>\n",
       "      <td>1684</td>\n",
       "      <td>0.196137</td>\n",
       "      <td>0.337797</td>\n",
       "      <td>0.393606</td>\n",
       "      <td>7.164260e-06</td>\n",
       "      <td>0.696069</td>\n",
       "    </tr>\n",
       "    <tr>\n",
       "      <th>2</th>\n",
       "      <td>3437</td>\n",
       "      <td>3437</td>\n",
       "      <td>0.135463</td>\n",
       "      <td>0.236115</td>\n",
       "      <td>0.314413</td>\n",
       "      <td>9.531613e-08</td>\n",
       "      <td>0.488526</td>\n",
       "    </tr>\n",
       "    <tr>\n",
       "      <th>3</th>\n",
       "      <td>1912</td>\n",
       "      <td>1912</td>\n",
       "      <td>0.186974</td>\n",
       "      <td>0.229295</td>\n",
       "      <td>0.350947</td>\n",
       "      <td>9.540696e-02</td>\n",
       "      <td>0.480827</td>\n",
       "    </tr>\n",
       "    <tr>\n",
       "      <th>4</th>\n",
       "      <td>1085</td>\n",
       "      <td>1085</td>\n",
       "      <td>0.016345</td>\n",
       "      <td>0.149015</td>\n",
       "      <td>0.357852</td>\n",
       "      <td>3.164082e-06</td>\n",
       "      <td>0.308478</td>\n",
       "    </tr>\n",
       "    <tr>\n",
       "      <th>5</th>\n",
       "      <td>0</td>\n",
       "      <td>0</td>\n",
       "      <td>0.085934</td>\n",
       "      <td>0.146306</td>\n",
       "      <td>0.353343</td>\n",
       "      <td>3.391796e-05</td>\n",
       "      <td>0.303198</td>\n",
       "    </tr>\n",
       "    <tr>\n",
       "      <th>6</th>\n",
       "      <td>698</td>\n",
       "      <td>698</td>\n",
       "      <td>0.016840</td>\n",
       "      <td>0.115330</td>\n",
       "      <td>0.271189</td>\n",
       "      <td>1.116876e-09</td>\n",
       "      <td>0.238868</td>\n",
       "    </tr>\n",
       "    <tr>\n",
       "      <th>7</th>\n",
       "      <td>567</td>\n",
       "      <td>567</td>\n",
       "      <td>0.015602</td>\n",
       "      <td>0.096310</td>\n",
       "      <td>0.328881</td>\n",
       "      <td>9.932295e-06</td>\n",
       "      <td>0.199523</td>\n",
       "    </tr>\n",
       "    <tr>\n",
       "      <th>8</th>\n",
       "      <td>58</td>\n",
       "      <td>58</td>\n",
       "      <td>0.002972</td>\n",
       "      <td>0.084360</td>\n",
       "      <td>0.397402</td>\n",
       "      <td>5.898120e-04</td>\n",
       "      <td>0.174775</td>\n",
       "    </tr>\n",
       "    <tr>\n",
       "      <th>9</th>\n",
       "      <td>428</td>\n",
       "      <td>428</td>\n",
       "      <td>0.028479</td>\n",
       "      <td>0.064309</td>\n",
       "      <td>0.394837</td>\n",
       "      <td>5.990065e-04</td>\n",
       "      <td>0.133340</td>\n",
       "    </tr>\n",
       "    <tr>\n",
       "      <th>10</th>\n",
       "      <td>563</td>\n",
       "      <td>563</td>\n",
       "      <td>0.022536</td>\n",
       "      <td>0.062780</td>\n",
       "      <td>0.393913</td>\n",
       "      <td>6.011950e-04</td>\n",
       "      <td>0.130148</td>\n",
       "    </tr>\n",
       "    <tr>\n",
       "      <th>11</th>\n",
       "      <td>860</td>\n",
       "      <td>860</td>\n",
       "      <td>0.000495</td>\n",
       "      <td>0.057826</td>\n",
       "      <td>0.314927</td>\n",
       "      <td>4.601212e-08</td>\n",
       "      <td>0.119828</td>\n",
       "    </tr>\n",
       "    <tr>\n",
       "      <th>12</th>\n",
       "      <td>414</td>\n",
       "      <td>414</td>\n",
       "      <td>0.039376</td>\n",
       "      <td>0.047633</td>\n",
       "      <td>0.369543</td>\n",
       "      <td>1.213415e-05</td>\n",
       "      <td>0.098891</td>\n",
       "    </tr>\n",
       "    <tr>\n",
       "      <th>13</th>\n",
       "      <td>1577</td>\n",
       "      <td>1577</td>\n",
       "      <td>0.042100</td>\n",
       "      <td>0.039785</td>\n",
       "      <td>0.357187</td>\n",
       "      <td>7.162274e-03</td>\n",
       "      <td>0.082916</td>\n",
       "    </tr>\n",
       "    <tr>\n",
       "      <th>14</th>\n",
       "      <td>348</td>\n",
       "      <td>348</td>\n",
       "      <td>0.056711</td>\n",
       "      <td>0.037998</td>\n",
       "      <td>0.369916</td>\n",
       "      <td>1.458780e-05</td>\n",
       "      <td>0.079186</td>\n",
       "    </tr>\n",
       "    <tr>\n",
       "      <th>15</th>\n",
       "      <td>1718</td>\n",
       "      <td>1718</td>\n",
       "      <td>0.038385</td>\n",
       "      <td>0.037343</td>\n",
       "      <td>0.356651</td>\n",
       "      <td>4.524614e-03</td>\n",
       "      <td>0.077708</td>\n",
       "    </tr>\n",
       "    <tr>\n",
       "      <th>16</th>\n",
       "      <td>2266</td>\n",
       "      <td>2266</td>\n",
       "      <td>0.057949</td>\n",
       "      <td>0.001708</td>\n",
       "      <td>0.281708</td>\n",
       "      <td>8.698328e-02</td>\n",
       "      <td>0.067075</td>\n",
       "    </tr>\n",
       "  </tbody>\n",
       "</table>\n",
       "</div>"
      ],
      "text/plain": [
       "    Node  w_Node        DC        BC        CC            EC         C\n",
       "0    107     107  0.258791  0.480518  0.459699  2.606940e-04  0.927913\n",
       "1   1684    1684  0.196137  0.337797  0.393606  7.164260e-06  0.696069\n",
       "2   3437    3437  0.135463  0.236115  0.314413  9.531613e-08  0.488526\n",
       "3   1912    1912  0.186974  0.229295  0.350947  9.540696e-02  0.480827\n",
       "4   1085    1085  0.016345  0.149015  0.357852  3.164082e-06  0.308478\n",
       "5      0       0  0.085934  0.146306  0.353343  3.391796e-05  0.303198\n",
       "6    698     698  0.016840  0.115330  0.271189  1.116876e-09  0.238868\n",
       "7    567     567  0.015602  0.096310  0.328881  9.932295e-06  0.199523\n",
       "8     58      58  0.002972  0.084360  0.397402  5.898120e-04  0.174775\n",
       "9    428     428  0.028479  0.064309  0.394837  5.990065e-04  0.133340\n",
       "10   563     563  0.022536  0.062780  0.393913  6.011950e-04  0.130148\n",
       "11   860     860  0.000495  0.057826  0.314927  4.601212e-08  0.119828\n",
       "12   414     414  0.039376  0.047633  0.369543  1.213415e-05  0.098891\n",
       "13  1577    1577  0.042100  0.039785  0.357187  7.162274e-03  0.082916\n",
       "14   348     348  0.056711  0.037998  0.369916  1.458780e-05  0.079186\n",
       "15  1718    1718  0.038385  0.037343  0.356651  4.524614e-03  0.077708\n",
       "16  2266    2266  0.057949  0.001708  0.281708  8.698328e-02  0.067075"
      ]
     },
     "execution_count": 17,
     "metadata": {},
     "output_type": "execute_result"
    }
   ],
   "source": [
    "influential = pd.read_csv(\"Data/w_Out1.csv\")\n",
    "inf10 = influential.head(17)\n",
    "inf10"
   ]
  },
  {
   "cell_type": "code",
   "execution_count": 18,
   "id": "16260e0c",
   "metadata": {},
   "outputs": [
    {
     "data": {
      "text/plain": [
       "array([[2.58791481e-01, 4.80518079e-01, 4.59699454e-01, 2.60693991e-04],\n",
       "       [1.96136701e-01, 3.37797450e-01, 3.93605615e-01, 7.16425979e-06],\n",
       "       [1.35463101e-01, 2.36115357e-01, 3.14412520e-01, 9.53161293e-08],\n",
       "       [1.86973749e-01, 2.29295340e-01, 3.50947332e-01, 9.54069615e-02],\n",
       "       [1.63447251e-02, 1.49015092e-01, 3.57851826e-01, 3.16408207e-06],\n",
       "       [8.59336305e-02, 1.46305921e-01, 3.53342667e-01, 3.39179617e-05],\n",
       "       [1.68400198e-02, 1.15330450e-01, 2.71188717e-01, 1.11687629e-09],\n",
       "       [1.56017831e-02, 9.63103312e-02, 3.28880925e-01, 9.93229483e-06],\n",
       "       [2.97176820e-03, 8.43602059e-02, 3.97401831e-01, 5.89812015e-04],\n",
       "       [2.84794453e-02, 6.43090624e-02, 3.94837196e-01, 5.99006469e-04],\n",
       "       [2.25359089e-02, 6.27802285e-02, 3.93912789e-01, 6.01194972e-04],\n",
       "       [4.95294700e-04, 5.78259069e-02, 3.14927468e-01, 4.60121163e-08],\n",
       "       [3.93759287e-02, 4.76333730e-02, 3.69543333e-01, 1.21341498e-05],\n",
       "       [4.21000495e-02, 3.97847050e-02, 3.57187085e-01, 7.16227450e-03],\n",
       "       [5.67112432e-02, 3.79980975e-02, 3.69915720e-01, 1.45877999e-05],\n",
       "       [3.83853393e-02, 3.73428707e-02, 3.56650768e-01, 4.52461421e-03],\n",
       "       [5.79494799e-02, 1.70782019e-03, 2.81707828e-01, 8.69832777e-02]])"
      ]
     },
     "execution_count": 18,
     "metadata": {},
     "output_type": "execute_result"
    }
   ],
   "source": [
    "Y = inf10[[\"DC\",\"BC\",\"CC\",\"EC\"]]\n",
    "Yrr = Y.to_numpy()\n",
    "Yrr"
   ]
  },
  {
   "cell_type": "code",
   "execution_count": 19,
   "id": "93e1a23c",
   "metadata": {},
   "outputs": [
    {
     "name": "stdout",
     "output_type": "stream",
     "text": [
      "Enter the number of the top influential nodes:10\n"
     ]
    }
   ],
   "source": [
    "#User\n",
    "K = int(input(\"Enter the number of the top influential nodes:\"))"
   ]
  },
  {
   "cell_type": "code",
   "execution_count": 20,
   "id": "504a58de",
   "metadata": {},
   "outputs": [
    {
     "ename": "TypeError",
     "evalue": "'<=' not supported between instances of 'str' and 'int'",
     "output_type": "error",
     "traceback": [
      "\u001b[1;31m---------------------------------------------------------------------------\u001b[0m",
      "\u001b[1;31mTypeError\u001b[0m                                 Traceback (most recent call last)",
      "\u001b[1;32m~\\AppData\\Local\\Temp\\ipykernel_16720\\3564439862.py\u001b[0m in \u001b[0;36m<module>\u001b[1;34m\u001b[0m\n\u001b[1;32m----> 1\u001b[1;33m \u001b[0mkmeans\u001b[0m \u001b[1;33m=\u001b[0m \u001b[0mKMeans\u001b[0m\u001b[1;33m(\u001b[0m\u001b[0mn_clusters\u001b[0m\u001b[1;33m=\u001b[0m\u001b[0mK\u001b[0m\u001b[1;33m,\u001b[0m \u001b[0minit\u001b[0m\u001b[1;33m=\u001b[0m\u001b[0mYrr\u001b[0m\u001b[1;33m,\u001b[0m \u001b[0mmax_iter\u001b[0m\u001b[1;33m=\u001b[0m\u001b[1;36m20000\u001b[0m\u001b[1;33m,\u001b[0m \u001b[0mn_init\u001b[0m\u001b[1;33m=\u001b[0m\u001b[1;34m\"k-means++\"\u001b[0m\u001b[1;33m,\u001b[0m \u001b[0mrandom_state\u001b[0m\u001b[1;33m=\u001b[0m\u001b[1;36m0\u001b[0m\u001b[1;33m)\u001b[0m\u001b[1;33m.\u001b[0m\u001b[0mfit\u001b[0m\u001b[1;33m(\u001b[0m\u001b[0mX\u001b[0m\u001b[1;33m)\u001b[0m\u001b[1;33m\u001b[0m\u001b[1;33m\u001b[0m\u001b[0m\n\u001b[0m",
      "\u001b[1;32m~\\anaconda3\\lib\\site-packages\\sklearn\\cluster\\_kmeans.py\u001b[0m in \u001b[0;36mfit\u001b[1;34m(self, X, y, sample_weight)\u001b[0m\n\u001b[0;32m   1144\u001b[0m         )\n\u001b[0;32m   1145\u001b[0m \u001b[1;33m\u001b[0m\u001b[0m\n\u001b[1;32m-> 1146\u001b[1;33m         \u001b[0mself\u001b[0m\u001b[1;33m.\u001b[0m\u001b[0m_check_params\u001b[0m\u001b[1;33m(\u001b[0m\u001b[0mX\u001b[0m\u001b[1;33m)\u001b[0m\u001b[1;33m\u001b[0m\u001b[1;33m\u001b[0m\u001b[0m\n\u001b[0m\u001b[0;32m   1147\u001b[0m         \u001b[0mrandom_state\u001b[0m \u001b[1;33m=\u001b[0m \u001b[0mcheck_random_state\u001b[0m\u001b[1;33m(\u001b[0m\u001b[0mself\u001b[0m\u001b[1;33m.\u001b[0m\u001b[0mrandom_state\u001b[0m\u001b[1;33m)\u001b[0m\u001b[1;33m\u001b[0m\u001b[1;33m\u001b[0m\u001b[0m\n\u001b[0;32m   1148\u001b[0m         \u001b[0msample_weight\u001b[0m \u001b[1;33m=\u001b[0m \u001b[0m_check_sample_weight\u001b[0m\u001b[1;33m(\u001b[0m\u001b[0msample_weight\u001b[0m\u001b[1;33m,\u001b[0m \u001b[0mX\u001b[0m\u001b[1;33m,\u001b[0m \u001b[0mdtype\u001b[0m\u001b[1;33m=\u001b[0m\u001b[0mX\u001b[0m\u001b[1;33m.\u001b[0m\u001b[0mdtype\u001b[0m\u001b[1;33m)\u001b[0m\u001b[1;33m\u001b[0m\u001b[1;33m\u001b[0m\u001b[0m\n",
      "\u001b[1;32m~\\anaconda3\\lib\\site-packages\\sklearn\\cluster\\_kmeans.py\u001b[0m in \u001b[0;36m_check_params\u001b[1;34m(self, X)\u001b[0m\n\u001b[0;32m    935\u001b[0m     \u001b[1;32mdef\u001b[0m \u001b[0m_check_params\u001b[0m\u001b[1;33m(\u001b[0m\u001b[0mself\u001b[0m\u001b[1;33m,\u001b[0m \u001b[0mX\u001b[0m\u001b[1;33m)\u001b[0m\u001b[1;33m:\u001b[0m\u001b[1;33m\u001b[0m\u001b[1;33m\u001b[0m\u001b[0m\n\u001b[0;32m    936\u001b[0m         \u001b[1;31m# n_init\u001b[0m\u001b[1;33m\u001b[0m\u001b[1;33m\u001b[0m\u001b[0m\n\u001b[1;32m--> 937\u001b[1;33m         \u001b[1;32mif\u001b[0m \u001b[0mself\u001b[0m\u001b[1;33m.\u001b[0m\u001b[0mn_init\u001b[0m \u001b[1;33m<=\u001b[0m \u001b[1;36m0\u001b[0m\u001b[1;33m:\u001b[0m\u001b[1;33m\u001b[0m\u001b[1;33m\u001b[0m\u001b[0m\n\u001b[0m\u001b[0;32m    938\u001b[0m             \u001b[1;32mraise\u001b[0m \u001b[0mValueError\u001b[0m\u001b[1;33m(\u001b[0m\u001b[1;34mf\"n_init should be > 0, got {self.n_init} instead.\"\u001b[0m\u001b[1;33m)\u001b[0m\u001b[1;33m\u001b[0m\u001b[1;33m\u001b[0m\u001b[0m\n\u001b[0;32m    939\u001b[0m         \u001b[0mself\u001b[0m\u001b[1;33m.\u001b[0m\u001b[0m_n_init\u001b[0m \u001b[1;33m=\u001b[0m \u001b[0mself\u001b[0m\u001b[1;33m.\u001b[0m\u001b[0mn_init\u001b[0m\u001b[1;33m\u001b[0m\u001b[1;33m\u001b[0m\u001b[0m\n",
      "\u001b[1;31mTypeError\u001b[0m: '<=' not supported between instances of 'str' and 'int'"
     ]
    }
   ],
   "source": [
    "kmeans = KMeans(n_clusters=K, init=Yrr, max_iter=20000, n_init=\"k-means++\", random_state=0).fit(X)"
   ]
  },
  {
   "cell_type": "code",
   "execution_count": null,
   "id": "05d2bb40",
   "metadata": {},
   "outputs": [],
   "source": [
    "#Communities\n",
    "label=kmeans.fit_predict(X)\n",
    "for i in (label):\n",
    "    print(i)"
   ]
  },
  {
   "cell_type": "code",
   "execution_count": null,
   "id": "c3bd6a1b",
   "metadata": {},
   "outputs": [],
   "source": [
    "#centroîds after KMeans\n",
    "centr = kmeans.cluster_centers_\n",
    "centr"
   ]
  },
  {
   "cell_type": "code",
   "execution_count": null,
   "id": "e99e7e28",
   "metadata": {},
   "outputs": [],
   "source": [
    "def distance_euclidean(data,center,j):\n",
    "    T= pd.DataFrame()\n",
    "    for i in range(len(data)):\n",
    "        distance=math.sqrt((data['DC'][i]-center[j][0])**2+(data['BC'][i]-center[j][1])**2+\n",
    "                           (data['CC'][i]-center[j][2])**2+(data['EC'][i]-center[j][3])**2)\n",
    "        T=T.append({'Node':data['Node'][i], 'cluster':str(j),'distance from center':distance},ignore_index=True)\n",
    "    return T.sort_values(by='distance from center')"
   ]
  },
  {
   "cell_type": "code",
   "execution_count": null,
   "id": "282a8e90",
   "metadata": {},
   "outputs": [],
   "source": [
    "Res= pd.DataFrame()\n",
    "for i in range(17):\n",
    "    T=distance_euclidean(data,centr,i)\n",
    "    Res=Res.append({'cluster':str(i), 'Node_before_KMeans':str(inf10['Node'][i]),\n",
    "                    'Node_after_KMeans':int(T.head(1)['Node']),\n",
    "                    'distance from center':float(T.head(1)['distance from center'])},ignore_index=True)"
   ]
  },
  {
   "cell_type": "code",
   "execution_count": null,
   "id": "47a2deea",
   "metadata": {},
   "outputs": [],
   "source": [
    "Res"
   ]
  },
  {
   "cell_type": "code",
   "execution_count": null,
   "id": "da756dae",
   "metadata": {},
   "outputs": [],
   "source": [
    "Res[\"Node_after_KMeans\"] = Res[\"Node_after_KMeans\"].astype(int)"
   ]
  },
  {
   "cell_type": "code",
   "execution_count": null,
   "id": "1f55fa58",
   "metadata": {},
   "outputs": [],
   "source": [
    "Res[\"Node_after_KMeans\"]"
   ]
  },
  {
   "cell_type": "code",
   "execution_count": null,
   "id": "f16bf984",
   "metadata": {},
   "outputs": [],
   "source": [
    "Res[\"Node_after_KMeans\"]"
   ]
  },
  {
   "cell_type": "code",
   "execution_count": null,
   "id": "b00c74b1",
   "metadata": {},
   "outputs": [],
   "source": [
    "#convert to DataFrame\n",
    "lab = pd.DataFrame(label, columns=['center'])\n",
    "lab"
   ]
  },
  {
   "cell_type": "code",
   "execution_count": null,
   "id": "0994b404",
   "metadata": {
    "scrolled": true
   },
   "outputs": [],
   "source": [
    "#Community of each Node\n",
    "community = pd.concat([data, lab], axis=1)\n",
    "community.head(40)\n"
   ]
  },
  {
   "cell_type": "code",
   "execution_count": null,
   "id": "54571d5a",
   "metadata": {
    "scrolled": true
   },
   "outputs": [],
   "source": [
    "gk = community.groupby('center')\n",
    "n=gk.first()\n",
    "n"
   ]
  },
  {
   "cell_type": "code",
   "execution_count": null,
   "id": "c16e9d4f",
   "metadata": {},
   "outputs": [],
   "source": [
    "commNum = community['Node'].to_numpy()"
   ]
  },
  {
   "cell_type": "code",
   "execution_count": null,
   "id": "69afdce6",
   "metadata": {},
   "outputs": [],
   "source": [
    " community"
   ]
  },
  {
   "cell_type": "code",
   "execution_count": null,
   "id": "d023d940",
   "metadata": {},
   "outputs": [],
   "source": [
    "recomm = Res[\"Node_after_KMeans\"]\n",
    "recomm"
   ]
  },
  {
   "cell_type": "code",
   "execution_count": null,
   "id": "9acd303f",
   "metadata": {},
   "outputs": [],
   "source": [
    "recomm[12]"
   ]
  },
  {
   "cell_type": "code",
   "execution_count": null,
   "id": "bfd313e8",
   "metadata": {},
   "outputs": [],
   "source": [
    "df1=[]\n",
    "df2=[]\n",
    "df3=[]\n",
    "df4=[]\n",
    "df5=[]\n",
    "for i in range(K):\n",
    "    for j in range(row):\n",
    "        if (recomm[i] == data['Node'][j]):\n",
    "            df1.append(data['Node'][j].tolist())\n",
    "            df2.append(data['DC'][j].tolist())\n",
    "            df3.append(data['BC'][j].tolist())\n",
    "            df4.append(data['CC'][j].tolist())\n",
    "            df5.append(data['EC'][j].tolist())\n",
    "\n",
    "            \n",
    "#df = pd.DataFrame(df1,df2,df3,df4,df5,columns = ['Node','DC','BC','CC','EC'])\n",
    "list1 = [df1,df2,df3,df4,df5]"
   ]
  },
  {
   "cell_type": "code",
   "execution_count": null,
   "id": "3cbd4011",
   "metadata": {},
   "outputs": [],
   "source": [
    "dff1 = pd.DataFrame(df1,columns = ['Node'])\n",
    "dff2 = pd.DataFrame(df2,columns = ['DC'])\n",
    "dff3 = pd.DataFrame(df3,columns = ['BC'])\n",
    "dff4 = pd.DataFrame(df4,columns = ['CC'])\n",
    "dff5 = pd.DataFrame(df5,columns = ['EC'])"
   ]
  },
  {
   "cell_type": "code",
   "execution_count": null,
   "id": "8a2b0add",
   "metadata": {},
   "outputs": [],
   "source": [
    "Final_Tab = pd.concat([dff1,dff2,dff3,dff4,dff5],axis=1)\n",
    "Final_Tab"
   ]
  },
  {
   "cell_type": "code",
   "execution_count": null,
   "id": "bd7c4a8c",
   "metadata": {},
   "outputs": [],
   "source": [
    "FF = pd.DataFrame(Final_Tab.loc[1])\n",
    "FF.T"
   ]
  },
  {
   "cell_type": "code",
   "execution_count": null,
   "id": "6e28a69e",
   "metadata": {},
   "outputs": [],
   "source": [
    "#Regrouper les communitées dans une  list comm\n",
    "#à l'intérieur de chaque liste on trouve les noeuds appartient à une communauté \n",
    "comm = []\n",
    "for i in range(K):\n",
    "    comm.append(gk.get_group(i)['Node'].tolist())\n"
   ]
  },
  {
   "cell_type": "code",
   "execution_count": null,
   "id": "0ec79600",
   "metadata": {},
   "outputs": [],
   "source": [
    "print(\"Nodes of community 4 \",comm[4],\"\\nNode of community 5 \",comm[5])"
   ]
  },
  {
   "cell_type": "code",
   "execution_count": null,
   "id": "88baf81c",
   "metadata": {},
   "outputs": [],
   "source": [
    "print(\"Nodes of community 7 \",comm[7],\"\\nNode of community 8 \",comm[8],\"\\nNode of community 9 \",comm[9])"
   ]
  },
  {
   "cell_type": "code",
   "execution_count": null,
   "id": "e6f79e11",
   "metadata": {},
   "outputs": [],
   "source": [
    "print(\"Nodes of community 0 \",comm[0],\"\\nNode of community 1 \",comm[1])"
   ]
  },
  {
   "cell_type": "code",
   "execution_count": null,
   "id": "e56a20d7",
   "metadata": {},
   "outputs": [],
   "source": [
    "Comm= []\n",
    "for i in range(K):\n",
    "    print(\"Nodes of Community [\",i,\"] =\",comm[i])\n",
    "    "
   ]
  },
  {
   "cell_type": "code",
   "execution_count": null,
   "id": "2a47d91a",
   "metadata": {},
   "outputs": [],
   "source": [
    "for i in  range(K):\n",
    "    with open(absolute_path+\"k_\"+ str(i) +\".txt\", 'w') as fp:\n",
    "        for item in comm[i]:\n",
    "            print(item)\n",
    "            for j in range(row):\n",
    "                if edge_mat[item][j]==1 and j in comm[i]:\n",
    "                    items = str(item)+ ' ' +str(j)\n",
    "                    fp.write( \"%s\\n\" % items )\n",
    "                    print(' \\t node '+str(item) + ' is connected with :'+str(j))\n",
    "        print( 'Done adding k_'+ str(i) )\n",
    "    Graph = nx.read_edgelist(absolute_path+\"k_\"+ str(i) +\".txt\",create_using=nx.Graph(),nodetype=int)\n",
    "    sp = nx.spring_layout(Graph)\n",
    "    nx.draw_networkx(Graph,pos=sp,node_color='red',with_labels=True,edgecolors='black',node_size=500)\n",
    "    plt.show()"
   ]
  },
  {
   "cell_type": "code",
   "execution_count": null,
   "id": "c7407ace",
   "metadata": {},
   "outputs": [],
   "source": [
    "from math import *\n",
    "import import_ipynb \n",
    "from TOPSIS import Topsis"
   ]
  },
  {
   "cell_type": "code",
   "execution_count": null,
   "id": "f2d8f691",
   "metadata": {},
   "outputs": [],
   "source": [
    "\n",
    "def apply_topsis(dx):    \n",
    "    Graph = nx.read_edgelist(absolute_path+\"k_\"+ str(dx) +\".txt\",create_using=nx.Graph(),nodetype=int)\n",
    "    sp = nx.spring_layout(Graph)\n",
    "    nx.draw_networkx(Graph,pos=sp,node_color='red',with_labels=True,edgecolors='black',node_size=500)\n",
    "    row = Graph.number_of_nodes()\n",
    "    print(row)\n",
    "    plt.rcParams.update({'figure.figsize': (15, 10)})\n",
    "    deg_centrality = nx.degree_centrality(Graph)\n",
    "    bet_centrality = nx.betweenness_centrality(Graph)\n",
    "    close_centrality = nx.closeness_centrality(Graph)\n",
    "    eig_centrality=nx.eigenvector_centrality(Graph)\n",
    "    Matrix=pd.DataFrame()\n",
    "    for noued in Graph:\n",
    "    #add the name of each node with its measures centrality\n",
    "        Matrix=Matrix.append({'Node':str(noued), 'DC':deg_centrality[noued], 'BC':bet_centrality[noued],\n",
    "                        'CC':close_centrality[noued], 'EC':eig_centrality[noued]},ignore_index=True)\n",
    "    Matrix.to_csv(absolute_path+\"data/Matrix.csv\" ,index=False)\n",
    "    Matrix_arr= Matrix[['DC','BC','CC','EC']].to_numpy()\n",
    "    m = row\n",
    "    ev_matrix_np = Matrix_arr\n",
    "    sum = np.zeros(4)\n",
    "\n",
    "    for i in range(m):\n",
    "        for j in range(4):\n",
    "            sum[j] += ev_matrix_np[i][j]\n",
    "\n",
    "    p = np.copy(ev_matrix_np)\n",
    "\n",
    "    for i in range(m):\n",
    "        for j in range(4):\n",
    "            p[i][j] = ev_matrix_np[i][j]/sum[j]\n",
    "    k = 1/log(m)\n",
    "    E = []\n",
    "    for j in range(4):\n",
    "        temp_sum = 0\n",
    "        for i in range(m):\n",
    "            try:\n",
    "                pij = p[i][j]\n",
    "                temp_sum += pij*log(pij)\n",
    "            except:\n",
    "                pij = 1\n",
    "                temp_sum += pij*log(pij)\n",
    "        E.append(-k*temp_sum)\n",
    "    D = []\n",
    "    for i in range(4):\n",
    "        D.append(1-E[i])\n",
    "    sm = np.sum(D)\n",
    "    weights = [D[i]/sm for i in range(4)]\n",
    "    weights\n",
    "    Evaluation_matrix = Matrix_arr\n",
    "\n",
    "    criteria = np.array([True,True,True,True])\n",
    "\n",
    "    T = Topsis(Evaluation_matrix,weights,criteria)\n",
    "    print(T.calc())\n",
    "    print(\"best_distance\\t\", T.best_distance)\n",
    "    print(\"worst_distance\\t\", T.worst_distance)\n",
    "    print(\"worst_similarity\\t\", T.worst_similarity)\n",
    "    print(\"rank_to_worst_similarity\\t\", T.rank_to_worst_similarity())\n",
    "    print(\"best_similarity\\t\", T.best_similarity)\n",
    "    print(\"rank_to_best_similarity\\t\", T.rank_to_best_similarity())\n",
    "    #Convert S+ and S- to array numpy\n",
    "    Best_Dist = np.array(T.best_distance)\n",
    "    Worst_Dist = np.array(T.worst_distance)\n",
    "# Calculate Closness\n",
    "    Closnness = []\n",
    "    Closnness = Worst_Dist / (Worst_Dist + Best_Dist)\n",
    "# print(Closnness)\n",
    "#Convert S+, S- and Closnness to DataFrame \n",
    "    Worst_Distance = pd.DataFrame(Worst_Dist,columns=['S-'])\n",
    "    Best_Distance = pd.DataFrame(Best_Dist,columns=['S+'])\n",
    "    Clos = pd.DataFrame(Closnness,columns=['C'])\n",
    "# Concatenate results\n",
    "    Out = pd.concat([Best_Distance, Worst_Distance, Clos], axis=1)\n",
    "# print(Out)\n",
    "#sort DataFrame by Closnness Column (Descending)\n",
    "    Out = Out.sort_values(by=\"C\",ascending=False)\n",
    "# Out\n",
    "\n",
    "# Save it into a csv file (out.csv)\n",
    "    Out.to_csv(absolute_path+\"data/Out_\"+ str(dx) +\".csv\",index=False)\n",
    "#Call the function Ranking_closness\n",
    "#Function return the index of the grather value(Closness vector) based on a descending order\n",
    "    def ranking_closness(data):\n",
    "        return [i for i in data.argsort()[-len(data):][::-1]]\n",
    "#Call the function Ranking_closness\n",
    "    C = ranking_closness(Closnness)\n",
    "#retrieve the nodes that correspond to the indices returned by the function above\n",
    "    Tab = []\n",
    "    for i in range(len(C)):\n",
    "        Tab.append(Matrix['Node'].loc[C[i]])\n",
    "#Convert Tab above to DataFrame \n",
    "    Tab_Data=pd.DataFrame(Tab,columns=[\"Node\"])\n",
    "\n",
    "    Tab_Data[\"Node\"].to_csv(absolute_path+\"data/cluster_topsis/Topsis_\"+ str(dx) +\".csv\",index=False)\n",
    "    Final_Tab = pd.concat([pd.read_csv(absolute_path+\"data/Out_\"+ str(dx) +\".csv\"),Tab_Data],axis=1)\n",
    "    print(Final_Tab)\n",
    "\n",
    "    Out1 = pd.concat([Matrix], axis=1)\n",
    "# Out1\n",
    "  #  Out1 = Out1.sort_values(by=\"C\",ascending=False)\n",
    "# Out1\n",
    "\n",
    "# Save it into a csv file (out.csv)\n",
    "    Out1.to_csv(absolute_path+\"data/Out1_\"+ str(dx) +\".csv\",index=False)\n",
    "    # Final_Tab1 = pd.concat([pd.read_csv(absolute_path+\"data/Out1_\"+ str(dx) +\".csv\")],axis=1)\n",
    "    res= pd.concat([pd.read_csv(absolute_path+\"data/Out1_\"+ str(dx) +\".csv\")],axis=1)\n",
    "    res.to_csv(absolute_path+\"data/res/res_\"+ str(dx) +\".csv\",index=False)\n",
    "    \n",
    "    "
   ]
  },
  {
   "cell_type": "code",
   "execution_count": null,
   "id": "1af4b27a",
   "metadata": {},
   "outputs": [],
   "source": [
    "# Applying topsis on each cluster.\n",
    "import os \n",
    "for i in range(K):\n",
    "    file_size = os.stat(absolute_path+'k_'+str(i)+'.txt').st_size\n",
    "    if file_size == 0:\n",
    "        print('cluster ',i,':')\n",
    "        FF = pd.DataFrame(Final_Tab.loc[i])\n",
    "        print(FF.T)\n",
    "    else:\n",
    "        print('cluster ',i,':')\n",
    "        apply_topsis(i)"
   ]
  },
  {
   "cell_type": "code",
   "execution_count": null,
   "id": "83153e0f",
   "metadata": {
    "scrolled": true
   },
   "outputs": [],
   "source": [
    "for i in range(K):\n",
    "    res =absolute_path+\"data/res/res_\"+ str(i)+'.csv'\n",
    "    path = res\n",
    "    if(os.path.isfile(path) == False):\n",
    "        print('cluster',i,':')\n",
    "        FF = pd.DataFrame(Final_Tab.loc[i])\n",
    "        res = FF.T\n",
    "        print(res)\n",
    "    else:\n",
    "        print('clusterS',i,':')\n",
    "        res = pd.read_csv(absolute_path+\"data/res/res_\"+ str(i) +\".csv\")\n",
    "        res =res.head(1)\n",
    "        print(res)\n",
    "    res.to_csv(absolute_path+'data/res1/res_'+str(i)+'.csv', index=False, encoding='utf-8-sig')\n",
    "        "
   ]
  },
  {
   "cell_type": "code",
   "execution_count": null,
   "id": "8aae049f",
   "metadata": {},
   "outputs": [],
   "source": [
    "#then let's take the first node in each cluster and concatenat theme in one file \n",
    "# named final_res\n",
    "import glob\n",
    "ss = absolute_path+'data/res1/'\n",
    "extension = 'csv'\n",
    "all_filenames = [i for i in glob.glob(ss+'*.csv')]\n",
    "#combine all files in the list\n",
    "combined_csv = pd.concat([pd.read_csv(f) for f in all_filenames ])\n",
    "\n",
    "#export to csv\n",
    "combined_csv.to_csv(absolute_path+\"data/res/final_res.csv\", index=True, encoding='utf-8-sig')\n",
    "print(combined_csv)\n"
   ]
  },
  {
   "cell_type": "code",
   "execution_count": null,
   "id": "2d92ce97",
   "metadata": {},
   "outputs": [],
   "source": [
    "for dx in range(K):\n",
    "        DCR = combined_csv[[\"Node\", \"DC\"]]\n",
    "        DCR = DCR.sort_values(by='DC', ascending=False)\n",
    "        DCR.rename(columns = {'Node':'DCN'}, inplace=True)\n",
    "\n",
    "        DCR[\"DCN\"].to_csv(absolute_path+\"data/nodeK/DCR\"+ str(dx) +\".csv\",index=False)\n",
    "        \n",
    "        Node = combined_csv[[\"Node\"]]\n",
    "        Node['Node'].to_csv(absolute_path+\"data/nodeK/Node\"+ str(dx) +\".csv\",index=False)\n",
    "#The top-10 ranked nodes by betweenness centrality (BC)\n",
    "        BCR = combined_csv[[\"Node\", \"BC\"]]\n",
    "        BCR = BCR.sort_values(by='BC', ascending=False)\n",
    "        BCR.rename(columns = {'Node':'BCN'}, inplace=True)\n",
    "\n",
    "        BCR[\"BCN\"].to_csv(absolute_path+\"data/nodeK/BCR\"+ str(dx) +\".csv\",index=False)\n",
    "\n",
    "\n",
    "\n",
    "#The top-10 ranked nodes by closeness centrality (CC)\n",
    "        CCR = combined_csv[[\"Node\", \"CC\"]]\n",
    "        CCR = CCR.sort_values(by='CC', ascending=False)\n",
    "        CCR.rename(columns = {'Node':'CCN'}, inplace=True)\n",
    "\n",
    "        CCR[\"CCN\"].to_csv(absolute_path+\"data/nodeK/CCR\"+ str(dx) +\".csv\",index=False)\n",
    "\n",
    "\n",
    "#The top-10 ranked nodes by eigenvector centrality (EC)\n",
    "        ECR = combined_csv[[\"Node\", \"EC\"]]\n",
    "        ECR = ECR.sort_values(by='EC', ascending=False)\n",
    "        ECR.rename(columns = {'Node':'ECN'}, inplace=True)\n",
    "\n",
    "        ECR[\"ECN\"].to_csv(absolute_path+\"data/nodeK/ECR\"+ str(dx) +\".csv\",index=False)\n",
    "\n",
    "\n",
    "\n",
    "        facebookK = pd.concat([pd.read_csv(absolute_path+\"data/nodeK/Node\"+ str(dx) +\".csv\"),pd.read_csv(absolute_path+\"data/nodeK/DCR\"+ str(dx) +\".csv\"),pd.read_csv(absolute_path+\"data/nodeK/BCR\"+ str(dx) +\".csv\"), pd.read_csv(absolute_path+\"data/nodeK/CCR\"+ str(dx) +\".csv\"), pd.read_csv(absolute_path+\"data/nodeK/ECR\"+ str(dx) +\".csv\")],axis=1)\n",
    "\n",
    "facebookK.to_csv(absolute_path+\"data/dataFilterK/data.csv\",index=False)\n",
    "    "
   ]
  },
  {
   "cell_type": "code",
   "execution_count": null,
   "id": "d71e40a5",
   "metadata": {},
   "outputs": [],
   "source": [
    "facebookK"
   ]
  },
  {
   "cell_type": "code",
   "execution_count": null,
   "id": "98650cee",
   "metadata": {},
   "outputs": [],
   "source": [
    "import ndlib.models.ModelConfig as mc\n",
    "import ndlib.models.epidemics as ep"
   ]
  },
  {
   "cell_type": "code",
   "execution_count": null,
   "id": "24fd1d91",
   "metadata": {},
   "outputs": [],
   "source": [
    "w_facebook = pd.read_csv(\"Data/w_topsisData.csv\")\n",
    "w_facebook"
   ]
  },
  {
   "cell_type": "code",
   "execution_count": null,
   "id": "f09a65c8",
   "metadata": {},
   "outputs": [],
   "source": [
    "def SI(node):\n",
    "    n = row\n",
    "    model = ep.SIModel(G)\n",
    "    cfg = mc.Configuration()\n",
    "    cfg.add_model_parameter('beta', 1)\n",
    "    cfg.add_model_initial_configuration('Infected', node)\n",
    "    model.set_initial_status(cfg)\n",
    "    res = pd.DataFrame(columns=['iteration', 'nb_Susceptible', 'Nb_infected'])\n",
    "    for i in range(n):\n",
    "        iteration = model.iteration()\n",
    "        res.loc[len(res.index)] = [iteration['iteration'],iteration['node_count'][0], iteration['node_count'][1] ]\n",
    "        if iteration['node_count'][1] == n:\n",
    "            break \n",
    "    return res"
   ]
  },
  {
   "cell_type": "code",
   "execution_count": null,
   "id": "42114168",
   "metadata": {},
   "outputs": [],
   "source": [
    "Rank_DC = SI(set(facebookK['DCN']))\n",
    "Rank_BC = SI(set(facebookK['BCN']))\n",
    "Rank_CC = SI(set(facebookK['ECN']))\n",
    "Rank_EC = SI(set(facebookK['CCN']))\n",
    "Rank_kmeans = SI(set(facebookK['Node']))"
   ]
  },
  {
   "cell_type": "code",
   "execution_count": null,
   "id": "d460abb2",
   "metadata": {},
   "outputs": [],
   "source": [
    "w_Rank_DC = SI(set(w_facebook['w_DCN']))\n",
    "w_Rank_BC = SI(set(w_facebook['w_BCN']))\n",
    "w_Rank_CC = SI (set(w_facebook['w_CCN']))\n",
    "w_Rank_EC = SI(set(w_facebook['w_ECN']))\n",
    "w_Rank_Topsis = SI(set(w_facebook['w_Node']))"
   ]
  },
  {
   "cell_type": "code",
   "execution_count": null,
   "id": "51cd7081",
   "metadata": {},
   "outputs": [],
   "source": [
    "fig, axs = plt.subplots(2, 2, figsize=(15, 9))\n",
    "axs[0, 0].plot(w_Rank_DC['iteration'], w_Rank_DC['Nb_infected'], label=\"DC\")\n",
    "axs[0, 0].plot(Rank_kmeans['iteration'],Rank_kmeans['Nb_infected'], label=\"KMeans\")\n",
    "axs[0, 0].plot(w_Rank_Topsis['iteration'], w_Rank_Topsis['Nb_infected'], label=\"w_Topsis\")\n",
    "axs[0, 0].set_title(\"DC vs kmeans vs w_Topsis\")\n",
    "axs[0, 0].legend()\n",
    "\n",
    "axs[0, 1].plot(w_Rank_BC['iteration'], w_Rank_BC['Nb_infected'], label=\"BC\")\n",
    "axs[0, 1].plot(Rank_kmeans['iteration'], Rank_kmeans['Nb_infected'], label=\"KMeans\")\n",
    "axs[0, 1].plot(w_Rank_Topsis['iteration'], w_Rank_Topsis['Nb_infected'], label=\"w_Topsis\")\n",
    "axs[0, 1].set_title(\"BC vs Kmeans vs w_Topsis\")\n",
    "axs[0, 1].legend()\n",
    "\n",
    "axs[1, 0].plot(w_Rank_CC['iteration'], w_Rank_CC['Nb_infected'], label=\"CC\")\n",
    "axs[1, 0].plot(Rank_kmeans['iteration'], Rank_kmeans['Nb_infected'], label=\"KMeans\")\n",
    "axs[1, 0].plot(w_Rank_Topsis['iteration'], w_Rank_Topsis['Nb_infected'], label=\"w_Topsis\")\n",
    "axs[1, 0].set_title(\"CC vs Kmeans w_Topsis\")\n",
    "axs[1, 0].legend()\n",
    "\n",
    "axs[1, 1].plot(w_Rank_EC['iteration'], w_Rank_EC['Nb_infected'], label=\"EC\")\n",
    "axs[1, 1].plot(Rank_kmeans['iteration'], Rank_kmeans['Nb_infected'], label=\"KMeans\")\n",
    "axs[1, 1].plot(w_Rank_Topsis['iteration'], w_Rank_Topsis['Nb_infected'], label=\"w_Topsis\")\n",
    "axs[1, 1].set_title(\"EC vs Kmeans vs w_Topsis\")\n",
    "axs[1, 1].legend()\n",
    "\n",
    "for ax in axs.flat:\n",
    "    ax.set(xlabel='t', ylabel='F(t)')"
   ]
  },
  {
   "cell_type": "code",
   "execution_count": null,
   "id": "b06570dd",
   "metadata": {},
   "outputs": [],
   "source": []
  },
  {
   "cell_type": "code",
   "execution_count": null,
   "id": "2331ecaf",
   "metadata": {},
   "outputs": [],
   "source": []
  },
  {
   "cell_type": "code",
   "execution_count": null,
   "id": "a6ec1946",
   "metadata": {},
   "outputs": [],
   "source": []
  },
  {
   "cell_type": "code",
   "execution_count": null,
   "id": "1a2bb3e6",
   "metadata": {},
   "outputs": [],
   "source": []
  },
  {
   "cell_type": "code",
   "execution_count": null,
   "id": "6d05b7b7",
   "metadata": {},
   "outputs": [],
   "source": []
  },
  {
   "cell_type": "code",
   "execution_count": null,
   "id": "f1cc1985",
   "metadata": {},
   "outputs": [],
   "source": []
  },
  {
   "cell_type": "code",
   "execution_count": null,
   "id": "1ad3548a",
   "metadata": {},
   "outputs": [],
   "source": []
  },
  {
   "cell_type": "code",
   "execution_count": null,
   "id": "cc02eb3c",
   "metadata": {},
   "outputs": [],
   "source": []
  },
  {
   "cell_type": "code",
   "execution_count": null,
   "id": "281be20a",
   "metadata": {},
   "outputs": [],
   "source": []
  }
 ],
 "metadata": {
  "kernelspec": {
   "display_name": "Python 3 (ipykernel)",
   "language": "python",
   "name": "python3"
  },
  "language_info": {
   "codemirror_mode": {
    "name": "ipython",
    "version": 3
   },
   "file_extension": ".py",
   "mimetype": "text/x-python",
   "name": "python",
   "nbconvert_exporter": "python",
   "pygments_lexer": "ipython3",
   "version": "3.9.13"
  }
 },
 "nbformat": 4,
 "nbformat_minor": 5
}
